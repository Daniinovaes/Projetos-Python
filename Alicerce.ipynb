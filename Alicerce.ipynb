{
 "cells": [
  {
   "cell_type": "markdown",
   "id": "a9aeb5c1",
   "metadata": {},
   "source": [
    "## Instalando Pacotes"
   ]
  },
  {
   "cell_type": "code",
   "execution_count": 1,
   "id": "f4b924da",
   "metadata": {
    "scrolled": true
   },
   "outputs": [
    {
     "name": "stdout",
     "output_type": "stream",
     "text": [
      "Requirement already satisfied: jupyter-dash in /Users/daniellylima/opt/anaconda3/lib/python3.9/site-packages (0.4.1)\n",
      "Requirement already satisfied: dash in /Users/daniellylima/opt/anaconda3/lib/python3.9/site-packages (from jupyter-dash) (2.3.0)\n",
      "Requirement already satisfied: ansi2html in /Users/daniellylima/opt/anaconda3/lib/python3.9/site-packages (from jupyter-dash) (1.7.0)\n",
      "Requirement already satisfied: retrying in /Users/daniellylima/opt/anaconda3/lib/python3.9/site-packages (from jupyter-dash) (1.3.3)\n",
      "Requirement already satisfied: ipython in /Users/daniellylima/opt/anaconda3/lib/python3.9/site-packages (from jupyter-dash) (7.29.0)\n",
      "Requirement already satisfied: ipykernel in /Users/daniellylima/opt/anaconda3/lib/python3.9/site-packages (from jupyter-dash) (6.4.1)\n",
      "Requirement already satisfied: requests in /Users/daniellylima/opt/anaconda3/lib/python3.9/site-packages (from jupyter-dash) (2.26.0)\n",
      "Requirement already satisfied: flask in /Users/daniellylima/opt/anaconda3/lib/python3.9/site-packages (from jupyter-dash) (1.1.2)\n",
      "Requirement already satisfied: dash-core-components==2.0.0 in /Users/daniellylima/opt/anaconda3/lib/python3.9/site-packages (from dash->jupyter-dash) (2.0.0)\n",
      "Requirement already satisfied: dash-html-components==2.0.0 in /Users/daniellylima/opt/anaconda3/lib/python3.9/site-packages (from dash->jupyter-dash) (2.0.0)\n",
      "Requirement already satisfied: flask-compress in /Users/daniellylima/opt/anaconda3/lib/python3.9/site-packages (from dash->jupyter-dash) (1.11)\n",
      "Requirement already satisfied: plotly>=5.0.0 in /Users/daniellylima/opt/anaconda3/lib/python3.9/site-packages (from dash->jupyter-dash) (5.6.0)\n",
      "Requirement already satisfied: dash-table==5.0.0 in /Users/daniellylima/opt/anaconda3/lib/python3.9/site-packages (from dash->jupyter-dash) (5.0.0)\n",
      "Requirement already satisfied: Jinja2>=2.10.1 in /Users/daniellylima/opt/anaconda3/lib/python3.9/site-packages (from flask->jupyter-dash) (2.11.3)\n",
      "Requirement already satisfied: Werkzeug>=0.15 in /Users/daniellylima/opt/anaconda3/lib/python3.9/site-packages (from flask->jupyter-dash) (2.0.2)\n",
      "Requirement already satisfied: itsdangerous>=0.24 in /Users/daniellylima/opt/anaconda3/lib/python3.9/site-packages (from flask->jupyter-dash) (2.0.1)\n",
      "Requirement already satisfied: click>=5.1 in /Users/daniellylima/opt/anaconda3/lib/python3.9/site-packages (from flask->jupyter-dash) (8.0.3)\n",
      "Requirement already satisfied: ipython-genutils in /Users/daniellylima/opt/anaconda3/lib/python3.9/site-packages (from ipykernel->jupyter-dash) (0.2.0)\n",
      "Requirement already satisfied: matplotlib-inline<0.2.0,>=0.1.0 in /Users/daniellylima/opt/anaconda3/lib/python3.9/site-packages (from ipykernel->jupyter-dash) (0.1.2)\n",
      "Requirement already satisfied: debugpy<2.0,>=1.0.0 in /Users/daniellylima/opt/anaconda3/lib/python3.9/site-packages (from ipykernel->jupyter-dash) (1.4.1)\n",
      "Requirement already satisfied: tornado<7.0,>=4.2 in /Users/daniellylima/opt/anaconda3/lib/python3.9/site-packages (from ipykernel->jupyter-dash) (6.1)\n",
      "Requirement already satisfied: traitlets<6.0,>=4.1.0 in /Users/daniellylima/opt/anaconda3/lib/python3.9/site-packages (from ipykernel->jupyter-dash) (5.1.0)\n",
      "Requirement already satisfied: jupyter-client<8.0 in /Users/daniellylima/opt/anaconda3/lib/python3.9/site-packages (from ipykernel->jupyter-dash) (6.1.12)\n",
      "Requirement already satisfied: appnope in /Users/daniellylima/opt/anaconda3/lib/python3.9/site-packages (from ipykernel->jupyter-dash) (0.1.2)\n",
      "Requirement already satisfied: setuptools>=18.5 in /Users/daniellylima/opt/anaconda3/lib/python3.9/site-packages (from ipython->jupyter-dash) (58.0.4)\n",
      "Requirement already satisfied: pickleshare in /Users/daniellylima/opt/anaconda3/lib/python3.9/site-packages (from ipython->jupyter-dash) (0.7.5)\n",
      "Requirement already satisfied: pygments in /Users/daniellylima/opt/anaconda3/lib/python3.9/site-packages (from ipython->jupyter-dash) (2.10.0)\n",
      "Requirement already satisfied: jedi>=0.16 in /Users/daniellylima/opt/anaconda3/lib/python3.9/site-packages (from ipython->jupyter-dash) (0.18.0)\n",
      "Requirement already satisfied: prompt-toolkit!=3.0.0,!=3.0.1,<3.1.0,>=2.0.0 in /Users/daniellylima/opt/anaconda3/lib/python3.9/site-packages (from ipython->jupyter-dash) (3.0.20)\n",
      "Requirement already satisfied: decorator in /Users/daniellylima/opt/anaconda3/lib/python3.9/site-packages (from ipython->jupyter-dash) (5.1.0)\n",
      "Requirement already satisfied: pexpect>4.3 in /Users/daniellylima/opt/anaconda3/lib/python3.9/site-packages (from ipython->jupyter-dash) (4.8.0)\n",
      "Requirement already satisfied: backcall in /Users/daniellylima/opt/anaconda3/lib/python3.9/site-packages (from ipython->jupyter-dash) (0.2.0)\n",
      "Requirement already satisfied: idna<4,>=2.5 in /Users/daniellylima/opt/anaconda3/lib/python3.9/site-packages (from requests->jupyter-dash) (3.2)\n",
      "Requirement already satisfied: urllib3<1.27,>=1.21.1 in /Users/daniellylima/opt/anaconda3/lib/python3.9/site-packages (from requests->jupyter-dash) (1.26.7)\n",
      "Requirement already satisfied: charset-normalizer~=2.0.0 in /Users/daniellylima/opt/anaconda3/lib/python3.9/site-packages (from requests->jupyter-dash) (2.0.4)\n",
      "Requirement already satisfied: certifi>=2017.4.17 in /Users/daniellylima/opt/anaconda3/lib/python3.9/site-packages (from requests->jupyter-dash) (2021.10.8)\n",
      "Requirement already satisfied: six>=1.7.0 in /Users/daniellylima/opt/anaconda3/lib/python3.9/site-packages (from retrying->jupyter-dash) (1.16.0)\n",
      "Requirement already satisfied: parso<0.9.0,>=0.8.0 in /Users/daniellylima/opt/anaconda3/lib/python3.9/site-packages (from jedi>=0.16->ipython->jupyter-dash) (0.8.2)\n",
      "Requirement already satisfied: MarkupSafe>=0.23 in /Users/daniellylima/opt/anaconda3/lib/python3.9/site-packages (from Jinja2>=2.10.1->flask->jupyter-dash) (1.1.1)\n",
      "Requirement already satisfied: jupyter-core>=4.6.0 in /Users/daniellylima/opt/anaconda3/lib/python3.9/site-packages (from jupyter-client<8.0->ipykernel->jupyter-dash) (4.8.1)\n",
      "Requirement already satisfied: pyzmq>=13 in /Users/daniellylima/opt/anaconda3/lib/python3.9/site-packages (from jupyter-client<8.0->ipykernel->jupyter-dash) (22.2.1)\n",
      "Requirement already satisfied: python-dateutil>=2.1 in /Users/daniellylima/opt/anaconda3/lib/python3.9/site-packages (from jupyter-client<8.0->ipykernel->jupyter-dash) (2.8.2)\n",
      "Requirement already satisfied: ptyprocess>=0.5 in /Users/daniellylima/opt/anaconda3/lib/python3.9/site-packages (from pexpect>4.3->ipython->jupyter-dash) (0.7.0)\n",
      "Requirement already satisfied: tenacity>=6.2.0 in /Users/daniellylima/opt/anaconda3/lib/python3.9/site-packages (from plotly>=5.0.0->dash->jupyter-dash) (8.0.1)\n",
      "Requirement already satisfied: wcwidth in /Users/daniellylima/opt/anaconda3/lib/python3.9/site-packages (from prompt-toolkit!=3.0.0,!=3.0.1,<3.1.0,>=2.0.0->ipython->jupyter-dash) (0.2.5)\n",
      "Requirement already satisfied: brotli in /Users/daniellylima/opt/anaconda3/lib/python3.9/site-packages (from flask-compress->dash->jupyter-dash) (1.0.9)\n",
      "\u001b[33mWARNING: You are using pip version 22.0.3; however, version 22.0.4 is available.\n",
      "You should consider upgrading via the '/Users/daniellylima/opt/anaconda3/bin/python -m pip install --upgrade pip' command.\u001b[0m\u001b[33m\n",
      "\u001b[0mRequirement already satisfied: dash-bootstrap-components in /Users/daniellylima/opt/anaconda3/lib/python3.9/site-packages (1.0.3)\n",
      "Requirement already satisfied: dash>=2.0.0 in /Users/daniellylima/opt/anaconda3/lib/python3.9/site-packages (from dash-bootstrap-components) (2.3.0)\n",
      "Requirement already satisfied: flask-compress in /Users/daniellylima/opt/anaconda3/lib/python3.9/site-packages (from dash>=2.0.0->dash-bootstrap-components) (1.11)\n",
      "Requirement already satisfied: dash-html-components==2.0.0 in /Users/daniellylima/opt/anaconda3/lib/python3.9/site-packages (from dash>=2.0.0->dash-bootstrap-components) (2.0.0)\n",
      "Requirement already satisfied: Flask>=1.0.4 in /Users/daniellylima/opt/anaconda3/lib/python3.9/site-packages (from dash>=2.0.0->dash-bootstrap-components) (1.1.2)\n",
      "Requirement already satisfied: plotly>=5.0.0 in /Users/daniellylima/opt/anaconda3/lib/python3.9/site-packages (from dash>=2.0.0->dash-bootstrap-components) (5.6.0)\n",
      "Requirement already satisfied: dash-table==5.0.0 in /Users/daniellylima/opt/anaconda3/lib/python3.9/site-packages (from dash>=2.0.0->dash-bootstrap-components) (5.0.0)\n",
      "Requirement already satisfied: dash-core-components==2.0.0 in /Users/daniellylima/opt/anaconda3/lib/python3.9/site-packages (from dash>=2.0.0->dash-bootstrap-components) (2.0.0)\n"
     ]
    },
    {
     "name": "stdout",
     "output_type": "stream",
     "text": [
      "Requirement already satisfied: Jinja2>=2.10.1 in /Users/daniellylima/opt/anaconda3/lib/python3.9/site-packages (from Flask>=1.0.4->dash>=2.0.0->dash-bootstrap-components) (2.11.3)\n",
      "Requirement already satisfied: Werkzeug>=0.15 in /Users/daniellylima/opt/anaconda3/lib/python3.9/site-packages (from Flask>=1.0.4->dash>=2.0.0->dash-bootstrap-components) (2.0.2)\n",
      "Requirement already satisfied: itsdangerous>=0.24 in /Users/daniellylima/opt/anaconda3/lib/python3.9/site-packages (from Flask>=1.0.4->dash>=2.0.0->dash-bootstrap-components) (2.0.1)\n",
      "Requirement already satisfied: click>=5.1 in /Users/daniellylima/opt/anaconda3/lib/python3.9/site-packages (from Flask>=1.0.4->dash>=2.0.0->dash-bootstrap-components) (8.0.3)\n",
      "Requirement already satisfied: six in /Users/daniellylima/opt/anaconda3/lib/python3.9/site-packages (from plotly>=5.0.0->dash>=2.0.0->dash-bootstrap-components) (1.16.0)\n",
      "Requirement already satisfied: tenacity>=6.2.0 in /Users/daniellylima/opt/anaconda3/lib/python3.9/site-packages (from plotly>=5.0.0->dash>=2.0.0->dash-bootstrap-components) (8.0.1)\n",
      "Requirement already satisfied: brotli in /Users/daniellylima/opt/anaconda3/lib/python3.9/site-packages (from flask-compress->dash>=2.0.0->dash-bootstrap-components) (1.0.9)\n",
      "Requirement already satisfied: MarkupSafe>=0.23 in /Users/daniellylima/opt/anaconda3/lib/python3.9/site-packages (from Jinja2>=2.10.1->Flask>=1.0.4->dash>=2.0.0->dash-bootstrap-components) (1.1.1)\n",
      "\u001b[33mWARNING: You are using pip version 22.0.3; however, version 22.0.4 is available.\n",
      "You should consider upgrading via the '/Users/daniellylima/opt/anaconda3/bin/python -m pip install --upgrade pip' command.\u001b[0m\u001b[33m\n",
      "\u001b[0m"
     ]
    }
   ],
   "source": [
    "!pip install jupyter-dash\n",
    "!pip install dash-bootstrap-components"
   ]
  },
  {
   "cell_type": "code",
   "execution_count": 2,
   "id": "2b6da80f",
   "metadata": {},
   "outputs": [],
   "source": [
    "#importando as libs\n",
    "import pandas as pd\n",
    "import numpy as np\n",
    "\n",
    "import io\n",
    "import plotly\n",
    "import plotly.express as px\n",
    "import plotly.graph_objects as go\n",
    "\n",
    "from jupyter_dash import JupyterDash\n",
    "import dash\n",
    "from dash import dcc\n",
    "from dash import html\n",
    "from dash.dependencies import Input, Output"
   ]
  },
  {
   "cell_type": "code",
   "execution_count": 3,
   "id": "0c62a926",
   "metadata": {},
   "outputs": [],
   "source": [
    "#carregando o excel\n",
    "df1 = pd.read_excel('CASE - MARÇO 2022 - PD&I.xls',  sheet_name='Banco de dados informações')\n",
    "df2 = pd.read_excel('CASE - MARÇO 2022 - PD&I.xls',  sheet_name='Banco de dados notas')"
   ]
  },
  {
   "cell_type": "code",
   "execution_count": 4,
   "id": "b046d83a",
   "metadata": {},
   "outputs": [
    {
     "data": {
      "text/html": [
       "<div>\n",
       "<style scoped>\n",
       "    .dataframe tbody tr th:only-of-type {\n",
       "        vertical-align: middle;\n",
       "    }\n",
       "\n",
       "    .dataframe tbody tr th {\n",
       "        vertical-align: top;\n",
       "    }\n",
       "\n",
       "    .dataframe thead th {\n",
       "        text-align: right;\n",
       "    }\n",
       "</style>\n",
       "<table border=\"1\" class=\"dataframe\">\n",
       "  <thead>\n",
       "    <tr style=\"text-align: right;\">\n",
       "      <th></th>\n",
       "      <th>Nome do Aluno</th>\n",
       "      <th>ID do contato</th>\n",
       "      <th>Nação</th>\n",
       "      <th>Tribo</th>\n",
       "      <th>Coletivo</th>\n",
       "      <th>Turma</th>\n",
       "      <th>Parceiros</th>\n",
       "      <th>Tipo de Relacionamento</th>\n",
       "    </tr>\n",
       "  </thead>\n",
       "  <tbody>\n",
       "    <tr>\n",
       "      <th>0</th>\n",
       "      <td>aluno 1</td>\n",
       "      <td>0033t00003h443j</td>\n",
       "      <td>NA-Adulto</td>\n",
       "      <td>TRI-MA</td>\n",
       "      <td>COL-EM-01</td>\n",
       "      <td>CO-1786</td>\n",
       "      <td>Vivo POC</td>\n",
       "      <td>B2B</td>\n",
       "    </tr>\n",
       "    <tr>\n",
       "      <th>1</th>\n",
       "      <td>aluno 2</td>\n",
       "      <td>0033t00003fFvNd</td>\n",
       "      <td>NA-CJ</td>\n",
       "      <td>TRI-A</td>\n",
       "      <td>COL-A03</td>\n",
       "      <td>CO-1882</td>\n",
       "      <td>NaN</td>\n",
       "      <td>B2C</td>\n",
       "    </tr>\n",
       "    <tr>\n",
       "      <th>2</th>\n",
       "      <td>aluno 3</td>\n",
       "      <td>0033t00003h3gHj</td>\n",
       "      <td>NA-CJ</td>\n",
       "      <td>TRI-F</td>\n",
       "      <td>COL-F01</td>\n",
       "      <td>CO-1858</td>\n",
       "      <td>VRB</td>\n",
       "      <td>B2B</td>\n",
       "    </tr>\n",
       "    <tr>\n",
       "      <th>3</th>\n",
       "      <td>aluno 4</td>\n",
       "      <td>0033t00003iUgVq</td>\n",
       "      <td>NA-Adulto</td>\n",
       "      <td>TRI-MA</td>\n",
       "      <td>COL-MA-04</td>\n",
       "      <td>CO-2331</td>\n",
       "      <td>Santa Clara</td>\n",
       "      <td>B2B</td>\n",
       "    </tr>\n",
       "    <tr>\n",
       "      <th>4</th>\n",
       "      <td>aluno 5</td>\n",
       "      <td>0033t00003fH3KG</td>\n",
       "      <td>NA-Adulto</td>\n",
       "      <td>TRI-MA</td>\n",
       "      <td>COL-MA-02</td>\n",
       "      <td>CO-2104</td>\n",
       "      <td>COPAGAZ</td>\n",
       "      <td>B2B</td>\n",
       "    </tr>\n",
       "  </tbody>\n",
       "</table>\n",
       "</div>"
      ],
      "text/plain": [
       "  Nome do Aluno    ID do contato      Nação   Tribo   Coletivo    Turma  \\\n",
       "0       aluno 1  0033t00003h443j  NA-Adulto  TRI-MA  COL-EM-01  CO-1786   \n",
       "1       aluno 2  0033t00003fFvNd      NA-CJ   TRI-A    COL-A03  CO-1882   \n",
       "2       aluno 3  0033t00003h3gHj      NA-CJ   TRI-F    COL-F01  CO-1858   \n",
       "3       aluno 4  0033t00003iUgVq  NA-Adulto  TRI-MA  COL-MA-04  CO-2331   \n",
       "4       aluno 5  0033t00003fH3KG  NA-Adulto  TRI-MA  COL-MA-02  CO-2104   \n",
       "\n",
       "     Parceiros Tipo de Relacionamento  \n",
       "0     Vivo POC                    B2B  \n",
       "1          NaN                    B2C  \n",
       "2          VRB                    B2B  \n",
       "3  Santa Clara                    B2B  \n",
       "4      COPAGAZ                    B2B  "
      ]
     },
     "execution_count": 4,
     "metadata": {},
     "output_type": "execute_result"
    }
   ],
   "source": [
    "df1.head()"
   ]
  },
  {
   "cell_type": "code",
   "execution_count": 5,
   "id": "e506fe2c",
   "metadata": {},
   "outputs": [
    {
     "name": "stdout",
     "output_type": "stream",
     "text": [
      "<class 'pandas.core.frame.DataFrame'>\n",
      "RangeIndex: 500 entries, 0 to 499\n",
      "Data columns (total 8 columns):\n",
      " #   Column                  Non-Null Count  Dtype \n",
      "---  ------                  --------------  ----- \n",
      " 0   Nome do Aluno           500 non-null    object\n",
      " 1   ID do contato           500 non-null    object\n",
      " 2   Nação                   500 non-null    object\n",
      " 3   Tribo                   500 non-null    object\n",
      " 4   Coletivo                500 non-null    object\n",
      " 5   Turma                   500 non-null    object\n",
      " 6   Parceiros               342 non-null    object\n",
      " 7   Tipo de Relacionamento  498 non-null    object\n",
      "dtypes: object(8)\n",
      "memory usage: 31.4+ KB\n"
     ]
    }
   ],
   "source": [
    "df1.info()"
   ]
  },
  {
   "cell_type": "code",
   "execution_count": 6,
   "id": "c4d943f5",
   "metadata": {},
   "outputs": [
    {
     "name": "stdout",
     "output_type": "stream",
     "text": [
      "<class 'pandas.core.frame.DataFrame'>\n",
      "Int64Index: 340 entries, 0 to 499\n",
      "Data columns (total 8 columns):\n",
      " #   Column                  Non-Null Count  Dtype \n",
      "---  ------                  --------------  ----- \n",
      " 0   Nome do Aluno           340 non-null    object\n",
      " 1   ID do contato           340 non-null    object\n",
      " 2   Nação                   340 non-null    object\n",
      " 3   Tribo                   340 non-null    object\n",
      " 4   Coletivo                340 non-null    object\n",
      " 5   Turma                   340 non-null    object\n",
      " 6   Parceiros               340 non-null    object\n",
      " 7   Tipo de Relacionamento  340 non-null    object\n",
      "dtypes: object(8)\n",
      "memory usage: 23.9+ KB\n"
     ]
    }
   ],
   "source": [
    "df1_nan = df1.dropna()\n",
    "df1_nan.info()"
   ]
  },
  {
   "cell_type": "code",
   "execution_count": 7,
   "id": "aae24b20",
   "metadata": {},
   "outputs": [
    {
     "name": "stdout",
     "output_type": "stream",
     "text": [
      "<class 'pandas.core.frame.DataFrame'>\n",
      "RangeIndex: 3000 entries, 0 to 2999\n",
      "Data columns (total 4 columns):\n",
      " #   Column         Non-Null Count  Dtype \n",
      "---  ------         --------------  ----- \n",
      " 0   ID do contato  3000 non-null   object\n",
      " 1   Matéria        3000 non-null   object\n",
      " 2   Aplicação      3000 non-null   object\n",
      " 3   Notas          3000 non-null   object\n",
      "dtypes: object(4)\n",
      "memory usage: 93.9+ KB\n"
     ]
    }
   ],
   "source": [
    "df2.info()"
   ]
  },
  {
   "cell_type": "code",
   "execution_count": 8,
   "id": "65138781",
   "metadata": {},
   "outputs": [
    {
     "data": {
      "text/html": [
       "<div>\n",
       "<style scoped>\n",
       "    .dataframe tbody tr th:only-of-type {\n",
       "        vertical-align: middle;\n",
       "    }\n",
       "\n",
       "    .dataframe tbody tr th {\n",
       "        vertical-align: top;\n",
       "    }\n",
       "\n",
       "    .dataframe thead th {\n",
       "        text-align: right;\n",
       "    }\n",
       "</style>\n",
       "<table border=\"1\" class=\"dataframe\">\n",
       "  <thead>\n",
       "    <tr style=\"text-align: right;\">\n",
       "      <th></th>\n",
       "      <th>ID do contato</th>\n",
       "      <th>Matéria</th>\n",
       "      <th>Aplicação</th>\n",
       "      <th>Notas</th>\n",
       "    </tr>\n",
       "  </thead>\n",
       "  <tbody>\n",
       "    <tr>\n",
       "      <th>0</th>\n",
       "      <td>0031U00000ypBEV</td>\n",
       "      <td>Leitura</td>\n",
       "      <td>1º aplicação</td>\n",
       "      <td>nota: 22</td>\n",
       "    </tr>\n",
       "    <tr>\n",
       "      <th>1</th>\n",
       "      <td>0031U00000ypBEV</td>\n",
       "      <td>Redação</td>\n",
       "      <td>1º aplicação</td>\n",
       "      <td>nota: 26</td>\n",
       "    </tr>\n",
       "    <tr>\n",
       "      <th>2</th>\n",
       "      <td>0031U00000ypBEV</td>\n",
       "      <td>Leitura</td>\n",
       "      <td>2º aplicação</td>\n",
       "      <td>nota: 45</td>\n",
       "    </tr>\n",
       "    <tr>\n",
       "      <th>3</th>\n",
       "      <td>0031U00000ypBEV</td>\n",
       "      <td>Matemática</td>\n",
       "      <td>1º aplicação</td>\n",
       "      <td>nota: 55</td>\n",
       "    </tr>\n",
       "    <tr>\n",
       "      <th>4</th>\n",
       "      <td>0031U00000ypBEV</td>\n",
       "      <td>Matemática</td>\n",
       "      <td>2º aplicação</td>\n",
       "      <td>nota: 73</td>\n",
       "    </tr>\n",
       "  </tbody>\n",
       "</table>\n",
       "</div>"
      ],
      "text/plain": [
       "     ID do contato     Matéria     Aplicação     Notas\n",
       "0  0031U00000ypBEV     Leitura  1º aplicação  nota: 22\n",
       "1  0031U00000ypBEV     Redação  1º aplicação  nota: 26\n",
       "2  0031U00000ypBEV     Leitura  2º aplicação  nota: 45\n",
       "3  0031U00000ypBEV  Matemática  1º aplicação  nota: 55\n",
       "4  0031U00000ypBEV  Matemática  2º aplicação  nota: 73"
      ]
     },
     "execution_count": 8,
     "metadata": {},
     "output_type": "execute_result"
    }
   ],
   "source": [
    "df2.head()"
   ]
  },
  {
   "cell_type": "code",
   "execution_count": 9,
   "id": "b59e1d04",
   "metadata": {},
   "outputs": [
    {
     "data": {
      "text/html": [
       "<div>\n",
       "<style scoped>\n",
       "    .dataframe tbody tr th:only-of-type {\n",
       "        vertical-align: middle;\n",
       "    }\n",
       "\n",
       "    .dataframe tbody tr th {\n",
       "        vertical-align: top;\n",
       "    }\n",
       "\n",
       "    .dataframe thead th {\n",
       "        text-align: right;\n",
       "    }\n",
       "</style>\n",
       "<table border=\"1\" class=\"dataframe\">\n",
       "  <thead>\n",
       "    <tr style=\"text-align: right;\">\n",
       "      <th></th>\n",
       "      <th>ID do contato</th>\n",
       "      <th>Matéria</th>\n",
       "      <th>Aplicação</th>\n",
       "      <th>Notas</th>\n",
       "    </tr>\n",
       "  </thead>\n",
       "  <tbody>\n",
       "    <tr>\n",
       "      <th>0</th>\n",
       "      <td>0031U00000ypBEV</td>\n",
       "      <td>Leitura</td>\n",
       "      <td>1º aplicação</td>\n",
       "      <td>22</td>\n",
       "    </tr>\n",
       "    <tr>\n",
       "      <th>1</th>\n",
       "      <td>0031U00000ypBEV</td>\n",
       "      <td>Redação</td>\n",
       "      <td>1º aplicação</td>\n",
       "      <td>26</td>\n",
       "    </tr>\n",
       "    <tr>\n",
       "      <th>2</th>\n",
       "      <td>0031U00000ypBEV</td>\n",
       "      <td>Leitura</td>\n",
       "      <td>2º aplicação</td>\n",
       "      <td>45</td>\n",
       "    </tr>\n",
       "    <tr>\n",
       "      <th>3</th>\n",
       "      <td>0031U00000ypBEV</td>\n",
       "      <td>Matemática</td>\n",
       "      <td>1º aplicação</td>\n",
       "      <td>55</td>\n",
       "    </tr>\n",
       "    <tr>\n",
       "      <th>4</th>\n",
       "      <td>0031U00000ypBEV</td>\n",
       "      <td>Matemática</td>\n",
       "      <td>2º aplicação</td>\n",
       "      <td>73</td>\n",
       "    </tr>\n",
       "  </tbody>\n",
       "</table>\n",
       "</div>"
      ],
      "text/plain": [
       "     ID do contato     Matéria     Aplicação Notas\n",
       "0  0031U00000ypBEV     Leitura  1º aplicação    22\n",
       "1  0031U00000ypBEV     Redação  1º aplicação    26\n",
       "2  0031U00000ypBEV     Leitura  2º aplicação    45\n",
       "3  0031U00000ypBEV  Matemática  1º aplicação    55\n",
       "4  0031U00000ypBEV  Matemática  2º aplicação    73"
      ]
     },
     "execution_count": 9,
     "metadata": {},
     "output_type": "execute_result"
    }
   ],
   "source": [
    "df2.replace({'Notas': 'nota: '}, {'Notas': ''}, regex=True, inplace=True)\n",
    "df2.head()"
   ]
  },
  {
   "cell_type": "code",
   "execution_count": 10,
   "id": "ed5ed5c9",
   "metadata": {},
   "outputs": [
    {
     "name": "stdout",
     "output_type": "stream",
     "text": [
      "<class 'pandas.core.frame.DataFrame'>\n",
      "RangeIndex: 3000 entries, 0 to 2999\n",
      "Data columns (total 4 columns):\n",
      " #   Column         Non-Null Count  Dtype \n",
      "---  ------         --------------  ----- \n",
      " 0   ID do contato  3000 non-null   object\n",
      " 1   Matéria        3000 non-null   object\n",
      " 2   Aplicação      3000 non-null   object\n",
      " 3   Notas          3000 non-null   int64 \n",
      "dtypes: int64(1), object(3)\n",
      "memory usage: 93.9+ KB\n"
     ]
    }
   ],
   "source": [
    "df2['Notas'] = pd.to_numeric(df2['Notas'])\n",
    "df2.info()"
   ]
  },
  {
   "cell_type": "code",
   "execution_count": 11,
   "id": "9e15e092",
   "metadata": {},
   "outputs": [
    {
     "data": {
      "text/html": [
       "<div>\n",
       "<style scoped>\n",
       "    .dataframe tbody tr th:only-of-type {\n",
       "        vertical-align: middle;\n",
       "    }\n",
       "\n",
       "    .dataframe tbody tr th {\n",
       "        vertical-align: top;\n",
       "    }\n",
       "\n",
       "    .dataframe thead th {\n",
       "        text-align: right;\n",
       "    }\n",
       "</style>\n",
       "<table border=\"1\" class=\"dataframe\">\n",
       "  <thead>\n",
       "    <tr style=\"text-align: right;\">\n",
       "      <th></th>\n",
       "      <th>ID do contato</th>\n",
       "      <th>1 Aplicação Leitura</th>\n",
       "      <th>2 Aplicação Leitura</th>\n",
       "      <th>1 Aplicação Matemática</th>\n",
       "      <th>2 Aplicação Matemática</th>\n",
       "      <th>1 Aplicação Redação</th>\n",
       "      <th>2 Aplicação Redação</th>\n",
       "    </tr>\n",
       "  </thead>\n",
       "  <tbody>\n",
       "    <tr>\n",
       "      <th>0</th>\n",
       "      <td>0031U00000ypBEV</td>\n",
       "      <td>22.0</td>\n",
       "      <td>NaN</td>\n",
       "      <td>NaN</td>\n",
       "      <td>NaN</td>\n",
       "      <td>NaN</td>\n",
       "      <td>NaN</td>\n",
       "    </tr>\n",
       "    <tr>\n",
       "      <th>1</th>\n",
       "      <td>0031U00000ypBEV</td>\n",
       "      <td>NaN</td>\n",
       "      <td>NaN</td>\n",
       "      <td>NaN</td>\n",
       "      <td>NaN</td>\n",
       "      <td>26.0</td>\n",
       "      <td>NaN</td>\n",
       "    </tr>\n",
       "    <tr>\n",
       "      <th>2</th>\n",
       "      <td>0031U00000ypBEV</td>\n",
       "      <td>NaN</td>\n",
       "      <td>45.0</td>\n",
       "      <td>NaN</td>\n",
       "      <td>NaN</td>\n",
       "      <td>NaN</td>\n",
       "      <td>NaN</td>\n",
       "    </tr>\n",
       "    <tr>\n",
       "      <th>3</th>\n",
       "      <td>0031U00000ypBEV</td>\n",
       "      <td>NaN</td>\n",
       "      <td>NaN</td>\n",
       "      <td>55.0</td>\n",
       "      <td>NaN</td>\n",
       "      <td>NaN</td>\n",
       "      <td>NaN</td>\n",
       "    </tr>\n",
       "    <tr>\n",
       "      <th>4</th>\n",
       "      <td>0031U00000ypBEV</td>\n",
       "      <td>NaN</td>\n",
       "      <td>NaN</td>\n",
       "      <td>NaN</td>\n",
       "      <td>73.0</td>\n",
       "      <td>NaN</td>\n",
       "      <td>NaN</td>\n",
       "    </tr>\n",
       "  </tbody>\n",
       "</table>\n",
       "</div>"
      ],
      "text/plain": [
       "     ID do contato  1 Aplicação Leitura  2 Aplicação Leitura  \\\n",
       "0  0031U00000ypBEV                 22.0                  NaN   \n",
       "1  0031U00000ypBEV                  NaN                  NaN   \n",
       "2  0031U00000ypBEV                  NaN                 45.0   \n",
       "3  0031U00000ypBEV                  NaN                  NaN   \n",
       "4  0031U00000ypBEV                  NaN                  NaN   \n",
       "\n",
       "   1 Aplicação Matemática  2 Aplicação Matemática  1 Aplicação Redação  \\\n",
       "0                     NaN                     NaN                  NaN   \n",
       "1                     NaN                     NaN                 26.0   \n",
       "2                     NaN                     NaN                  NaN   \n",
       "3                    55.0                     NaN                  NaN   \n",
       "4                     NaN                    73.0                  NaN   \n",
       "\n",
       "   2 Aplicação Redação  \n",
       "0                  NaN  \n",
       "1                  NaN  \n",
       "2                  NaN  \n",
       "3                  NaN  \n",
       "4                  NaN  "
      ]
     },
     "execution_count": 11,
     "metadata": {},
     "output_type": "execute_result"
    }
   ],
   "source": [
    "df2_n = df2.copy()\n",
    "df2_n.loc[df2_n.Matéria == 'Leitura','Leitura']= df2_n.Notas\n",
    "df2_n.loc[df2_n.Matéria =='Matemática','Matemática']= df2_n.Notas\n",
    "df2_n.loc[df2_n.Matéria == 'Redação' ,'Redação']= df2_n.Notas\n",
    "        \n",
    "df2_n = df2_n.drop(columns=['Matéria','Notas'])\n",
    "\n",
    "df2_n.loc[df2_n.Aplicação == '1º aplicação','1 Aplicação Leitura']= df2_n.Leitura\n",
    "df2_n.loc[df2_n.Aplicação =='2º aplicação','2 Aplicação Leitura']= df2_n.Leitura\n",
    "df2_n.loc[df2_n.Aplicação == '1º aplicação','1 Aplicação Matemática']= df2_n.Matemática\n",
    "df2_n.loc[df2_n.Aplicação =='2º aplicação','2 Aplicação Matemática']= df2_n.Matemática\n",
    "df2_n.loc[df2_n.Aplicação == '1º aplicação','1 Aplicação Redação']= df2_n.Redação\n",
    "df2_n.loc[df2_n.Aplicação =='2º aplicação','2 Aplicação Redação']= df2_n.Redação\n",
    "\n",
    "df2_n = df2_n.drop(columns=['Leitura','Matemática', 'Redação', 'Aplicação'])\n",
    "\n",
    "df2_n.head()"
   ]
  },
  {
   "cell_type": "code",
   "execution_count": 12,
   "id": "b7f27eda",
   "metadata": {},
   "outputs": [
    {
     "data": {
      "text/html": [
       "<div>\n",
       "<style scoped>\n",
       "    .dataframe tbody tr th:only-of-type {\n",
       "        vertical-align: middle;\n",
       "    }\n",
       "\n",
       "    .dataframe tbody tr th {\n",
       "        vertical-align: top;\n",
       "    }\n",
       "\n",
       "    .dataframe thead th {\n",
       "        text-align: right;\n",
       "    }\n",
       "</style>\n",
       "<table border=\"1\" class=\"dataframe\">\n",
       "  <thead>\n",
       "    <tr style=\"text-align: right;\">\n",
       "      <th></th>\n",
       "      <th>ID do contato</th>\n",
       "      <th>1 Aplicação Leitura</th>\n",
       "      <th>2 Aplicação Leitura</th>\n",
       "      <th>1 Aplicação Matemática</th>\n",
       "      <th>2 Aplicação Matemática</th>\n",
       "      <th>1 Aplicação Redação</th>\n",
       "      <th>2 Aplicação Redação</th>\n",
       "    </tr>\n",
       "  </thead>\n",
       "  <tbody>\n",
       "    <tr>\n",
       "      <th>0</th>\n",
       "      <td>0031U00000ypBEV</td>\n",
       "      <td>22.0</td>\n",
       "      <td>45.0</td>\n",
       "      <td>55.0</td>\n",
       "      <td>73.0</td>\n",
       "      <td>26.0</td>\n",
       "      <td>79.0</td>\n",
       "    </tr>\n",
       "    <tr>\n",
       "      <th>1</th>\n",
       "      <td>0031U000013WZ3J</td>\n",
       "      <td>9.0</td>\n",
       "      <td>82.0</td>\n",
       "      <td>13.0</td>\n",
       "      <td>89.0</td>\n",
       "      <td>24.0</td>\n",
       "      <td>53.0</td>\n",
       "    </tr>\n",
       "    <tr>\n",
       "      <th>2</th>\n",
       "      <td>0031U000016wtSZ</td>\n",
       "      <td>38.0</td>\n",
       "      <td>41.0</td>\n",
       "      <td>42.0</td>\n",
       "      <td>72.0</td>\n",
       "      <td>20.0</td>\n",
       "      <td>68.0</td>\n",
       "    </tr>\n",
       "    <tr>\n",
       "      <th>3</th>\n",
       "      <td>0031U000019bYCT</td>\n",
       "      <td>40.0</td>\n",
       "      <td>56.0</td>\n",
       "      <td>23.0</td>\n",
       "      <td>93.0</td>\n",
       "      <td>59.0</td>\n",
       "      <td>85.0</td>\n",
       "    </tr>\n",
       "    <tr>\n",
       "      <th>4</th>\n",
       "      <td>0031U00001CqJEl</td>\n",
       "      <td>10.0</td>\n",
       "      <td>36.0</td>\n",
       "      <td>65.0</td>\n",
       "      <td>44.0</td>\n",
       "      <td>28.0</td>\n",
       "      <td>47.0</td>\n",
       "    </tr>\n",
       "  </tbody>\n",
       "</table>\n",
       "</div>"
      ],
      "text/plain": [
       "     ID do contato  1 Aplicação Leitura  2 Aplicação Leitura  \\\n",
       "0  0031U00000ypBEV                 22.0                 45.0   \n",
       "1  0031U000013WZ3J                  9.0                 82.0   \n",
       "2  0031U000016wtSZ                 38.0                 41.0   \n",
       "3  0031U000019bYCT                 40.0                 56.0   \n",
       "4  0031U00001CqJEl                 10.0                 36.0   \n",
       "\n",
       "   1 Aplicação Matemática  2 Aplicação Matemática  1 Aplicação Redação  \\\n",
       "0                    55.0                    73.0                 26.0   \n",
       "1                    13.0                    89.0                 24.0   \n",
       "2                    42.0                    72.0                 20.0   \n",
       "3                    23.0                    93.0                 59.0   \n",
       "4                    65.0                    44.0                 28.0   \n",
       "\n",
       "   2 Aplicação Redação  \n",
       "0                 79.0  \n",
       "1                 53.0  \n",
       "2                 68.0  \n",
       "3                 85.0  \n",
       "4                 47.0  "
      ]
     },
     "execution_count": 12,
     "metadata": {},
     "output_type": "execute_result"
    }
   ],
   "source": [
    "df2_1_leitura = df2_n.copy()\n",
    "df2_1_leitura = df2_1_leitura.drop(columns=['2 Aplicação Leitura','1 Aplicação Matemática', '2 Aplicação Matemática', '1 Aplicação Redação', '2 Aplicação Redação'])\n",
    "df2_1_leitura = df2_1_leitura.dropna()\n",
    "\n",
    "df2_2_leitura = df2_n.copy()\n",
    "df2_2_leitura = df2_2_leitura.drop(columns=['1 Aplicação Leitura','1 Aplicação Matemática', '2 Aplicação Matemática', '1 Aplicação Redação', '2 Aplicação Redação'])\n",
    "df2_2_leitura = df2_2_leitura.dropna()\n",
    "\n",
    "df2_1_matematica = df2_n.copy()\n",
    "df2_1_matematica = df2_1_matematica.drop(columns=['1 Aplicação Leitura','2 Aplicação Leitura', '2 Aplicação Matemática', '1 Aplicação Redação', '2 Aplicação Redação'])\n",
    "df2_1_matematica = df2_1_matematica.dropna()\n",
    "\n",
    "df2_2_matematica = df2_n.copy()\n",
    "df2_2_matematica = df2_2_matematica.drop(columns=['1 Aplicação Leitura','1 Aplicação Matemática', '2 Aplicação Leitura', '1 Aplicação Redação', '2 Aplicação Redação'])\n",
    "df2_2_matematica = df2_2_matematica.dropna()\n",
    "\n",
    "df2_1_redacao = df2_n.copy()\n",
    "df2_1_redacao = df2_1_redacao.drop(columns=['1 Aplicação Leitura','1 Aplicação Matemática', '2 Aplicação Matemática', '2 Aplicação Leitura', '2 Aplicação Redação'])\n",
    "df2_1_redacao = df2_1_redacao.dropna()\n",
    "\n",
    "df2_2_redacao = df2_n.copy()\n",
    "df2_2_redacao = df2_2_redacao.drop(columns=['1 Aplicação Leitura','1 Aplicação Matemática', '2 Aplicação Matemática', '1 Aplicação Redação', '2 Aplicação Leitura'])\n",
    "df2_2_redacao = df2_2_redacao.dropna()\n",
    "\n",
    "df2_final = pd.merge(df2_1_leitura,df2_2_leitura, how = 'inner', on = 'ID do contato')\n",
    "df2_final = pd.merge(df2_final,df2_1_matematica, how = 'inner', on = 'ID do contato')\n",
    "df2_final = pd.merge(df2_final,df2_2_matematica, how = 'inner', on = 'ID do contato')\n",
    "df2_final = pd.merge(df2_final,df2_1_redacao, how = 'inner', on = 'ID do contato')\n",
    "df2_final = pd.merge(df2_final,df2_2_redacao, how = 'inner', on = 'ID do contato')\n",
    "\n",
    "df2_final.head()"
   ]
  },
  {
   "cell_type": "code",
   "execution_count": 13,
   "id": "8c6d6074",
   "metadata": {
    "collapsed": true
   },
   "outputs": [
    {
     "data": {
      "text/html": [
       "<div>\n",
       "<style scoped>\n",
       "    .dataframe tbody tr th:only-of-type {\n",
       "        vertical-align: middle;\n",
       "    }\n",
       "\n",
       "    .dataframe tbody tr th {\n",
       "        vertical-align: top;\n",
       "    }\n",
       "\n",
       "    .dataframe thead th {\n",
       "        text-align: right;\n",
       "    }\n",
       "</style>\n",
       "<table border=\"1\" class=\"dataframe\">\n",
       "  <thead>\n",
       "    <tr style=\"text-align: right;\">\n",
       "      <th></th>\n",
       "      <th>ID do contato</th>\n",
       "      <th>1 Aplicação Leitura</th>\n",
       "      <th>2 Aplicação Leitura</th>\n",
       "      <th>1 Aplicação Matemática</th>\n",
       "      <th>2 Aplicação Matemática</th>\n",
       "      <th>1 Aplicação Redação</th>\n",
       "      <th>2 Aplicação Redação</th>\n",
       "      <th>Nome do Aluno</th>\n",
       "      <th>Nação</th>\n",
       "      <th>Tribo</th>\n",
       "      <th>Coletivo</th>\n",
       "      <th>Turma</th>\n",
       "      <th>Parceiros</th>\n",
       "      <th>Tipo de Relacionamento</th>\n",
       "    </tr>\n",
       "  </thead>\n",
       "  <tbody>\n",
       "    <tr>\n",
       "      <th>0</th>\n",
       "      <td>0031U00001G1Kzr</td>\n",
       "      <td>2.0</td>\n",
       "      <td>78.0</td>\n",
       "      <td>68.0</td>\n",
       "      <td>54.0</td>\n",
       "      <td>70.0</td>\n",
       "      <td>71.0</td>\n",
       "      <td>aluno 239</td>\n",
       "      <td>NA-CJ</td>\n",
       "      <td>TRI-B</td>\n",
       "      <td>COL-B01</td>\n",
       "      <td>CO-1867</td>\n",
       "      <td>Alicerce Educação - Projeto Reabertura</td>\n",
       "      <td>Bolsista</td>\n",
       "    </tr>\n",
       "    <tr>\n",
       "      <th>1</th>\n",
       "      <td>0033t000037Ulz0</td>\n",
       "      <td>9.0</td>\n",
       "      <td>49.0</td>\n",
       "      <td>36.0</td>\n",
       "      <td>39.0</td>\n",
       "      <td>15.0</td>\n",
       "      <td>90.0</td>\n",
       "      <td>aluno 255</td>\n",
       "      <td>NA-CJ</td>\n",
       "      <td>TRI-F</td>\n",
       "      <td>COL-F01</td>\n",
       "      <td>CO-1903</td>\n",
       "      <td>VRB</td>\n",
       "      <td>B2B</td>\n",
       "    </tr>\n",
       "    <tr>\n",
       "      <th>2</th>\n",
       "      <td>0033t000037UVA3</td>\n",
       "      <td>52.0</td>\n",
       "      <td>67.0</td>\n",
       "      <td>53.0</td>\n",
       "      <td>41.0</td>\n",
       "      <td>47.0</td>\n",
       "      <td>68.0</td>\n",
       "      <td>aluno 111</td>\n",
       "      <td>NA-CJ</td>\n",
       "      <td>TRI-F</td>\n",
       "      <td>COL-F01</td>\n",
       "      <td>CO-1912</td>\n",
       "      <td>VRB</td>\n",
       "      <td>B2B</td>\n",
       "    </tr>\n",
       "    <tr>\n",
       "      <th>3</th>\n",
       "      <td>0033t000037V1bG</td>\n",
       "      <td>35.0</td>\n",
       "      <td>43.0</td>\n",
       "      <td>50.0</td>\n",
       "      <td>82.0</td>\n",
       "      <td>29.0</td>\n",
       "      <td>75.0</td>\n",
       "      <td>aluno 38</td>\n",
       "      <td>NA-CJ</td>\n",
       "      <td>TRI-F</td>\n",
       "      <td>COL-F02</td>\n",
       "      <td>CO-2337</td>\n",
       "      <td>Rede Cruzada</td>\n",
       "      <td>B2B</td>\n",
       "    </tr>\n",
       "    <tr>\n",
       "      <th>4</th>\n",
       "      <td>0033t000037V1cR</td>\n",
       "      <td>50.0</td>\n",
       "      <td>50.0</td>\n",
       "      <td>5.0</td>\n",
       "      <td>84.0</td>\n",
       "      <td>35.0</td>\n",
       "      <td>68.0</td>\n",
       "      <td>aluno 27</td>\n",
       "      <td>NA-CJ</td>\n",
       "      <td>TRI-A</td>\n",
       "      <td>COL-A03</td>\n",
       "      <td>CO-1886</td>\n",
       "      <td>Rede Cruzada</td>\n",
       "      <td>B2B</td>\n",
       "    </tr>\n",
       "  </tbody>\n",
       "</table>\n",
       "</div>"
      ],
      "text/plain": [
       "     ID do contato  1 Aplicação Leitura  2 Aplicação Leitura  \\\n",
       "0  0031U00001G1Kzr                  2.0                 78.0   \n",
       "1  0033t000037Ulz0                  9.0                 49.0   \n",
       "2  0033t000037UVA3                 52.0                 67.0   \n",
       "3  0033t000037V1bG                 35.0                 43.0   \n",
       "4  0033t000037V1cR                 50.0                 50.0   \n",
       "\n",
       "   1 Aplicação Matemática  2 Aplicação Matemática  1 Aplicação Redação  \\\n",
       "0                    68.0                    54.0                 70.0   \n",
       "1                    36.0                    39.0                 15.0   \n",
       "2                    53.0                    41.0                 47.0   \n",
       "3                    50.0                    82.0                 29.0   \n",
       "4                     5.0                    84.0                 35.0   \n",
       "\n",
       "   2 Aplicação Redação Nome do Aluno  Nação  Tribo Coletivo    Turma  \\\n",
       "0                 71.0     aluno 239  NA-CJ  TRI-B  COL-B01  CO-1867   \n",
       "1                 90.0     aluno 255  NA-CJ  TRI-F  COL-F01  CO-1903   \n",
       "2                 68.0     aluno 111  NA-CJ  TRI-F  COL-F01  CO-1912   \n",
       "3                 75.0      aluno 38  NA-CJ  TRI-F  COL-F02  CO-2337   \n",
       "4                 68.0      aluno 27  NA-CJ  TRI-A  COL-A03  CO-1886   \n",
       "\n",
       "                                Parceiros Tipo de Relacionamento  \n",
       "0  Alicerce Educação - Projeto Reabertura               Bolsista  \n",
       "1                                     VRB                    B2B  \n",
       "2                                     VRB                    B2B  \n",
       "3                            Rede Cruzada                    B2B  \n",
       "4                            Rede Cruzada                    B2B  "
      ]
     },
     "execution_count": 13,
     "metadata": {},
     "output_type": "execute_result"
    }
   ],
   "source": [
    "df = pd.merge(df2_final, df1_nan, how = 'inner', on = 'ID do contato')"
   ]
  },
  {
   "cell_type": "code",
   "execution_count": 28,
   "id": "9bbc8aee",
   "metadata": {
    "collapsed": true
   },
   "outputs": [
    {
     "data": {
      "text/html": [
       "<div>\n",
       "<style scoped>\n",
       "    .dataframe tbody tr th:only-of-type {\n",
       "        vertical-align: middle;\n",
       "    }\n",
       "\n",
       "    .dataframe tbody tr th {\n",
       "        vertical-align: top;\n",
       "    }\n",
       "\n",
       "    .dataframe thead th {\n",
       "        text-align: right;\n",
       "    }\n",
       "</style>\n",
       "<table border=\"1\" class=\"dataframe\">\n",
       "  <thead>\n",
       "    <tr style=\"text-align: right;\">\n",
       "      <th></th>\n",
       "      <th>ID do contato</th>\n",
       "      <th>1 Aplicação Leitura</th>\n",
       "      <th>2 Aplicação Leitura</th>\n",
       "      <th>1 Aplicação Matemática</th>\n",
       "      <th>2 Aplicação Matemática</th>\n",
       "      <th>1 Aplicação Redação</th>\n",
       "      <th>2 Aplicação Redação</th>\n",
       "      <th>Nome do Aluno</th>\n",
       "      <th>Nação</th>\n",
       "      <th>Tribo</th>\n",
       "      <th>Coletivo</th>\n",
       "      <th>Turma</th>\n",
       "      <th>Parceiros</th>\n",
       "      <th>Tipo de Relacionamento</th>\n",
       "      <th>Média Leitura</th>\n",
       "    </tr>\n",
       "  </thead>\n",
       "  <tbody>\n",
       "    <tr>\n",
       "      <th>0</th>\n",
       "      <td>0031U00001G1Kzr</td>\n",
       "      <td>2.0</td>\n",
       "      <td>78.0</td>\n",
       "      <td>68.0</td>\n",
       "      <td>54.0</td>\n",
       "      <td>70.0</td>\n",
       "      <td>71.0</td>\n",
       "      <td>aluno 239</td>\n",
       "      <td>NA-CJ</td>\n",
       "      <td>TRI-B</td>\n",
       "      <td>COL-B01</td>\n",
       "      <td>CO-1867</td>\n",
       "      <td>Alicerce Educação - Projeto Reabertura</td>\n",
       "      <td>Bolsista</td>\n",
       "      <td>40.0</td>\n",
       "    </tr>\n",
       "    <tr>\n",
       "      <th>1</th>\n",
       "      <td>0033t000037Ulz0</td>\n",
       "      <td>9.0</td>\n",
       "      <td>49.0</td>\n",
       "      <td>36.0</td>\n",
       "      <td>39.0</td>\n",
       "      <td>15.0</td>\n",
       "      <td>90.0</td>\n",
       "      <td>aluno 255</td>\n",
       "      <td>NA-CJ</td>\n",
       "      <td>TRI-F</td>\n",
       "      <td>COL-F01</td>\n",
       "      <td>CO-1903</td>\n",
       "      <td>VRB</td>\n",
       "      <td>B2B</td>\n",
       "      <td>29.0</td>\n",
       "    </tr>\n",
       "    <tr>\n",
       "      <th>2</th>\n",
       "      <td>0033t000037UVA3</td>\n",
       "      <td>52.0</td>\n",
       "      <td>67.0</td>\n",
       "      <td>53.0</td>\n",
       "      <td>41.0</td>\n",
       "      <td>47.0</td>\n",
       "      <td>68.0</td>\n",
       "      <td>aluno 111</td>\n",
       "      <td>NA-CJ</td>\n",
       "      <td>TRI-F</td>\n",
       "      <td>COL-F01</td>\n",
       "      <td>CO-1912</td>\n",
       "      <td>VRB</td>\n",
       "      <td>B2B</td>\n",
       "      <td>59.5</td>\n",
       "    </tr>\n",
       "    <tr>\n",
       "      <th>3</th>\n",
       "      <td>0033t000037V1bG</td>\n",
       "      <td>35.0</td>\n",
       "      <td>43.0</td>\n",
       "      <td>50.0</td>\n",
       "      <td>82.0</td>\n",
       "      <td>29.0</td>\n",
       "      <td>75.0</td>\n",
       "      <td>aluno 38</td>\n",
       "      <td>NA-CJ</td>\n",
       "      <td>TRI-F</td>\n",
       "      <td>COL-F02</td>\n",
       "      <td>CO-2337</td>\n",
       "      <td>Rede Cruzada</td>\n",
       "      <td>B2B</td>\n",
       "      <td>39.0</td>\n",
       "    </tr>\n",
       "    <tr>\n",
       "      <th>4</th>\n",
       "      <td>0033t000037V1cR</td>\n",
       "      <td>50.0</td>\n",
       "      <td>50.0</td>\n",
       "      <td>5.0</td>\n",
       "      <td>84.0</td>\n",
       "      <td>35.0</td>\n",
       "      <td>68.0</td>\n",
       "      <td>aluno 27</td>\n",
       "      <td>NA-CJ</td>\n",
       "      <td>TRI-A</td>\n",
       "      <td>COL-A03</td>\n",
       "      <td>CO-1886</td>\n",
       "      <td>Rede Cruzada</td>\n",
       "      <td>B2B</td>\n",
       "      <td>50.0</td>\n",
       "    </tr>\n",
       "  </tbody>\n",
       "</table>\n",
       "</div>"
      ],
      "text/plain": [
       "     ID do contato  1 Aplicação Leitura  2 Aplicação Leitura  \\\n",
       "0  0031U00001G1Kzr                  2.0                 78.0   \n",
       "1  0033t000037Ulz0                  9.0                 49.0   \n",
       "2  0033t000037UVA3                 52.0                 67.0   \n",
       "3  0033t000037V1bG                 35.0                 43.0   \n",
       "4  0033t000037V1cR                 50.0                 50.0   \n",
       "\n",
       "   1 Aplicação Matemática  2 Aplicação Matemática  1 Aplicação Redação  \\\n",
       "0                    68.0                    54.0                 70.0   \n",
       "1                    36.0                    39.0                 15.0   \n",
       "2                    53.0                    41.0                 47.0   \n",
       "3                    50.0                    82.0                 29.0   \n",
       "4                     5.0                    84.0                 35.0   \n",
       "\n",
       "   2 Aplicação Redação Nome do Aluno  Nação  Tribo Coletivo    Turma  \\\n",
       "0                 71.0     aluno 239  NA-CJ  TRI-B  COL-B01  CO-1867   \n",
       "1                 90.0     aluno 255  NA-CJ  TRI-F  COL-F01  CO-1903   \n",
       "2                 68.0     aluno 111  NA-CJ  TRI-F  COL-F01  CO-1912   \n",
       "3                 75.0      aluno 38  NA-CJ  TRI-F  COL-F02  CO-2337   \n",
       "4                 68.0      aluno 27  NA-CJ  TRI-A  COL-A03  CO-1886   \n",
       "\n",
       "                                Parceiros Tipo de Relacionamento  \\\n",
       "0  Alicerce Educação - Projeto Reabertura               Bolsista   \n",
       "1                                     VRB                    B2B   \n",
       "2                                     VRB                    B2B   \n",
       "3                            Rede Cruzada                    B2B   \n",
       "4                            Rede Cruzada                    B2B   \n",
       "\n",
       "   Média Leitura  \n",
       "0           40.0  \n",
       "1           29.0  \n",
       "2           59.5  \n",
       "3           39.0  \n",
       "4           50.0  "
      ]
     },
     "execution_count": 28,
     "metadata": {},
     "output_type": "execute_result"
    }
   ],
   "source": [
    "df['Média Leitura']=(df['1 Aplicação Leitura']+df['2 Aplicação Leitura'])/2\n",
    "df['Média Matemática']=(df['1 Aplicação Matemática']+df['2 Aplicação Matemática'])/2\n",
    "df['Média Redação']=(df['1 Aplicação Redação']+df['2 Aplicação Redação'])/2\n",
    "\n",
    "df['Média Total']=(df['Média Leitura']+df['Média Matemática']+df['Média Redação'])/3\n",
    "\n",
    "df.head()"
   ]
  },
  {
   "cell_type": "code",
   "execution_count": 39,
   "id": "dc899a89",
   "metadata": {},
   "outputs": [
    {
     "data": {
      "text/html": [
       "<div>\n",
       "<style scoped>\n",
       "    .dataframe tbody tr th:only-of-type {\n",
       "        vertical-align: middle;\n",
       "    }\n",
       "\n",
       "    .dataframe tbody tr th {\n",
       "        vertical-align: top;\n",
       "    }\n",
       "\n",
       "    .dataframe thead th {\n",
       "        text-align: right;\n",
       "    }\n",
       "</style>\n",
       "<table border=\"1\" class=\"dataframe\">\n",
       "  <thead>\n",
       "    <tr style=\"text-align: right;\">\n",
       "      <th></th>\n",
       "      <th>1 Aplicação Leitura</th>\n",
       "      <th>2 Aplicação Leitura</th>\n",
       "      <th>1 Aplicação Matemática</th>\n",
       "      <th>2 Aplicação Matemática</th>\n",
       "      <th>1 Aplicação Redação</th>\n",
       "      <th>2 Aplicação Redação</th>\n",
       "      <th>Média Leitura</th>\n",
       "      <th>Média Matemática</th>\n",
       "      <th>Média Redação</th>\n",
       "      <th>Média Total</th>\n",
       "    </tr>\n",
       "  </thead>\n",
       "  <tbody>\n",
       "    <tr>\n",
       "      <th>count</th>\n",
       "      <td>340.000000</td>\n",
       "      <td>340.000000</td>\n",
       "      <td>340.000000</td>\n",
       "      <td>340.000000</td>\n",
       "      <td>340.000000</td>\n",
       "      <td>340.000000</td>\n",
       "      <td>340.000000</td>\n",
       "      <td>340.000000</td>\n",
       "      <td>340.000000</td>\n",
       "      <td>340.000000</td>\n",
       "    </tr>\n",
       "    <tr>\n",
       "      <th>mean</th>\n",
       "      <td>33.844118</td>\n",
       "      <td>66.235294</td>\n",
       "      <td>34.570588</td>\n",
       "      <td>66.444118</td>\n",
       "      <td>34.811765</td>\n",
       "      <td>66.261765</td>\n",
       "      <td>50.039706</td>\n",
       "      <td>50.507353</td>\n",
       "      <td>50.536765</td>\n",
       "      <td>50.361275</td>\n",
       "    </tr>\n",
       "    <tr>\n",
       "      <th>std</th>\n",
       "      <td>20.086740</td>\n",
       "      <td>20.652996</td>\n",
       "      <td>20.635001</td>\n",
       "      <td>19.992177</td>\n",
       "      <td>19.439032</td>\n",
       "      <td>21.107234</td>\n",
       "      <td>13.987902</td>\n",
       "      <td>14.739451</td>\n",
       "      <td>14.072745</td>\n",
       "      <td>8.165465</td>\n",
       "    </tr>\n",
       "    <tr>\n",
       "      <th>min</th>\n",
       "      <td>1.000000</td>\n",
       "      <td>30.000000</td>\n",
       "      <td>1.000000</td>\n",
       "      <td>30.000000</td>\n",
       "      <td>1.000000</td>\n",
       "      <td>30.000000</td>\n",
       "      <td>18.500000</td>\n",
       "      <td>16.000000</td>\n",
       "      <td>18.500000</td>\n",
       "      <td>29.000000</td>\n",
       "    </tr>\n",
       "    <tr>\n",
       "      <th>25%</th>\n",
       "      <td>15.750000</td>\n",
       "      <td>48.750000</td>\n",
       "      <td>18.000000</td>\n",
       "      <td>51.000000</td>\n",
       "      <td>20.000000</td>\n",
       "      <td>47.000000</td>\n",
       "      <td>40.500000</td>\n",
       "      <td>40.500000</td>\n",
       "      <td>40.375000</td>\n",
       "      <td>45.333333</td>\n",
       "    </tr>\n",
       "    <tr>\n",
       "      <th>50%</th>\n",
       "      <td>33.000000</td>\n",
       "      <td>66.000000</td>\n",
       "      <td>34.000000</td>\n",
       "      <td>66.000000</td>\n",
       "      <td>34.000000</td>\n",
       "      <td>67.000000</td>\n",
       "      <td>50.000000</td>\n",
       "      <td>51.000000</td>\n",
       "      <td>50.500000</td>\n",
       "      <td>49.916667</td>\n",
       "    </tr>\n",
       "    <tr>\n",
       "      <th>75%</th>\n",
       "      <td>50.000000</td>\n",
       "      <td>84.000000</td>\n",
       "      <td>53.000000</td>\n",
       "      <td>84.000000</td>\n",
       "      <td>50.250000</td>\n",
       "      <td>84.000000</td>\n",
       "      <td>60.000000</td>\n",
       "      <td>61.500000</td>\n",
       "      <td>61.000000</td>\n",
       "      <td>56.000000</td>\n",
       "    </tr>\n",
       "    <tr>\n",
       "      <th>max</th>\n",
       "      <td>70.000000</td>\n",
       "      <td>100.000000</td>\n",
       "      <td>69.000000</td>\n",
       "      <td>100.000000</td>\n",
       "      <td>70.000000</td>\n",
       "      <td>100.000000</td>\n",
       "      <td>81.500000</td>\n",
       "      <td>83.000000</td>\n",
       "      <td>85.000000</td>\n",
       "      <td>75.166667</td>\n",
       "    </tr>\n",
       "  </tbody>\n",
       "</table>\n",
       "</div>"
      ],
      "text/plain": [
       "       1 Aplicação Leitura  2 Aplicação Leitura  1 Aplicação Matemática  \\\n",
       "count           340.000000           340.000000              340.000000   \n",
       "mean             33.844118            66.235294               34.570588   \n",
       "std              20.086740            20.652996               20.635001   \n",
       "min               1.000000            30.000000                1.000000   \n",
       "25%              15.750000            48.750000               18.000000   \n",
       "50%              33.000000            66.000000               34.000000   \n",
       "75%              50.000000            84.000000               53.000000   \n",
       "max              70.000000           100.000000               69.000000   \n",
       "\n",
       "       2 Aplicação Matemática  1 Aplicação Redação  2 Aplicação Redação  \\\n",
       "count              340.000000           340.000000           340.000000   \n",
       "mean                66.444118            34.811765            66.261765   \n",
       "std                 19.992177            19.439032            21.107234   \n",
       "min                 30.000000             1.000000            30.000000   \n",
       "25%                 51.000000            20.000000            47.000000   \n",
       "50%                 66.000000            34.000000            67.000000   \n",
       "75%                 84.000000            50.250000            84.000000   \n",
       "max                100.000000            70.000000           100.000000   \n",
       "\n",
       "       Média Leitura  Média Matemática  Média Redação  Média Total  \n",
       "count     340.000000        340.000000     340.000000   340.000000  \n",
       "mean       50.039706         50.507353      50.536765    50.361275  \n",
       "std        13.987902         14.739451      14.072745     8.165465  \n",
       "min        18.500000         16.000000      18.500000    29.000000  \n",
       "25%        40.500000         40.500000      40.375000    45.333333  \n",
       "50%        50.000000         51.000000      50.500000    49.916667  \n",
       "75%        60.000000         61.500000      61.000000    56.000000  \n",
       "max        81.500000         83.000000      85.000000    75.166667  "
      ]
     },
     "execution_count": 39,
     "metadata": {},
     "output_type": "execute_result"
    }
   ],
   "source": [
    "df.describe()"
   ]
  },
  {
   "cell_type": "code",
   "execution_count": 116,
   "id": "0a1e60d8",
   "metadata": {},
   "outputs": [
    {
     "data": {
      "application/vnd.plotly.v1+json": {
       "config": {
        "plotlyServerURL": "https://plot.ly"
       },
       "data": [
        {
         "hovertemplate": "Parceiros=Alicerce Educação - Projeto Reabertura<br>Nome do Aluno=%{x}<br>Média Total=%{y}<extra></extra>",
         "legendgroup": "Alicerce Educação - Projeto Reabertura",
         "marker": {
          "color": "#636efa",
          "symbol": "circle"
         },
         "mode": "markers",
         "name": "Alicerce Educação - Projeto Reabertura",
         "orientation": "v",
         "showlegend": true,
         "type": "scatter",
         "x": [
          "aluno 239",
          "aluno 322",
          "aluno 187",
          "aluno 210",
          "aluno 12",
          "aluno 228",
          "aluno 192",
          "aluno 272",
          "aluno 19",
          "aluno 188",
          "aluno 167",
          "aluno 108",
          "aluno 334",
          "aluno 171",
          "aluno 302",
          "aluno 425",
          "aluno 182",
          "aluno 344",
          "aluno 288",
          "aluno 120",
          "aluno 381",
          "aluno 356",
          "aluno 487",
          "aluno 437",
          "aluno 439",
          "aluno 223",
          "aluno 37",
          "aluno 402"
         ],
         "xaxis": "x",
         "y": [
          57.166666666666664,
          49,
          36.333333333333336,
          57.166666666666664,
          46.833333333333336,
          45.666666666666664,
          40.333333333333336,
          33.666666666666664,
          57,
          32,
          48.666666666666664,
          39.5,
          44.666666666666664,
          63,
          54.833333333333336,
          53,
          50.666666666666664,
          50.666666666666664,
          51.666666666666664,
          41.833333333333336,
          57.5,
          52.833333333333336,
          48.166666666666664,
          54.5,
          49.666666666666664,
          55.666666666666664,
          53.166666666666664,
          47.666666666666664
         ],
         "yaxis": "y"
        },
        {
         "hovertemplate": "Parceiros=VRB<br>Nome do Aluno=%{x}<br>Média Total=%{y}<extra></extra>",
         "legendgroup": "VRB",
         "marker": {
          "color": "#EF553B",
          "symbol": "circle"
         },
         "mode": "markers",
         "name": "VRB",
         "orientation": "v",
         "showlegend": true,
         "type": "scatter",
         "x": [
          "aluno 255",
          "aluno 111",
          "aluno 292",
          "aluno 15",
          "aluno 265",
          "aluno 68",
          "aluno 86",
          "aluno 9",
          "aluno 423",
          "aluno 241",
          "aluno 286",
          "aluno 26",
          "aluno 50",
          "aluno 373",
          "aluno 236",
          "aluno 264",
          "aluno 455",
          "aluno 3",
          "aluno 191",
          "aluno 263",
          "aluno 49",
          "aluno 276",
          "aluno 477",
          "aluno 196",
          "aluno 28",
          "aluno 314"
         ],
         "xaxis": "x",
         "y": [
          39.666666666666664,
          54.666666666666664,
          44.5,
          58.5,
          51.5,
          53.666666666666664,
          40.166666666666664,
          46.833333333333336,
          47.666666666666664,
          56.333333333333336,
          47.166666666666664,
          56.666666666666664,
          67.83333333333333,
          43.833333333333336,
          37.833333333333336,
          64.83333333333333,
          33.666666666666664,
          58.666666666666664,
          55.833333333333336,
          54.833333333333336,
          68.33333333333333,
          45,
          55.5,
          53.833333333333336,
          45,
          58.5
         ],
         "yaxis": "y"
        },
        {
         "hovertemplate": "Parceiros=Rede Cruzada<br>Nome do Aluno=%{x}<br>Média Total=%{y}<extra></extra>",
         "legendgroup": "Rede Cruzada",
         "marker": {
          "color": "#00cc96",
          "symbol": "circle"
         },
         "mode": "markers",
         "name": "Rede Cruzada",
         "orientation": "v",
         "showlegend": true,
         "type": "scatter",
         "x": [
          "aluno 38",
          "aluno 27",
          "aluno 420",
          "aluno 14",
          "aluno 453",
          "aluno 285",
          "aluno 309",
          "aluno 416",
          "aluno 262",
          "aluno 65",
          "aluno 467",
          "aluno 85",
          "aluno 492",
          "aluno 293",
          "aluno 337",
          "aluno 424",
          "aluno 190"
         ],
         "xaxis": "x",
         "y": [
          52.333333333333336,
          48.666666666666664,
          46.333333333333336,
          43.333333333333336,
          54.666666666666664,
          70.16666666666667,
          37,
          35.5,
          56.166666666666664,
          57.833333333333336,
          62.666666666666664,
          42.166666666666664,
          41.5,
          47.666666666666664,
          65,
          63.833333333333336,
          45.5
         ],
         "yaxis": "y"
        },
        {
         "hovertemplate": "Parceiros=Daus<br>Nome do Aluno=%{x}<br>Média Total=%{y}<extra></extra>",
         "legendgroup": "Daus",
         "marker": {
          "color": "#ab63fa",
          "symbol": "circle"
         },
         "mode": "markers",
         "name": "Daus",
         "orientation": "v",
         "showlegend": true,
         "type": "scatter",
         "x": [
          "aluno 360",
          "aluno 230",
          "aluno 229",
          "aluno 469",
          "aluno 67",
          "aluno 248",
          "aluno 132",
          "aluno 278",
          "aluno 98"
         ],
         "xaxis": "x",
         "y": [
          42,
          54,
          58.5,
          51.333333333333336,
          52.166666666666664,
          51.166666666666664,
          51.166666666666664,
          39,
          40.333333333333336
         ],
         "yaxis": "y"
        },
        {
         "hovertemplate": "Parceiros=Instituto Alicerce<br>Nome do Aluno=%{x}<br>Média Total=%{y}<extra></extra>",
         "legendgroup": "Instituto Alicerce",
         "marker": {
          "color": "#FFA15A",
          "symbol": "circle"
         },
         "mode": "markers",
         "name": "Instituto Alicerce",
         "orientation": "v",
         "showlegend": true,
         "type": "scatter",
         "x": [
          "aluno 296",
          "aluno 156",
          "aluno 35",
          "aluno 141",
          "aluno 130",
          "aluno 93",
          "aluno 254",
          "aluno 168",
          "aluno 426"
         ],
         "xaxis": "x",
         "y": [
          51.166666666666664,
          49.5,
          44.666666666666664,
          41,
          67.5,
          52.5,
          61,
          51.166666666666664,
          47.333333333333336
         ],
         "yaxis": "y"
        },
        {
         "hovertemplate": "Parceiros=Despertar<br>Nome do Aluno=%{x}<br>Média Total=%{y}<extra></extra>",
         "legendgroup": "Despertar",
         "marker": {
          "color": "#19d3f3",
          "symbol": "circle"
         },
         "mode": "markers",
         "name": "Despertar",
         "orientation": "v",
         "showlegend": true,
         "type": "scatter",
         "x": [
          "aluno 474",
          "aluno 376",
          "aluno 103",
          "aluno 234",
          "aluno 208",
          "aluno 400",
          "aluno 124",
          "aluno 144",
          "aluno 41",
          "aluno 384",
          "aluno 483",
          "aluno 406",
          "aluno 60",
          "aluno 478",
          "aluno 454"
         ],
         "xaxis": "x",
         "y": [
          45.5,
          46.333333333333336,
          56.5,
          75.16666666666667,
          58.333333333333336,
          50,
          54.333333333333336,
          52.666666666666664,
          45.166666666666664,
          46.666666666666664,
          40.666666666666664,
          50.666666666666664,
          50.5,
          49.166666666666664,
          49.833333333333336
         ],
         "yaxis": "y"
        },
        {
         "hovertemplate": "Parceiros=Nubank<br>Nome do Aluno=%{x}<br>Média Total=%{y}<extra></extra>",
         "legendgroup": "Nubank",
         "marker": {
          "color": "#FF6692",
          "symbol": "circle"
         },
         "mode": "markers",
         "name": "Nubank",
         "orientation": "v",
         "showlegend": true,
         "type": "scatter",
         "x": [
          "aluno 213",
          "aluno 118",
          "aluno 335",
          "aluno 51",
          "aluno 131",
          "aluno 484",
          "aluno 246",
          "aluno 101",
          "aluno 386",
          "aluno 140",
          "aluno 123",
          "aluno 238",
          "aluno 174",
          "aluno 110",
          "aluno 22",
          "aluno 270",
          "aluno 261",
          "aluno 485",
          "aluno 8",
          "aluno 395",
          "aluno 411",
          "aluno 377",
          "aluno 173",
          "aluno 119",
          "aluno 94",
          "aluno 253",
          "aluno 149",
          "aluno 45",
          "aluno 64",
          "aluno 466",
          "aluno 24",
          "aluno 154",
          "aluno 127",
          "aluno 135",
          "aluno 125",
          "aluno 126",
          "aluno 429",
          "aluno 36",
          "aluno 489",
          "aluno 155",
          "aluno 438",
          "aluno 271",
          "aluno 95",
          "aluno 33",
          "aluno 200",
          "aluno 404",
          "aluno 11",
          "aluno 345",
          "aluno 217"
         ],
         "xaxis": "x",
         "y": [
          43.166666666666664,
          50.666666666666664,
          49.833333333333336,
          54,
          49.5,
          53,
          59,
          39.833333333333336,
          63.5,
          52.5,
          62.166666666666664,
          48.833333333333336,
          41.166666666666664,
          58.666666666666664,
          47.166666666666664,
          37.5,
          62,
          47.333333333333336,
          32.833333333333336,
          43.666666666666664,
          53.166666666666664,
          60.166666666666664,
          45.666666666666664,
          43.666666666666664,
          42.333333333333336,
          54.5,
          48.333333333333336,
          55.833333333333336,
          58.5,
          45,
          60.166666666666664,
          65.66666666666667,
          39.5,
          40.166666666666664,
          53.166666666666664,
          37.166666666666664,
          45.5,
          55.5,
          43.666666666666664,
          57.166666666666664,
          56.5,
          51.5,
          51.333333333333336,
          60.666666666666664,
          50.333333333333336,
          58.166666666666664,
          56.5,
          53.166666666666664,
          46.333333333333336
         ],
         "yaxis": "y"
        },
        {
         "hovertemplate": "Parceiros=Carrefour<br>Nome do Aluno=%{x}<br>Média Total=%{y}<extra></extra>",
         "legendgroup": "Carrefour",
         "marker": {
          "color": "#B6E880",
          "symbol": "circle"
         },
         "mode": "markers",
         "name": "Carrefour",
         "orientation": "v",
         "showlegend": true,
         "type": "scatter",
         "x": [
          "aluno 419",
          "aluno 498",
          "aluno 393",
          "aluno 59",
          "aluno 427"
         ],
         "xaxis": "x",
         "y": [
          57.333333333333336,
          48.166666666666664,
          62.833333333333336,
          48.5,
          47.5
         ],
         "yaxis": "y"
        },
        {
         "hovertemplate": "Parceiros=Instituto Ellus<br>Nome do Aluno=%{x}<br>Média Total=%{y}<extra></extra>",
         "legendgroup": "Instituto Ellus",
         "marker": {
          "color": "#FF97FF",
          "symbol": "circle"
         },
         "mode": "markers",
         "name": "Instituto Ellus",
         "orientation": "v",
         "showlegend": true,
         "type": "scatter",
         "x": [
          "aluno 25",
          "aluno 202",
          "aluno 392",
          "aluno 447",
          "aluno 367",
          "aluno 20",
          "aluno 159"
         ],
         "xaxis": "x",
         "y": [
          46.833333333333336,
          29.333333333333332,
          56.333333333333336,
          47.5,
          64.83333333333333,
          51.5,
          69.66666666666667
         ],
         "yaxis": "y"
        },
        {
         "hovertemplate": "Parceiros=PECP - EINSTEIN<br>Nome do Aluno=%{x}<br>Média Total=%{y}<extra></extra>",
         "legendgroup": "PECP - EINSTEIN",
         "marker": {
          "color": "#FECB52",
          "symbol": "circle"
         },
         "mode": "markers",
         "name": "PECP - EINSTEIN",
         "orientation": "v",
         "showlegend": true,
         "type": "scatter",
         "x": [
          "aluno 459",
          "aluno 481",
          "aluno 166",
          "aluno 46",
          "aluno 257",
          "aluno 324",
          "aluno 152",
          "aluno 77",
          "aluno 170"
         ],
         "xaxis": "x",
         "y": [
          46.333333333333336,
          39.666666666666664,
          62.333333333333336,
          51.333333333333336,
          60,
          47.666666666666664,
          45.666666666666664,
          47.5,
          67.66666666666667
         ],
         "yaxis": "y"
        },
        {
         "hovertemplate": "Parceiros=Alicerce Educação - Alipass<br>Nome do Aluno=%{x}<br>Média Total=%{y}<extra></extra>",
         "legendgroup": "Alicerce Educação - Alipass",
         "marker": {
          "color": "#636efa",
          "symbol": "circle"
         },
         "mode": "markers",
         "name": "Alicerce Educação - Alipass",
         "orientation": "v",
         "showlegend": true,
         "type": "scatter",
         "x": [
          "aluno 232",
          "aluno 394",
          "aluno 181",
          "aluno 491",
          "aluno 413"
         ],
         "xaxis": "x",
         "y": [
          40.166666666666664,
          49.333333333333336,
          42.666666666666664,
          51.666666666666664,
          57.166666666666664
         ],
         "yaxis": "y"
        },
        {
         "hovertemplate": "Parceiros=INOA<br>Nome do Aluno=%{x}<br>Média Total=%{y}<extra></extra>",
         "legendgroup": "INOA",
         "marker": {
          "color": "#EF553B",
          "symbol": "circle"
         },
         "mode": "markers",
         "name": "INOA",
         "orientation": "v",
         "showlegend": true,
         "type": "scatter",
         "x": [
          "aluno 388",
          "aluno 378",
          "aluno 449",
          "aluno 112",
          "aluno 323",
          "aluno 312",
          "aluno 495",
          "aluno 142",
          "aluno 48",
          "aluno 456"
         ],
         "xaxis": "x",
         "y": [
          58.833333333333336,
          46.666666666666664,
          45.166666666666664,
          60.833333333333336,
          48.5,
          61.666666666666664,
          48,
          51.166666666666664,
          51.833333333333336,
          44
         ],
         "yaxis": "y"
        },
        {
         "hovertemplate": "Parceiros=Daniba<br>Nome do Aluno=%{x}<br>Média Total=%{y}<extra></extra>",
         "legendgroup": "Daniba",
         "marker": {
          "color": "#00cc96",
          "symbol": "circle"
         },
         "mode": "markers",
         "name": "Daniba",
         "orientation": "v",
         "showlegend": true,
         "type": "scatter",
         "x": [
          "aluno 468",
          "aluno 162",
          "aluno 473",
          "aluno 440",
          "aluno 57",
          "aluno 153",
          "aluno 92",
          "aluno 17"
         ],
         "xaxis": "x",
         "y": [
          49.666666666666664,
          32.833333333333336,
          49.666666666666664,
          43.5,
          45.833333333333336,
          54,
          41.666666666666664,
          47.833333333333336
         ],
         "yaxis": "y"
        },
        {
         "hovertemplate": "Parceiros=Instituto MRV<br>Nome do Aluno=%{x}<br>Média Total=%{y}<extra></extra>",
         "legendgroup": "Instituto MRV",
         "marker": {
          "color": "#ab63fa",
          "symbol": "circle"
         },
         "mode": "markers",
         "name": "Instituto MRV",
         "orientation": "v",
         "showlegend": true,
         "type": "scatter",
         "x": [
          "aluno 16",
          "aluno 298",
          "aluno 44",
          "aluno 78",
          "aluno 209",
          "aluno 493",
          "aluno 363",
          "aluno 397",
          "aluno 54",
          "aluno 480",
          "aluno 165",
          "aluno 97"
         ],
         "xaxis": "x",
         "y": [
          46.5,
          47.333333333333336,
          37.166666666666664,
          49.833333333333336,
          42.5,
          58.333333333333336,
          39.833333333333336,
          51.5,
          52.333333333333336,
          43.833333333333336,
          57.5,
          50.5
         ],
         "yaxis": "y"
        },
        {
         "hovertemplate": "Parceiros=Hugo Costa<br>Nome do Aluno=%{x}<br>Média Total=%{y}<extra></extra>",
         "legendgroup": "Hugo Costa",
         "marker": {
          "color": "#FFA15A",
          "symbol": "circle"
         },
         "mode": "markers",
         "name": "Hugo Costa",
         "orientation": "v",
         "showlegend": true,
         "type": "scatter",
         "x": [
          "aluno 21",
          "aluno 105",
          "aluno 448",
          "aluno 195",
          "aluno 342",
          "aluno 281"
         ],
         "xaxis": "x",
         "y": [
          55.5,
          50.166666666666664,
          48.666666666666664,
          63,
          47,
          59.333333333333336
         ],
         "yaxis": "y"
        },
        {
         "hovertemplate": "Parceiros=Sinch<br>Nome do Aluno=%{x}<br>Média Total=%{y}<extra></extra>",
         "legendgroup": "Sinch",
         "marker": {
          "color": "#19d3f3",
          "symbol": "circle"
         },
         "mode": "markers",
         "name": "Sinch",
         "orientation": "v",
         "showlegend": true,
         "type": "scatter",
         "x": [
          "aluno 143",
          "aluno 359",
          "aluno 197",
          "aluno 441",
          "aluno 463",
          "aluno 379",
          "aluno 371",
          "aluno 336",
          "aluno 350",
          "aluno 247"
         ],
         "xaxis": "x",
         "y": [
          69.66666666666667,
          36.833333333333336,
          52.5,
          50.333333333333336,
          38.333333333333336,
          38.333333333333336,
          61,
          64.33333333333333,
          46.5,
          54.5
         ],
         "yaxis": "y"
        },
        {
         "hovertemplate": "Parceiros=Andreas (Rappi)<br>Nome do Aluno=%{x}<br>Média Total=%{y}<extra></extra>",
         "legendgroup": "Andreas (Rappi)",
         "marker": {
          "color": "#FF6692",
          "symbol": "circle"
         },
         "mode": "markers",
         "name": "Andreas (Rappi)",
         "orientation": "v",
         "showlegend": true,
         "type": "scatter",
         "x": [
          "aluno 206",
          "aluno 184"
         ],
         "xaxis": "x",
         "y": [
          51.833333333333336,
          49.166666666666664
         ],
         "yaxis": "y"
        },
        {
         "hovertemplate": "Parceiros=Roldão<br>Nome do Aluno=%{x}<br>Média Total=%{y}<extra></extra>",
         "legendgroup": "Roldão",
         "marker": {
          "color": "#B6E880",
          "symbol": "circle"
         },
         "mode": "markers",
         "name": "Roldão",
         "orientation": "v",
         "showlegend": true,
         "type": "scatter",
         "x": [
          "aluno 486",
          "aluno 494",
          "aluno 348"
         ],
         "xaxis": "x",
         "y": [
          48.166666666666664,
          42,
          46.666666666666664
         ],
         "yaxis": "y"
        },
        {
         "hovertemplate": "Parceiros=Parceiros da Educação<br>Nome do Aluno=%{x}<br>Média Total=%{y}<extra></extra>",
         "legendgroup": "Parceiros da Educação",
         "marker": {
          "color": "#FF97FF",
          "symbol": "circle"
         },
         "mode": "markers",
         "name": "Parceiros da Educação",
         "orientation": "v",
         "showlegend": true,
         "type": "scatter",
         "x": [
          "aluno 13",
          "aluno 148",
          "aluno 161",
          "aluno 318"
         ],
         "xaxis": "x",
         "y": [
          52,
          56,
          55,
          58.666666666666664
         ],
         "yaxis": "y"
        },
        {
         "hovertemplate": "Parceiros=Petribu<br>Nome do Aluno=%{x}<br>Média Total=%{y}<extra></extra>",
         "legendgroup": "Petribu",
         "marker": {
          "color": "#FECB52",
          "symbol": "circle"
         },
         "mode": "markers",
         "name": "Petribu",
         "orientation": "v",
         "showlegend": true,
         "type": "scatter",
         "x": [
          "aluno 56",
          "aluno 116"
         ],
         "xaxis": "x",
         "y": [
          46.333333333333336,
          54.333333333333336
         ],
         "yaxis": "y"
        },
        {
         "hovertemplate": "Parceiros=Ação Pela Paz<br>Nome do Aluno=%{x}<br>Média Total=%{y}<extra></extra>",
         "legendgroup": "Ação Pela Paz",
         "marker": {
          "color": "#636efa",
          "symbol": "circle"
         },
         "mode": "markers",
         "name": "Ação Pela Paz",
         "orientation": "v",
         "showlegend": true,
         "type": "scatter",
         "x": [
          "aluno 55",
          "aluno 220",
          "aluno 479",
          "aluno 104",
          "aluno 244",
          "aluno 313"
         ],
         "xaxis": "x",
         "y": [
          53.333333333333336,
          60,
          48.833333333333336,
          60.666666666666664,
          47.333333333333336,
          63
         ],
         "yaxis": "y"
        },
        {
         "hovertemplate": "Parceiros=Viva Rio<br>Nome do Aluno=%{x}<br>Média Total=%{y}<extra></extra>",
         "legendgroup": "Viva Rio",
         "marker": {
          "color": "#EF553B",
          "symbol": "circle"
         },
         "mode": "markers",
         "name": "Viva Rio",
         "orientation": "v",
         "showlegend": true,
         "type": "scatter",
         "x": [
          "aluno 32"
         ],
         "xaxis": "x",
         "y": [
          50.833333333333336
         ],
         "yaxis": "y"
        },
        {
         "hovertemplate": "Parceiros=COPAGAZ<br>Nome do Aluno=%{x}<br>Média Total=%{y}<extra></extra>",
         "legendgroup": "COPAGAZ",
         "marker": {
          "color": "#00cc96",
          "symbol": "circle"
         },
         "mode": "markers",
         "name": "COPAGAZ",
         "orientation": "v",
         "showlegend": true,
         "type": "scatter",
         "x": [
          "aluno 5"
         ],
         "xaxis": "x",
         "y": [
          69.83333333333333
         ],
         "yaxis": "y"
        },
        {
         "hovertemplate": "Parceiros=Associação Esculpir<br>Nome do Aluno=%{x}<br>Média Total=%{y}<extra></extra>",
         "legendgroup": "Associação Esculpir",
         "marker": {
          "color": "#ab63fa",
          "symbol": "circle"
         },
         "mode": "markers",
         "name": "Associação Esculpir",
         "orientation": "v",
         "showlegend": true,
         "type": "scatter",
         "x": [
          "aluno 464",
          "aluno 69",
          "aluno 53",
          "aluno 385"
         ],
         "xaxis": "x",
         "y": [
          57,
          30.333333333333332,
          55.5,
          51.333333333333336
         ],
         "yaxis": "y"
        },
        {
         "hovertemplate": "Parceiros=Vivo POC<br>Nome do Aluno=%{x}<br>Média Total=%{y}<extra></extra>",
         "legendgroup": "Vivo POC",
         "marker": {
          "color": "#FFA15A",
          "symbol": "circle"
         },
         "mode": "markers",
         "name": "Vivo POC",
         "orientation": "v",
         "showlegend": true,
         "type": "scatter",
         "x": [
          "aluno 1",
          "aluno 258",
          "aluno 418",
          "aluno 496"
         ],
         "xaxis": "x",
         "y": [
          57.333333333333336,
          45.333333333333336,
          29,
          46.833333333333336
         ],
         "yaxis": "y"
        },
        {
         "hovertemplate": "Parceiros=BEAUTYFULL<br>Nome do Aluno=%{x}<br>Média Total=%{y}<extra></extra>",
         "legendgroup": "BEAUTYFULL",
         "marker": {
          "color": "#19d3f3",
          "symbol": "circle"
         },
         "mode": "markers",
         "name": "BEAUTYFULL",
         "orientation": "v",
         "showlegend": true,
         "type": "scatter",
         "x": [
          "aluno 107",
          "aluno 269",
          "aluno 452",
          "aluno 183",
          "aluno 6",
          "aluno 158",
          "aluno 99",
          "aluno 304",
          "aluno 175",
          "aluno 396",
          "aluno 219",
          "aluno 306",
          "aluno 122"
         ],
         "xaxis": "x",
         "y": [
          45.666666666666664,
          49.333333333333336,
          59.333333333333336,
          49,
          46.666666666666664,
          46.166666666666664,
          38.5,
          43.333333333333336,
          48.833333333333336,
          46.166666666666664,
          42.5,
          40.333333333333336,
          52.333333333333336
         ],
         "yaxis": "y"
        },
        {
         "hovertemplate": "Parceiros=Excelsior<br>Nome do Aluno=%{x}<br>Média Total=%{y}<extra></extra>",
         "legendgroup": "Excelsior",
         "marker": {
          "color": "#FF6692",
          "symbol": "circle"
         },
         "mode": "markers",
         "name": "Excelsior",
         "orientation": "v",
         "showlegend": true,
         "type": "scatter",
         "x": [
          "aluno 408",
          "aluno 434",
          "aluno 176",
          "aluno 221",
          "aluno 40",
          "aluno 29",
          "aluno 39",
          "aluno 237"
         ],
         "xaxis": "x",
         "y": [
          37.833333333333336,
          49.166666666666664,
          59,
          57.333333333333336,
          39.833333333333336,
          42.666666666666664,
          38.5,
          54.666666666666664
         ],
         "yaxis": "y"
        },
        {
         "hovertemplate": "Parceiros=Wiz<br>Nome do Aluno=%{x}<br>Média Total=%{y}<extra></extra>",
         "legendgroup": "Wiz",
         "marker": {
          "color": "#B6E880",
          "symbol": "circle"
         },
         "mode": "markers",
         "name": "Wiz",
         "orientation": "v",
         "showlegend": true,
         "type": "scatter",
         "x": [
          "aluno 268",
          "aluno 47",
          "aluno 260",
          "aluno 157",
          "aluno 470",
          "aluno 129",
          "aluno 436",
          "aluno 476",
          "aluno 320",
          "aluno 226"
         ],
         "xaxis": "x",
         "y": [
          52.833333333333336,
          59.333333333333336,
          41.166666666666664,
          39.333333333333336,
          55.166666666666664,
          42.833333333333336,
          54.166666666666664,
          56,
          51.666666666666664,
          47.833333333333336
         ],
         "yaxis": "y"
        },
        {
         "hovertemplate": "Parceiros=Accenture<br>Nome do Aluno=%{x}<br>Média Total=%{y}<extra></extra>",
         "legendgroup": "Accenture",
         "marker": {
          "color": "#FF97FF",
          "symbol": "circle"
         },
         "mode": "markers",
         "name": "Accenture",
         "orientation": "v",
         "showlegend": true,
         "type": "scatter",
         "x": [
          "aluno 310",
          "aluno 346",
          "aluno 235",
          "aluno 113",
          "aluno 151",
          "aluno 242"
         ],
         "xaxis": "x",
         "y": [
          51.666666666666664,
          42.666666666666664,
          57,
          48.333333333333336,
          35.333333333333336,
          67
         ],
         "yaxis": "y"
        },
        {
         "hovertemplate": "Parceiros=Associação Maria Helena Drexel<br>Nome do Aluno=%{x}<br>Média Total=%{y}<extra></extra>",
         "legendgroup": "Associação Maria Helena Drexel",
         "marker": {
          "color": "#FECB52",
          "symbol": "circle"
         },
         "mode": "markers",
         "name": "Associação Maria Helena Drexel",
         "orientation": "v",
         "showlegend": true,
         "type": "scatter",
         "x": [
          "aluno 10"
         ],
         "xaxis": "x",
         "y": [
          56.166666666666664
         ],
         "yaxis": "y"
        },
        {
         "hovertemplate": "Parceiros=Santa Clara<br>Nome do Aluno=%{x}<br>Média Total=%{y}<extra></extra>",
         "legendgroup": "Santa Clara",
         "marker": {
          "color": "#636efa",
          "symbol": "circle"
         },
         "mode": "markers",
         "name": "Santa Clara",
         "orientation": "v",
         "showlegend": true,
         "type": "scatter",
         "x": [
          "aluno 106",
          "aluno 7",
          "aluno 252",
          "aluno 256",
          "aluno 471",
          "aluno 4",
          "aluno 100",
          "aluno 499",
          "aluno 172",
          "aluno 52"
         ],
         "xaxis": "x",
         "y": [
          45.333333333333336,
          49.166666666666664,
          60.166666666666664,
          47.666666666666664,
          56,
          62.166666666666664,
          59.5,
          48.833333333333336,
          48.666666666666664,
          72.16666666666667
         ],
         "yaxis": "y"
        },
        {
         "hovertemplate": "Parceiros=Andreza Chagas<br>Nome do Aluno=%{x}<br>Média Total=%{y}<extra></extra>",
         "legendgroup": "Andreza Chagas",
         "marker": {
          "color": "#EF553B",
          "symbol": "circle"
         },
         "mode": "markers",
         "name": "Andreza Chagas",
         "orientation": "v",
         "showlegend": true,
         "type": "scatter",
         "x": [
          "aluno 275",
          "aluno 401",
          "aluno 117",
          "aluno 307"
         ],
         "xaxis": "x",
         "y": [
          48.333333333333336,
          51.5,
          55.5,
          49.5
         ],
         "yaxis": "y"
        },
        {
         "hovertemplate": "Parceiros=Semeando Para o Futuro<br>Nome do Aluno=%{x}<br>Média Total=%{y}<extra></extra>",
         "legendgroup": "Semeando Para o Futuro",
         "marker": {
          "color": "#00cc96",
          "symbol": "circle"
         },
         "mode": "markers",
         "name": "Semeando Para o Futuro",
         "orientation": "v",
         "showlegend": true,
         "type": "scatter",
         "x": [
          "aluno 139",
          "aluno 303",
          "aluno 198",
          "aluno 488",
          "aluno 231",
          "aluno 147",
          "aluno 465",
          "aluno 160",
          "aluno 462",
          "aluno 289"
         ],
         "xaxis": "x",
         "y": [
          39.833333333333336,
          43.166666666666664,
          59.5,
          38.166666666666664,
          44.333333333333336,
          51.666666666666664,
          38.333333333333336,
          34.166666666666664,
          50.666666666666664,
          58.333333333333336
         ],
         "yaxis": "y"
        },
        {
         "hovertemplate": "Parceiros=Lar da caridade<br>Nome do Aluno=%{x}<br>Média Total=%{y}<extra></extra>",
         "legendgroup": "Lar da caridade",
         "marker": {
          "color": "#ab63fa",
          "symbol": "circle"
         },
         "mode": "markers",
         "name": "Lar da caridade",
         "orientation": "v",
         "showlegend": true,
         "type": "scatter",
         "x": [
          "aluno 290",
          "aluno 284",
          "aluno 352"
         ],
         "xaxis": "x",
         "y": [
          59.5,
          34.5,
          45.333333333333336
         ],
         "yaxis": "y"
        },
        {
         "hovertemplate": "Parceiros=Casa do menor<br>Nome do Aluno=%{x}<br>Média Total=%{y}<extra></extra>",
         "legendgroup": "Casa do menor",
         "marker": {
          "color": "#FFA15A",
          "symbol": "circle"
         },
         "mode": "markers",
         "name": "Casa do menor",
         "orientation": "v",
         "showlegend": true,
         "type": "scatter",
         "x": [
          "aluno 361",
          "aluno 193",
          "aluno 177"
         ],
         "xaxis": "x",
         "y": [
          41.666666666666664,
          62.5,
          47.5
         ],
         "yaxis": "y"
        },
        {
         "hovertemplate": "Parceiros=GCB<br>Nome do Aluno=%{x}<br>Média Total=%{y}<extra></extra>",
         "legendgroup": "GCB",
         "marker": {
          "color": "#19d3f3",
          "symbol": "circle"
         },
         "mode": "markers",
         "name": "GCB",
         "orientation": "v",
         "showlegend": true,
         "type": "scatter",
         "x": [
          "aluno 391",
          "aluno 245",
          "aluno 163",
          "aluno 315",
          "aluno 102",
          "aluno 372",
          "aluno 428"
         ],
         "xaxis": "x",
         "y": [
          46.833333333333336,
          52,
          43.333333333333336,
          49.5,
          52,
          55.333333333333336,
          52.166666666666664
         ],
         "yaxis": "y"
        },
        {
         "hovertemplate": "Parceiros=Novo DNA<br>Nome do Aluno=%{x}<br>Média Total=%{y}<extra></extra>",
         "legendgroup": "Novo DNA",
         "marker": {
          "color": "#FF6692",
          "symbol": "circle"
         },
         "mode": "markers",
         "name": "Novo DNA",
         "orientation": "v",
         "showlegend": true,
         "type": "scatter",
         "x": [
          "aluno 62",
          "aluno 133",
          "aluno 328",
          "aluno 150",
          "aluno 70"
         ],
         "xaxis": "x",
         "y": [
          37.166666666666664,
          57,
          58,
          49.833333333333336,
          45.833333333333336
         ],
         "yaxis": "y"
        },
        {
         "hovertemplate": "Parceiros=Instituto Apontar<br>Nome do Aluno=%{x}<br>Média Total=%{y}<extra></extra>",
         "legendgroup": "Instituto Apontar",
         "marker": {
          "color": "#B6E880",
          "symbol": "circle"
         },
         "mode": "markers",
         "name": "Instituto Apontar",
         "orientation": "v",
         "showlegend": true,
         "type": "scatter",
         "x": [
          "aluno 274",
          "aluno 283",
          "aluno 136",
          "aluno 30",
          "aluno 399",
          "aluno 432"
         ],
         "xaxis": "x",
         "y": [
          58.166666666666664,
          41,
          48.333333333333336,
          63.5,
          48.166666666666664,
          52.166666666666664
         ],
         "yaxis": "y"
        },
        {
         "hovertemplate": "Parceiros=Guilherme Miller<br>Nome do Aluno=%{x}<br>Média Total=%{y}<extra></extra>",
         "legendgroup": "Guilherme Miller",
         "marker": {
          "color": "#FF97FF",
          "symbol": "circle"
         },
         "mode": "markers",
         "name": "Guilherme Miller",
         "orientation": "v",
         "showlegend": true,
         "type": "scatter",
         "x": [
          "aluno 317"
         ],
         "xaxis": "x",
         "y": [
          50.166666666666664
         ],
         "yaxis": "y"
        },
        {
         "hovertemplate": "Parceiros=Aldeias Infantis SOS Brasil<br>Nome do Aluno=%{x}<br>Média Total=%{y}<extra></extra>",
         "legendgroup": "Aldeias Infantis SOS Brasil",
         "marker": {
          "color": "#FECB52",
          "symbol": "circle"
         },
         "mode": "markers",
         "name": "Aldeias Infantis SOS Brasil",
         "orientation": "v",
         "showlegend": true,
         "type": "scatter",
         "x": [
          "aluno 500"
         ],
         "xaxis": "x",
         "y": [
          45.333333333333336
         ],
         "yaxis": "y"
        }
       ],
       "layout": {
        "legend": {
         "title": {
          "text": "Parceiros"
         },
         "tracegroupgap": 0
        },
        "margin": {
         "t": 60
        },
        "shapes": [
         {
          "type": "line",
          "x0": 0,
          "x1": 1,
          "xref": "x domain",
          "y0": 50.36127450980392,
          "y1": 50.36127450980392,
          "yref": "y"
         }
        ],
        "template": {
         "data": {
          "bar": [
           {
            "error_x": {
             "color": "#2a3f5f"
            },
            "error_y": {
             "color": "#2a3f5f"
            },
            "marker": {
             "line": {
              "color": "#E5ECF6",
              "width": 0.5
             },
             "pattern": {
              "fillmode": "overlay",
              "size": 10,
              "solidity": 0.2
             }
            },
            "type": "bar"
           }
          ],
          "barpolar": [
           {
            "marker": {
             "line": {
              "color": "#E5ECF6",
              "width": 0.5
             },
             "pattern": {
              "fillmode": "overlay",
              "size": 10,
              "solidity": 0.2
             }
            },
            "type": "barpolar"
           }
          ],
          "carpet": [
           {
            "aaxis": {
             "endlinecolor": "#2a3f5f",
             "gridcolor": "white",
             "linecolor": "white",
             "minorgridcolor": "white",
             "startlinecolor": "#2a3f5f"
            },
            "baxis": {
             "endlinecolor": "#2a3f5f",
             "gridcolor": "white",
             "linecolor": "white",
             "minorgridcolor": "white",
             "startlinecolor": "#2a3f5f"
            },
            "type": "carpet"
           }
          ],
          "choropleth": [
           {
            "colorbar": {
             "outlinewidth": 0,
             "ticks": ""
            },
            "type": "choropleth"
           }
          ],
          "contour": [
           {
            "colorbar": {
             "outlinewidth": 0,
             "ticks": ""
            },
            "colorscale": [
             [
              0,
              "#0d0887"
             ],
             [
              0.1111111111111111,
              "#46039f"
             ],
             [
              0.2222222222222222,
              "#7201a8"
             ],
             [
              0.3333333333333333,
              "#9c179e"
             ],
             [
              0.4444444444444444,
              "#bd3786"
             ],
             [
              0.5555555555555556,
              "#d8576b"
             ],
             [
              0.6666666666666666,
              "#ed7953"
             ],
             [
              0.7777777777777778,
              "#fb9f3a"
             ],
             [
              0.8888888888888888,
              "#fdca26"
             ],
             [
              1,
              "#f0f921"
             ]
            ],
            "type": "contour"
           }
          ],
          "contourcarpet": [
           {
            "colorbar": {
             "outlinewidth": 0,
             "ticks": ""
            },
            "type": "contourcarpet"
           }
          ],
          "heatmap": [
           {
            "colorbar": {
             "outlinewidth": 0,
             "ticks": ""
            },
            "colorscale": [
             [
              0,
              "#0d0887"
             ],
             [
              0.1111111111111111,
              "#46039f"
             ],
             [
              0.2222222222222222,
              "#7201a8"
             ],
             [
              0.3333333333333333,
              "#9c179e"
             ],
             [
              0.4444444444444444,
              "#bd3786"
             ],
             [
              0.5555555555555556,
              "#d8576b"
             ],
             [
              0.6666666666666666,
              "#ed7953"
             ],
             [
              0.7777777777777778,
              "#fb9f3a"
             ],
             [
              0.8888888888888888,
              "#fdca26"
             ],
             [
              1,
              "#f0f921"
             ]
            ],
            "type": "heatmap"
           }
          ],
          "heatmapgl": [
           {
            "colorbar": {
             "outlinewidth": 0,
             "ticks": ""
            },
            "colorscale": [
             [
              0,
              "#0d0887"
             ],
             [
              0.1111111111111111,
              "#46039f"
             ],
             [
              0.2222222222222222,
              "#7201a8"
             ],
             [
              0.3333333333333333,
              "#9c179e"
             ],
             [
              0.4444444444444444,
              "#bd3786"
             ],
             [
              0.5555555555555556,
              "#d8576b"
             ],
             [
              0.6666666666666666,
              "#ed7953"
             ],
             [
              0.7777777777777778,
              "#fb9f3a"
             ],
             [
              0.8888888888888888,
              "#fdca26"
             ],
             [
              1,
              "#f0f921"
             ]
            ],
            "type": "heatmapgl"
           }
          ],
          "histogram": [
           {
            "marker": {
             "pattern": {
              "fillmode": "overlay",
              "size": 10,
              "solidity": 0.2
             }
            },
            "type": "histogram"
           }
          ],
          "histogram2d": [
           {
            "colorbar": {
             "outlinewidth": 0,
             "ticks": ""
            },
            "colorscale": [
             [
              0,
              "#0d0887"
             ],
             [
              0.1111111111111111,
              "#46039f"
             ],
             [
              0.2222222222222222,
              "#7201a8"
             ],
             [
              0.3333333333333333,
              "#9c179e"
             ],
             [
              0.4444444444444444,
              "#bd3786"
             ],
             [
              0.5555555555555556,
              "#d8576b"
             ],
             [
              0.6666666666666666,
              "#ed7953"
             ],
             [
              0.7777777777777778,
              "#fb9f3a"
             ],
             [
              0.8888888888888888,
              "#fdca26"
             ],
             [
              1,
              "#f0f921"
             ]
            ],
            "type": "histogram2d"
           }
          ],
          "histogram2dcontour": [
           {
            "colorbar": {
             "outlinewidth": 0,
             "ticks": ""
            },
            "colorscale": [
             [
              0,
              "#0d0887"
             ],
             [
              0.1111111111111111,
              "#46039f"
             ],
             [
              0.2222222222222222,
              "#7201a8"
             ],
             [
              0.3333333333333333,
              "#9c179e"
             ],
             [
              0.4444444444444444,
              "#bd3786"
             ],
             [
              0.5555555555555556,
              "#d8576b"
             ],
             [
              0.6666666666666666,
              "#ed7953"
             ],
             [
              0.7777777777777778,
              "#fb9f3a"
             ],
             [
              0.8888888888888888,
              "#fdca26"
             ],
             [
              1,
              "#f0f921"
             ]
            ],
            "type": "histogram2dcontour"
           }
          ],
          "mesh3d": [
           {
            "colorbar": {
             "outlinewidth": 0,
             "ticks": ""
            },
            "type": "mesh3d"
           }
          ],
          "parcoords": [
           {
            "line": {
             "colorbar": {
              "outlinewidth": 0,
              "ticks": ""
             }
            },
            "type": "parcoords"
           }
          ],
          "pie": [
           {
            "automargin": true,
            "type": "pie"
           }
          ],
          "scatter": [
           {
            "marker": {
             "colorbar": {
              "outlinewidth": 0,
              "ticks": ""
             }
            },
            "type": "scatter"
           }
          ],
          "scatter3d": [
           {
            "line": {
             "colorbar": {
              "outlinewidth": 0,
              "ticks": ""
             }
            },
            "marker": {
             "colorbar": {
              "outlinewidth": 0,
              "ticks": ""
             }
            },
            "type": "scatter3d"
           }
          ],
          "scattercarpet": [
           {
            "marker": {
             "colorbar": {
              "outlinewidth": 0,
              "ticks": ""
             }
            },
            "type": "scattercarpet"
           }
          ],
          "scattergeo": [
           {
            "marker": {
             "colorbar": {
              "outlinewidth": 0,
              "ticks": ""
             }
            },
            "type": "scattergeo"
           }
          ],
          "scattergl": [
           {
            "marker": {
             "colorbar": {
              "outlinewidth": 0,
              "ticks": ""
             }
            },
            "type": "scattergl"
           }
          ],
          "scattermapbox": [
           {
            "marker": {
             "colorbar": {
              "outlinewidth": 0,
              "ticks": ""
             }
            },
            "type": "scattermapbox"
           }
          ],
          "scatterpolar": [
           {
            "marker": {
             "colorbar": {
              "outlinewidth": 0,
              "ticks": ""
             }
            },
            "type": "scatterpolar"
           }
          ],
          "scatterpolargl": [
           {
            "marker": {
             "colorbar": {
              "outlinewidth": 0,
              "ticks": ""
             }
            },
            "type": "scatterpolargl"
           }
          ],
          "scatterternary": [
           {
            "marker": {
             "colorbar": {
              "outlinewidth": 0,
              "ticks": ""
             }
            },
            "type": "scatterternary"
           }
          ],
          "surface": [
           {
            "colorbar": {
             "outlinewidth": 0,
             "ticks": ""
            },
            "colorscale": [
             [
              0,
              "#0d0887"
             ],
             [
              0.1111111111111111,
              "#46039f"
             ],
             [
              0.2222222222222222,
              "#7201a8"
             ],
             [
              0.3333333333333333,
              "#9c179e"
             ],
             [
              0.4444444444444444,
              "#bd3786"
             ],
             [
              0.5555555555555556,
              "#d8576b"
             ],
             [
              0.6666666666666666,
              "#ed7953"
             ],
             [
              0.7777777777777778,
              "#fb9f3a"
             ],
             [
              0.8888888888888888,
              "#fdca26"
             ],
             [
              1,
              "#f0f921"
             ]
            ],
            "type": "surface"
           }
          ],
          "table": [
           {
            "cells": {
             "fill": {
              "color": "#EBF0F8"
             },
             "line": {
              "color": "white"
             }
            },
            "header": {
             "fill": {
              "color": "#C8D4E3"
             },
             "line": {
              "color": "white"
             }
            },
            "type": "table"
           }
          ]
         },
         "layout": {
          "annotationdefaults": {
           "arrowcolor": "#2a3f5f",
           "arrowhead": 0,
           "arrowwidth": 1
          },
          "autotypenumbers": "strict",
          "coloraxis": {
           "colorbar": {
            "outlinewidth": 0,
            "ticks": ""
           }
          },
          "colorscale": {
           "diverging": [
            [
             0,
             "#8e0152"
            ],
            [
             0.1,
             "#c51b7d"
            ],
            [
             0.2,
             "#de77ae"
            ],
            [
             0.3,
             "#f1b6da"
            ],
            [
             0.4,
             "#fde0ef"
            ],
            [
             0.5,
             "#f7f7f7"
            ],
            [
             0.6,
             "#e6f5d0"
            ],
            [
             0.7,
             "#b8e186"
            ],
            [
             0.8,
             "#7fbc41"
            ],
            [
             0.9,
             "#4d9221"
            ],
            [
             1,
             "#276419"
            ]
           ],
           "sequential": [
            [
             0,
             "#0d0887"
            ],
            [
             0.1111111111111111,
             "#46039f"
            ],
            [
             0.2222222222222222,
             "#7201a8"
            ],
            [
             0.3333333333333333,
             "#9c179e"
            ],
            [
             0.4444444444444444,
             "#bd3786"
            ],
            [
             0.5555555555555556,
             "#d8576b"
            ],
            [
             0.6666666666666666,
             "#ed7953"
            ],
            [
             0.7777777777777778,
             "#fb9f3a"
            ],
            [
             0.8888888888888888,
             "#fdca26"
            ],
            [
             1,
             "#f0f921"
            ]
           ],
           "sequentialminus": [
            [
             0,
             "#0d0887"
            ],
            [
             0.1111111111111111,
             "#46039f"
            ],
            [
             0.2222222222222222,
             "#7201a8"
            ],
            [
             0.3333333333333333,
             "#9c179e"
            ],
            [
             0.4444444444444444,
             "#bd3786"
            ],
            [
             0.5555555555555556,
             "#d8576b"
            ],
            [
             0.6666666666666666,
             "#ed7953"
            ],
            [
             0.7777777777777778,
             "#fb9f3a"
            ],
            [
             0.8888888888888888,
             "#fdca26"
            ],
            [
             1,
             "#f0f921"
            ]
           ]
          },
          "colorway": [
           "#636efa",
           "#EF553B",
           "#00cc96",
           "#ab63fa",
           "#FFA15A",
           "#19d3f3",
           "#FF6692",
           "#B6E880",
           "#FF97FF",
           "#FECB52"
          ],
          "font": {
           "color": "#2a3f5f"
          },
          "geo": {
           "bgcolor": "white",
           "lakecolor": "white",
           "landcolor": "#E5ECF6",
           "showlakes": true,
           "showland": true,
           "subunitcolor": "white"
          },
          "hoverlabel": {
           "align": "left"
          },
          "hovermode": "closest",
          "mapbox": {
           "style": "light"
          },
          "paper_bgcolor": "white",
          "plot_bgcolor": "#E5ECF6",
          "polar": {
           "angularaxis": {
            "gridcolor": "white",
            "linecolor": "white",
            "ticks": ""
           },
           "bgcolor": "#E5ECF6",
           "radialaxis": {
            "gridcolor": "white",
            "linecolor": "white",
            "ticks": ""
           }
          },
          "scene": {
           "xaxis": {
            "backgroundcolor": "#E5ECF6",
            "gridcolor": "white",
            "gridwidth": 2,
            "linecolor": "white",
            "showbackground": true,
            "ticks": "",
            "zerolinecolor": "white"
           },
           "yaxis": {
            "backgroundcolor": "#E5ECF6",
            "gridcolor": "white",
            "gridwidth": 2,
            "linecolor": "white",
            "showbackground": true,
            "ticks": "",
            "zerolinecolor": "white"
           },
           "zaxis": {
            "backgroundcolor": "#E5ECF6",
            "gridcolor": "white",
            "gridwidth": 2,
            "linecolor": "white",
            "showbackground": true,
            "ticks": "",
            "zerolinecolor": "white"
           }
          },
          "shapedefaults": {
           "line": {
            "color": "#2a3f5f"
           }
          },
          "ternary": {
           "aaxis": {
            "gridcolor": "white",
            "linecolor": "white",
            "ticks": ""
           },
           "baxis": {
            "gridcolor": "white",
            "linecolor": "white",
            "ticks": ""
           },
           "bgcolor": "#E5ECF6",
           "caxis": {
            "gridcolor": "white",
            "linecolor": "white",
            "ticks": ""
           }
          },
          "title": {
           "x": 0.05
          },
          "xaxis": {
           "automargin": true,
           "gridcolor": "white",
           "linecolor": "white",
           "ticks": "",
           "title": {
            "standoff": 15
           },
           "zerolinecolor": "white",
           "zerolinewidth": 2
          },
          "yaxis": {
           "automargin": true,
           "gridcolor": "white",
           "linecolor": "white",
           "ticks": "",
           "title": {
            "standoff": 15
           },
           "zerolinecolor": "white",
           "zerolinewidth": 2
          }
         }
        },
        "xaxis": {
         "anchor": "y",
         "domain": [
          0,
          1
         ],
         "title": {
          "text": "Nome do Aluno"
         }
        },
        "yaxis": {
         "anchor": "x",
         "domain": [
          0,
          1
         ],
         "title": {
          "text": "Média Total"
         }
        }
       }
      },
      "text/html": [
       "<div>                            <div id=\"5634189b-bd91-4ac0-a804-facf80d592bd\" class=\"plotly-graph-div\" style=\"height:525px; width:100%;\"></div>            <script type=\"text/javascript\">                require([\"plotly\"], function(Plotly) {                    window.PLOTLYENV=window.PLOTLYENV || {};                                    if (document.getElementById(\"5634189b-bd91-4ac0-a804-facf80d592bd\")) {                    Plotly.newPlot(                        \"5634189b-bd91-4ac0-a804-facf80d592bd\",                        [{\"hovertemplate\":\"Parceiros=Alicerce Educa\\u00e7\\u00e3o - Projeto Reabertura<br>Nome do Aluno=%{x}<br>M\\u00e9dia Total=%{y}<extra></extra>\",\"legendgroup\":\"Alicerce Educa\\u00e7\\u00e3o - Projeto Reabertura\",\"marker\":{\"color\":\"#636efa\",\"symbol\":\"circle\"},\"mode\":\"markers\",\"name\":\"Alicerce Educa\\u00e7\\u00e3o - Projeto Reabertura\",\"orientation\":\"v\",\"showlegend\":true,\"x\":[\"aluno 239\",\"aluno 322\",\"aluno 187\",\"aluno 210\",\"aluno 12\",\"aluno 228\",\"aluno 192\",\"aluno 272\",\"aluno 19\",\"aluno 188\",\"aluno 167\",\"aluno 108\",\"aluno 334\",\"aluno 171\",\"aluno 302\",\"aluno 425\",\"aluno 182\",\"aluno 344\",\"aluno 288\",\"aluno 120\",\"aluno 381\",\"aluno 356\",\"aluno 487\",\"aluno 437\",\"aluno 439\",\"aluno 223\",\"aluno 37\",\"aluno 402\"],\"xaxis\":\"x\",\"y\":[57.166666666666664,49.0,36.333333333333336,57.166666666666664,46.833333333333336,45.666666666666664,40.333333333333336,33.666666666666664,57.0,32.0,48.666666666666664,39.5,44.666666666666664,63.0,54.833333333333336,53.0,50.666666666666664,50.666666666666664,51.666666666666664,41.833333333333336,57.5,52.833333333333336,48.166666666666664,54.5,49.666666666666664,55.666666666666664,53.166666666666664,47.666666666666664],\"yaxis\":\"y\",\"type\":\"scatter\"},{\"hovertemplate\":\"Parceiros=VRB<br>Nome do Aluno=%{x}<br>M\\u00e9dia Total=%{y}<extra></extra>\",\"legendgroup\":\"VRB\",\"marker\":{\"color\":\"#EF553B\",\"symbol\":\"circle\"},\"mode\":\"markers\",\"name\":\"VRB\",\"orientation\":\"v\",\"showlegend\":true,\"x\":[\"aluno 255\",\"aluno 111\",\"aluno 292\",\"aluno 15\",\"aluno 265\",\"aluno 68\",\"aluno 86\",\"aluno 9\",\"aluno 423\",\"aluno 241\",\"aluno 286\",\"aluno 26\",\"aluno 50\",\"aluno 373\",\"aluno 236\",\"aluno 264\",\"aluno 455\",\"aluno 3\",\"aluno 191\",\"aluno 263\",\"aluno 49\",\"aluno 276\",\"aluno 477\",\"aluno 196\",\"aluno 28\",\"aluno 314\"],\"xaxis\":\"x\",\"y\":[39.666666666666664,54.666666666666664,44.5,58.5,51.5,53.666666666666664,40.166666666666664,46.833333333333336,47.666666666666664,56.333333333333336,47.166666666666664,56.666666666666664,67.83333333333333,43.833333333333336,37.833333333333336,64.83333333333333,33.666666666666664,58.666666666666664,55.833333333333336,54.833333333333336,68.33333333333333,45.0,55.5,53.833333333333336,45.0,58.5],\"yaxis\":\"y\",\"type\":\"scatter\"},{\"hovertemplate\":\"Parceiros=Rede Cruzada<br>Nome do Aluno=%{x}<br>M\\u00e9dia Total=%{y}<extra></extra>\",\"legendgroup\":\"Rede Cruzada\",\"marker\":{\"color\":\"#00cc96\",\"symbol\":\"circle\"},\"mode\":\"markers\",\"name\":\"Rede Cruzada\",\"orientation\":\"v\",\"showlegend\":true,\"x\":[\"aluno 38\",\"aluno 27\",\"aluno 420\",\"aluno 14\",\"aluno 453\",\"aluno 285\",\"aluno 309\",\"aluno 416\",\"aluno 262\",\"aluno 65\",\"aluno 467\",\"aluno 85\",\"aluno 492\",\"aluno 293\",\"aluno 337\",\"aluno 424\",\"aluno 190\"],\"xaxis\":\"x\",\"y\":[52.333333333333336,48.666666666666664,46.333333333333336,43.333333333333336,54.666666666666664,70.16666666666667,37.0,35.5,56.166666666666664,57.833333333333336,62.666666666666664,42.166666666666664,41.5,47.666666666666664,65.0,63.833333333333336,45.5],\"yaxis\":\"y\",\"type\":\"scatter\"},{\"hovertemplate\":\"Parceiros=Daus<br>Nome do Aluno=%{x}<br>M\\u00e9dia Total=%{y}<extra></extra>\",\"legendgroup\":\"Daus\",\"marker\":{\"color\":\"#ab63fa\",\"symbol\":\"circle\"},\"mode\":\"markers\",\"name\":\"Daus\",\"orientation\":\"v\",\"showlegend\":true,\"x\":[\"aluno 360\",\"aluno 230\",\"aluno 229\",\"aluno 469\",\"aluno 67\",\"aluno 248\",\"aluno 132\",\"aluno 278\",\"aluno 98\"],\"xaxis\":\"x\",\"y\":[42.0,54.0,58.5,51.333333333333336,52.166666666666664,51.166666666666664,51.166666666666664,39.0,40.333333333333336],\"yaxis\":\"y\",\"type\":\"scatter\"},{\"hovertemplate\":\"Parceiros=Instituto Alicerce<br>Nome do Aluno=%{x}<br>M\\u00e9dia Total=%{y}<extra></extra>\",\"legendgroup\":\"Instituto Alicerce\",\"marker\":{\"color\":\"#FFA15A\",\"symbol\":\"circle\"},\"mode\":\"markers\",\"name\":\"Instituto Alicerce\",\"orientation\":\"v\",\"showlegend\":true,\"x\":[\"aluno 296\",\"aluno 156\",\"aluno 35\",\"aluno 141\",\"aluno 130\",\"aluno 93\",\"aluno 254\",\"aluno 168\",\"aluno 426\"],\"xaxis\":\"x\",\"y\":[51.166666666666664,49.5,44.666666666666664,41.0,67.5,52.5,61.0,51.166666666666664,47.333333333333336],\"yaxis\":\"y\",\"type\":\"scatter\"},{\"hovertemplate\":\"Parceiros=Despertar<br>Nome do Aluno=%{x}<br>M\\u00e9dia Total=%{y}<extra></extra>\",\"legendgroup\":\"Despertar\",\"marker\":{\"color\":\"#19d3f3\",\"symbol\":\"circle\"},\"mode\":\"markers\",\"name\":\"Despertar\",\"orientation\":\"v\",\"showlegend\":true,\"x\":[\"aluno 474\",\"aluno 376\",\"aluno 103\",\"aluno 234\",\"aluno 208\",\"aluno 400\",\"aluno 124\",\"aluno 144\",\"aluno 41\",\"aluno 384\",\"aluno 483\",\"aluno 406\",\"aluno 60\",\"aluno 478\",\"aluno 454\"],\"xaxis\":\"x\",\"y\":[45.5,46.333333333333336,56.5,75.16666666666667,58.333333333333336,50.0,54.333333333333336,52.666666666666664,45.166666666666664,46.666666666666664,40.666666666666664,50.666666666666664,50.5,49.166666666666664,49.833333333333336],\"yaxis\":\"y\",\"type\":\"scatter\"},{\"hovertemplate\":\"Parceiros=Nubank<br>Nome do Aluno=%{x}<br>M\\u00e9dia Total=%{y}<extra></extra>\",\"legendgroup\":\"Nubank\",\"marker\":{\"color\":\"#FF6692\",\"symbol\":\"circle\"},\"mode\":\"markers\",\"name\":\"Nubank\",\"orientation\":\"v\",\"showlegend\":true,\"x\":[\"aluno 213\",\"aluno 118\",\"aluno 335\",\"aluno 51\",\"aluno 131\",\"aluno 484\",\"aluno 246\",\"aluno 101\",\"aluno 386\",\"aluno 140\",\"aluno 123\",\"aluno 238\",\"aluno 174\",\"aluno 110\",\"aluno 22\",\"aluno 270\",\"aluno 261\",\"aluno 485\",\"aluno 8\",\"aluno 395\",\"aluno 411\",\"aluno 377\",\"aluno 173\",\"aluno 119\",\"aluno 94\",\"aluno 253\",\"aluno 149\",\"aluno 45\",\"aluno 64\",\"aluno 466\",\"aluno 24\",\"aluno 154\",\"aluno 127\",\"aluno 135\",\"aluno 125\",\"aluno 126\",\"aluno 429\",\"aluno 36\",\"aluno 489\",\"aluno 155\",\"aluno 438\",\"aluno 271\",\"aluno 95\",\"aluno 33\",\"aluno 200\",\"aluno 404\",\"aluno 11\",\"aluno 345\",\"aluno 217\"],\"xaxis\":\"x\",\"y\":[43.166666666666664,50.666666666666664,49.833333333333336,54.0,49.5,53.0,59.0,39.833333333333336,63.5,52.5,62.166666666666664,48.833333333333336,41.166666666666664,58.666666666666664,47.166666666666664,37.5,62.0,47.333333333333336,32.833333333333336,43.666666666666664,53.166666666666664,60.166666666666664,45.666666666666664,43.666666666666664,42.333333333333336,54.5,48.333333333333336,55.833333333333336,58.5,45.0,60.166666666666664,65.66666666666667,39.5,40.166666666666664,53.166666666666664,37.166666666666664,45.5,55.5,43.666666666666664,57.166666666666664,56.5,51.5,51.333333333333336,60.666666666666664,50.333333333333336,58.166666666666664,56.5,53.166666666666664,46.333333333333336],\"yaxis\":\"y\",\"type\":\"scatter\"},{\"hovertemplate\":\"Parceiros=Carrefour<br>Nome do Aluno=%{x}<br>M\\u00e9dia Total=%{y}<extra></extra>\",\"legendgroup\":\"Carrefour\",\"marker\":{\"color\":\"#B6E880\",\"symbol\":\"circle\"},\"mode\":\"markers\",\"name\":\"Carrefour\",\"orientation\":\"v\",\"showlegend\":true,\"x\":[\"aluno 419\",\"aluno 498\",\"aluno 393\",\"aluno 59\",\"aluno 427\"],\"xaxis\":\"x\",\"y\":[57.333333333333336,48.166666666666664,62.833333333333336,48.5,47.5],\"yaxis\":\"y\",\"type\":\"scatter\"},{\"hovertemplate\":\"Parceiros=Instituto Ellus<br>Nome do Aluno=%{x}<br>M\\u00e9dia Total=%{y}<extra></extra>\",\"legendgroup\":\"Instituto Ellus\",\"marker\":{\"color\":\"#FF97FF\",\"symbol\":\"circle\"},\"mode\":\"markers\",\"name\":\"Instituto Ellus\",\"orientation\":\"v\",\"showlegend\":true,\"x\":[\"aluno 25\",\"aluno 202\",\"aluno 392\",\"aluno 447\",\"aluno 367\",\"aluno 20\",\"aluno 159\"],\"xaxis\":\"x\",\"y\":[46.833333333333336,29.333333333333332,56.333333333333336,47.5,64.83333333333333,51.5,69.66666666666667],\"yaxis\":\"y\",\"type\":\"scatter\"},{\"hovertemplate\":\"Parceiros=PECP - EINSTEIN<br>Nome do Aluno=%{x}<br>M\\u00e9dia Total=%{y}<extra></extra>\",\"legendgroup\":\"PECP - EINSTEIN\",\"marker\":{\"color\":\"#FECB52\",\"symbol\":\"circle\"},\"mode\":\"markers\",\"name\":\"PECP - EINSTEIN\",\"orientation\":\"v\",\"showlegend\":true,\"x\":[\"aluno 459\",\"aluno 481\",\"aluno 166\",\"aluno 46\",\"aluno 257\",\"aluno 324\",\"aluno 152\",\"aluno 77\",\"aluno 170\"],\"xaxis\":\"x\",\"y\":[46.333333333333336,39.666666666666664,62.333333333333336,51.333333333333336,60.0,47.666666666666664,45.666666666666664,47.5,67.66666666666667],\"yaxis\":\"y\",\"type\":\"scatter\"},{\"hovertemplate\":\"Parceiros=Alicerce Educa\\u00e7\\u00e3o - Alipass<br>Nome do Aluno=%{x}<br>M\\u00e9dia Total=%{y}<extra></extra>\",\"legendgroup\":\"Alicerce Educa\\u00e7\\u00e3o - Alipass\",\"marker\":{\"color\":\"#636efa\",\"symbol\":\"circle\"},\"mode\":\"markers\",\"name\":\"Alicerce Educa\\u00e7\\u00e3o - Alipass\",\"orientation\":\"v\",\"showlegend\":true,\"x\":[\"aluno 232\",\"aluno 394\",\"aluno 181\",\"aluno 491\",\"aluno 413\"],\"xaxis\":\"x\",\"y\":[40.166666666666664,49.333333333333336,42.666666666666664,51.666666666666664,57.166666666666664],\"yaxis\":\"y\",\"type\":\"scatter\"},{\"hovertemplate\":\"Parceiros=INOA<br>Nome do Aluno=%{x}<br>M\\u00e9dia Total=%{y}<extra></extra>\",\"legendgroup\":\"INOA\",\"marker\":{\"color\":\"#EF553B\",\"symbol\":\"circle\"},\"mode\":\"markers\",\"name\":\"INOA\",\"orientation\":\"v\",\"showlegend\":true,\"x\":[\"aluno 388\",\"aluno 378\",\"aluno 449\",\"aluno 112\",\"aluno 323\",\"aluno 312\",\"aluno 495\",\"aluno 142\",\"aluno 48\",\"aluno 456\"],\"xaxis\":\"x\",\"y\":[58.833333333333336,46.666666666666664,45.166666666666664,60.833333333333336,48.5,61.666666666666664,48.0,51.166666666666664,51.833333333333336,44.0],\"yaxis\":\"y\",\"type\":\"scatter\"},{\"hovertemplate\":\"Parceiros=Daniba<br>Nome do Aluno=%{x}<br>M\\u00e9dia Total=%{y}<extra></extra>\",\"legendgroup\":\"Daniba\",\"marker\":{\"color\":\"#00cc96\",\"symbol\":\"circle\"},\"mode\":\"markers\",\"name\":\"Daniba\",\"orientation\":\"v\",\"showlegend\":true,\"x\":[\"aluno 468\",\"aluno 162\",\"aluno 473\",\"aluno 440\",\"aluno 57\",\"aluno 153\",\"aluno 92\",\"aluno 17\"],\"xaxis\":\"x\",\"y\":[49.666666666666664,32.833333333333336,49.666666666666664,43.5,45.833333333333336,54.0,41.666666666666664,47.833333333333336],\"yaxis\":\"y\",\"type\":\"scatter\"},{\"hovertemplate\":\"Parceiros=Instituto MRV<br>Nome do Aluno=%{x}<br>M\\u00e9dia Total=%{y}<extra></extra>\",\"legendgroup\":\"Instituto MRV\",\"marker\":{\"color\":\"#ab63fa\",\"symbol\":\"circle\"},\"mode\":\"markers\",\"name\":\"Instituto MRV\",\"orientation\":\"v\",\"showlegend\":true,\"x\":[\"aluno 16\",\"aluno 298\",\"aluno 44\",\"aluno 78\",\"aluno 209\",\"aluno 493\",\"aluno 363\",\"aluno 397\",\"aluno 54\",\"aluno 480\",\"aluno 165\",\"aluno 97\"],\"xaxis\":\"x\",\"y\":[46.5,47.333333333333336,37.166666666666664,49.833333333333336,42.5,58.333333333333336,39.833333333333336,51.5,52.333333333333336,43.833333333333336,57.5,50.5],\"yaxis\":\"y\",\"type\":\"scatter\"},{\"hovertemplate\":\"Parceiros=Hugo Costa<br>Nome do Aluno=%{x}<br>M\\u00e9dia Total=%{y}<extra></extra>\",\"legendgroup\":\"Hugo Costa\",\"marker\":{\"color\":\"#FFA15A\",\"symbol\":\"circle\"},\"mode\":\"markers\",\"name\":\"Hugo Costa\",\"orientation\":\"v\",\"showlegend\":true,\"x\":[\"aluno 21\",\"aluno 105\",\"aluno 448\",\"aluno 195\",\"aluno 342\",\"aluno 281\"],\"xaxis\":\"x\",\"y\":[55.5,50.166666666666664,48.666666666666664,63.0,47.0,59.333333333333336],\"yaxis\":\"y\",\"type\":\"scatter\"},{\"hovertemplate\":\"Parceiros=Sinch<br>Nome do Aluno=%{x}<br>M\\u00e9dia Total=%{y}<extra></extra>\",\"legendgroup\":\"Sinch\",\"marker\":{\"color\":\"#19d3f3\",\"symbol\":\"circle\"},\"mode\":\"markers\",\"name\":\"Sinch\",\"orientation\":\"v\",\"showlegend\":true,\"x\":[\"aluno 143\",\"aluno 359\",\"aluno 197\",\"aluno 441\",\"aluno 463\",\"aluno 379\",\"aluno 371\",\"aluno 336\",\"aluno 350\",\"aluno 247\"],\"xaxis\":\"x\",\"y\":[69.66666666666667,36.833333333333336,52.5,50.333333333333336,38.333333333333336,38.333333333333336,61.0,64.33333333333333,46.5,54.5],\"yaxis\":\"y\",\"type\":\"scatter\"},{\"hovertemplate\":\"Parceiros=Andreas (Rappi)<br>Nome do Aluno=%{x}<br>M\\u00e9dia Total=%{y}<extra></extra>\",\"legendgroup\":\"Andreas (Rappi)\",\"marker\":{\"color\":\"#FF6692\",\"symbol\":\"circle\"},\"mode\":\"markers\",\"name\":\"Andreas (Rappi)\",\"orientation\":\"v\",\"showlegend\":true,\"x\":[\"aluno 206\",\"aluno 184\"],\"xaxis\":\"x\",\"y\":[51.833333333333336,49.166666666666664],\"yaxis\":\"y\",\"type\":\"scatter\"},{\"hovertemplate\":\"Parceiros=Rold\\u00e3o<br>Nome do Aluno=%{x}<br>M\\u00e9dia Total=%{y}<extra></extra>\",\"legendgroup\":\"Rold\\u00e3o\",\"marker\":{\"color\":\"#B6E880\",\"symbol\":\"circle\"},\"mode\":\"markers\",\"name\":\"Rold\\u00e3o\",\"orientation\":\"v\",\"showlegend\":true,\"x\":[\"aluno 486\",\"aluno 494\",\"aluno 348\"],\"xaxis\":\"x\",\"y\":[48.166666666666664,42.0,46.666666666666664],\"yaxis\":\"y\",\"type\":\"scatter\"},{\"hovertemplate\":\"Parceiros=Parceiros da Educa\\u00e7\\u00e3o<br>Nome do Aluno=%{x}<br>M\\u00e9dia Total=%{y}<extra></extra>\",\"legendgroup\":\"Parceiros da Educa\\u00e7\\u00e3o\",\"marker\":{\"color\":\"#FF97FF\",\"symbol\":\"circle\"},\"mode\":\"markers\",\"name\":\"Parceiros da Educa\\u00e7\\u00e3o\",\"orientation\":\"v\",\"showlegend\":true,\"x\":[\"aluno 13\",\"aluno 148\",\"aluno 161\",\"aluno 318\"],\"xaxis\":\"x\",\"y\":[52.0,56.0,55.0,58.666666666666664],\"yaxis\":\"y\",\"type\":\"scatter\"},{\"hovertemplate\":\"Parceiros=Petribu<br>Nome do Aluno=%{x}<br>M\\u00e9dia Total=%{y}<extra></extra>\",\"legendgroup\":\"Petribu\",\"marker\":{\"color\":\"#FECB52\",\"symbol\":\"circle\"},\"mode\":\"markers\",\"name\":\"Petribu\",\"orientation\":\"v\",\"showlegend\":true,\"x\":[\"aluno 56\",\"aluno 116\"],\"xaxis\":\"x\",\"y\":[46.333333333333336,54.333333333333336],\"yaxis\":\"y\",\"type\":\"scatter\"},{\"hovertemplate\":\"Parceiros=A\\u00e7\\u00e3o Pela Paz<br>Nome do Aluno=%{x}<br>M\\u00e9dia Total=%{y}<extra></extra>\",\"legendgroup\":\"A\\u00e7\\u00e3o Pela Paz\",\"marker\":{\"color\":\"#636efa\",\"symbol\":\"circle\"},\"mode\":\"markers\",\"name\":\"A\\u00e7\\u00e3o Pela Paz\",\"orientation\":\"v\",\"showlegend\":true,\"x\":[\"aluno 55\",\"aluno 220\",\"aluno 479\",\"aluno 104\",\"aluno 244\",\"aluno 313\"],\"xaxis\":\"x\",\"y\":[53.333333333333336,60.0,48.833333333333336,60.666666666666664,47.333333333333336,63.0],\"yaxis\":\"y\",\"type\":\"scatter\"},{\"hovertemplate\":\"Parceiros=Viva Rio<br>Nome do Aluno=%{x}<br>M\\u00e9dia Total=%{y}<extra></extra>\",\"legendgroup\":\"Viva Rio\",\"marker\":{\"color\":\"#EF553B\",\"symbol\":\"circle\"},\"mode\":\"markers\",\"name\":\"Viva Rio\",\"orientation\":\"v\",\"showlegend\":true,\"x\":[\"aluno 32\"],\"xaxis\":\"x\",\"y\":[50.833333333333336],\"yaxis\":\"y\",\"type\":\"scatter\"},{\"hovertemplate\":\"Parceiros=COPAGAZ<br>Nome do Aluno=%{x}<br>M\\u00e9dia Total=%{y}<extra></extra>\",\"legendgroup\":\"COPAGAZ\",\"marker\":{\"color\":\"#00cc96\",\"symbol\":\"circle\"},\"mode\":\"markers\",\"name\":\"COPAGAZ\",\"orientation\":\"v\",\"showlegend\":true,\"x\":[\"aluno 5\"],\"xaxis\":\"x\",\"y\":[69.83333333333333],\"yaxis\":\"y\",\"type\":\"scatter\"},{\"hovertemplate\":\"Parceiros=Associa\\u00e7\\u00e3o Esculpir<br>Nome do Aluno=%{x}<br>M\\u00e9dia Total=%{y}<extra></extra>\",\"legendgroup\":\"Associa\\u00e7\\u00e3o Esculpir\",\"marker\":{\"color\":\"#ab63fa\",\"symbol\":\"circle\"},\"mode\":\"markers\",\"name\":\"Associa\\u00e7\\u00e3o Esculpir\",\"orientation\":\"v\",\"showlegend\":true,\"x\":[\"aluno 464\",\"aluno 69\",\"aluno 53\",\"aluno 385\"],\"xaxis\":\"x\",\"y\":[57.0,30.333333333333332,55.5,51.333333333333336],\"yaxis\":\"y\",\"type\":\"scatter\"},{\"hovertemplate\":\"Parceiros=Vivo POC<br>Nome do Aluno=%{x}<br>M\\u00e9dia Total=%{y}<extra></extra>\",\"legendgroup\":\"Vivo POC\",\"marker\":{\"color\":\"#FFA15A\",\"symbol\":\"circle\"},\"mode\":\"markers\",\"name\":\"Vivo POC\",\"orientation\":\"v\",\"showlegend\":true,\"x\":[\"aluno 1\",\"aluno 258\",\"aluno 418\",\"aluno 496\"],\"xaxis\":\"x\",\"y\":[57.333333333333336,45.333333333333336,29.0,46.833333333333336],\"yaxis\":\"y\",\"type\":\"scatter\"},{\"hovertemplate\":\"Parceiros=BEAUTYFULL<br>Nome do Aluno=%{x}<br>M\\u00e9dia Total=%{y}<extra></extra>\",\"legendgroup\":\"BEAUTYFULL\",\"marker\":{\"color\":\"#19d3f3\",\"symbol\":\"circle\"},\"mode\":\"markers\",\"name\":\"BEAUTYFULL\",\"orientation\":\"v\",\"showlegend\":true,\"x\":[\"aluno 107\",\"aluno 269\",\"aluno 452\",\"aluno 183\",\"aluno 6\",\"aluno 158\",\"aluno 99\",\"aluno 304\",\"aluno 175\",\"aluno 396\",\"aluno 219\",\"aluno 306\",\"aluno 122\"],\"xaxis\":\"x\",\"y\":[45.666666666666664,49.333333333333336,59.333333333333336,49.0,46.666666666666664,46.166666666666664,38.5,43.333333333333336,48.833333333333336,46.166666666666664,42.5,40.333333333333336,52.333333333333336],\"yaxis\":\"y\",\"type\":\"scatter\"},{\"hovertemplate\":\"Parceiros=Excelsior<br>Nome do Aluno=%{x}<br>M\\u00e9dia Total=%{y}<extra></extra>\",\"legendgroup\":\"Excelsior\",\"marker\":{\"color\":\"#FF6692\",\"symbol\":\"circle\"},\"mode\":\"markers\",\"name\":\"Excelsior\",\"orientation\":\"v\",\"showlegend\":true,\"x\":[\"aluno 408\",\"aluno 434\",\"aluno 176\",\"aluno 221\",\"aluno 40\",\"aluno 29\",\"aluno 39\",\"aluno 237\"],\"xaxis\":\"x\",\"y\":[37.833333333333336,49.166666666666664,59.0,57.333333333333336,39.833333333333336,42.666666666666664,38.5,54.666666666666664],\"yaxis\":\"y\",\"type\":\"scatter\"},{\"hovertemplate\":\"Parceiros=Wiz<br>Nome do Aluno=%{x}<br>M\\u00e9dia Total=%{y}<extra></extra>\",\"legendgroup\":\"Wiz\",\"marker\":{\"color\":\"#B6E880\",\"symbol\":\"circle\"},\"mode\":\"markers\",\"name\":\"Wiz\",\"orientation\":\"v\",\"showlegend\":true,\"x\":[\"aluno 268\",\"aluno 47\",\"aluno 260\",\"aluno 157\",\"aluno 470\",\"aluno 129\",\"aluno 436\",\"aluno 476\",\"aluno 320\",\"aluno 226\"],\"xaxis\":\"x\",\"y\":[52.833333333333336,59.333333333333336,41.166666666666664,39.333333333333336,55.166666666666664,42.833333333333336,54.166666666666664,56.0,51.666666666666664,47.833333333333336],\"yaxis\":\"y\",\"type\":\"scatter\"},{\"hovertemplate\":\"Parceiros=Accenture<br>Nome do Aluno=%{x}<br>M\\u00e9dia Total=%{y}<extra></extra>\",\"legendgroup\":\"Accenture\",\"marker\":{\"color\":\"#FF97FF\",\"symbol\":\"circle\"},\"mode\":\"markers\",\"name\":\"Accenture\",\"orientation\":\"v\",\"showlegend\":true,\"x\":[\"aluno 310\",\"aluno 346\",\"aluno 235\",\"aluno 113\",\"aluno 151\",\"aluno 242\"],\"xaxis\":\"x\",\"y\":[51.666666666666664,42.666666666666664,57.0,48.333333333333336,35.333333333333336,67.0],\"yaxis\":\"y\",\"type\":\"scatter\"},{\"hovertemplate\":\"Parceiros=Associa\\u00e7\\u00e3o Maria Helena Drexel<br>Nome do Aluno=%{x}<br>M\\u00e9dia Total=%{y}<extra></extra>\",\"legendgroup\":\"Associa\\u00e7\\u00e3o Maria Helena Drexel\",\"marker\":{\"color\":\"#FECB52\",\"symbol\":\"circle\"},\"mode\":\"markers\",\"name\":\"Associa\\u00e7\\u00e3o Maria Helena Drexel\",\"orientation\":\"v\",\"showlegend\":true,\"x\":[\"aluno 10\"],\"xaxis\":\"x\",\"y\":[56.166666666666664],\"yaxis\":\"y\",\"type\":\"scatter\"},{\"hovertemplate\":\"Parceiros=Santa Clara<br>Nome do Aluno=%{x}<br>M\\u00e9dia Total=%{y}<extra></extra>\",\"legendgroup\":\"Santa Clara\",\"marker\":{\"color\":\"#636efa\",\"symbol\":\"circle\"},\"mode\":\"markers\",\"name\":\"Santa Clara\",\"orientation\":\"v\",\"showlegend\":true,\"x\":[\"aluno 106\",\"aluno 7\",\"aluno 252\",\"aluno 256\",\"aluno 471\",\"aluno 4\",\"aluno 100\",\"aluno 499\",\"aluno 172\",\"aluno 52\"],\"xaxis\":\"x\",\"y\":[45.333333333333336,49.166666666666664,60.166666666666664,47.666666666666664,56.0,62.166666666666664,59.5,48.833333333333336,48.666666666666664,72.16666666666667],\"yaxis\":\"y\",\"type\":\"scatter\"},{\"hovertemplate\":\"Parceiros=Andreza Chagas<br>Nome do Aluno=%{x}<br>M\\u00e9dia Total=%{y}<extra></extra>\",\"legendgroup\":\"Andreza Chagas\",\"marker\":{\"color\":\"#EF553B\",\"symbol\":\"circle\"},\"mode\":\"markers\",\"name\":\"Andreza Chagas\",\"orientation\":\"v\",\"showlegend\":true,\"x\":[\"aluno 275\",\"aluno 401\",\"aluno 117\",\"aluno 307\"],\"xaxis\":\"x\",\"y\":[48.333333333333336,51.5,55.5,49.5],\"yaxis\":\"y\",\"type\":\"scatter\"},{\"hovertemplate\":\"Parceiros=Semeando Para o Futuro<br>Nome do Aluno=%{x}<br>M\\u00e9dia Total=%{y}<extra></extra>\",\"legendgroup\":\"Semeando Para o Futuro\",\"marker\":{\"color\":\"#00cc96\",\"symbol\":\"circle\"},\"mode\":\"markers\",\"name\":\"Semeando Para o Futuro\",\"orientation\":\"v\",\"showlegend\":true,\"x\":[\"aluno 139\",\"aluno 303\",\"aluno 198\",\"aluno 488\",\"aluno 231\",\"aluno 147\",\"aluno 465\",\"aluno 160\",\"aluno 462\",\"aluno 289\"],\"xaxis\":\"x\",\"y\":[39.833333333333336,43.166666666666664,59.5,38.166666666666664,44.333333333333336,51.666666666666664,38.333333333333336,34.166666666666664,50.666666666666664,58.333333333333336],\"yaxis\":\"y\",\"type\":\"scatter\"},{\"hovertemplate\":\"Parceiros=Lar da caridade<br>Nome do Aluno=%{x}<br>M\\u00e9dia Total=%{y}<extra></extra>\",\"legendgroup\":\"Lar da caridade\",\"marker\":{\"color\":\"#ab63fa\",\"symbol\":\"circle\"},\"mode\":\"markers\",\"name\":\"Lar da caridade\",\"orientation\":\"v\",\"showlegend\":true,\"x\":[\"aluno 290\",\"aluno 284\",\"aluno 352\"],\"xaxis\":\"x\",\"y\":[59.5,34.5,45.333333333333336],\"yaxis\":\"y\",\"type\":\"scatter\"},{\"hovertemplate\":\"Parceiros=Casa do menor<br>Nome do Aluno=%{x}<br>M\\u00e9dia Total=%{y}<extra></extra>\",\"legendgroup\":\"Casa do menor\",\"marker\":{\"color\":\"#FFA15A\",\"symbol\":\"circle\"},\"mode\":\"markers\",\"name\":\"Casa do menor\",\"orientation\":\"v\",\"showlegend\":true,\"x\":[\"aluno 361\",\"aluno 193\",\"aluno 177\"],\"xaxis\":\"x\",\"y\":[41.666666666666664,62.5,47.5],\"yaxis\":\"y\",\"type\":\"scatter\"},{\"hovertemplate\":\"Parceiros=GCB<br>Nome do Aluno=%{x}<br>M\\u00e9dia Total=%{y}<extra></extra>\",\"legendgroup\":\"GCB\",\"marker\":{\"color\":\"#19d3f3\",\"symbol\":\"circle\"},\"mode\":\"markers\",\"name\":\"GCB\",\"orientation\":\"v\",\"showlegend\":true,\"x\":[\"aluno 391\",\"aluno 245\",\"aluno 163\",\"aluno 315\",\"aluno 102\",\"aluno 372\",\"aluno 428\"],\"xaxis\":\"x\",\"y\":[46.833333333333336,52.0,43.333333333333336,49.5,52.0,55.333333333333336,52.166666666666664],\"yaxis\":\"y\",\"type\":\"scatter\"},{\"hovertemplate\":\"Parceiros=Novo DNA<br>Nome do Aluno=%{x}<br>M\\u00e9dia Total=%{y}<extra></extra>\",\"legendgroup\":\"Novo DNA\",\"marker\":{\"color\":\"#FF6692\",\"symbol\":\"circle\"},\"mode\":\"markers\",\"name\":\"Novo DNA\",\"orientation\":\"v\",\"showlegend\":true,\"x\":[\"aluno 62\",\"aluno 133\",\"aluno 328\",\"aluno 150\",\"aluno 70\"],\"xaxis\":\"x\",\"y\":[37.166666666666664,57.0,58.0,49.833333333333336,45.833333333333336],\"yaxis\":\"y\",\"type\":\"scatter\"},{\"hovertemplate\":\"Parceiros=Instituto Apontar<br>Nome do Aluno=%{x}<br>M\\u00e9dia Total=%{y}<extra></extra>\",\"legendgroup\":\"Instituto Apontar\",\"marker\":{\"color\":\"#B6E880\",\"symbol\":\"circle\"},\"mode\":\"markers\",\"name\":\"Instituto Apontar\",\"orientation\":\"v\",\"showlegend\":true,\"x\":[\"aluno 274\",\"aluno 283\",\"aluno 136\",\"aluno 30\",\"aluno 399\",\"aluno 432\"],\"xaxis\":\"x\",\"y\":[58.166666666666664,41.0,48.333333333333336,63.5,48.166666666666664,52.166666666666664],\"yaxis\":\"y\",\"type\":\"scatter\"},{\"hovertemplate\":\"Parceiros=Guilherme Miller<br>Nome do Aluno=%{x}<br>M\\u00e9dia Total=%{y}<extra></extra>\",\"legendgroup\":\"Guilherme Miller\",\"marker\":{\"color\":\"#FF97FF\",\"symbol\":\"circle\"},\"mode\":\"markers\",\"name\":\"Guilherme Miller\",\"orientation\":\"v\",\"showlegend\":true,\"x\":[\"aluno 317\"],\"xaxis\":\"x\",\"y\":[50.166666666666664],\"yaxis\":\"y\",\"type\":\"scatter\"},{\"hovertemplate\":\"Parceiros=Aldeias Infantis SOS Brasil<br>Nome do Aluno=%{x}<br>M\\u00e9dia Total=%{y}<extra></extra>\",\"legendgroup\":\"Aldeias Infantis SOS Brasil\",\"marker\":{\"color\":\"#FECB52\",\"symbol\":\"circle\"},\"mode\":\"markers\",\"name\":\"Aldeias Infantis SOS Brasil\",\"orientation\":\"v\",\"showlegend\":true,\"x\":[\"aluno 500\"],\"xaxis\":\"x\",\"y\":[45.333333333333336],\"yaxis\":\"y\",\"type\":\"scatter\"}],                        {\"template\":{\"data\":{\"bar\":[{\"error_x\":{\"color\":\"#2a3f5f\"},\"error_y\":{\"color\":\"#2a3f5f\"},\"marker\":{\"line\":{\"color\":\"#E5ECF6\",\"width\":0.5},\"pattern\":{\"fillmode\":\"overlay\",\"size\":10,\"solidity\":0.2}},\"type\":\"bar\"}],\"barpolar\":[{\"marker\":{\"line\":{\"color\":\"#E5ECF6\",\"width\":0.5},\"pattern\":{\"fillmode\":\"overlay\",\"size\":10,\"solidity\":0.2}},\"type\":\"barpolar\"}],\"carpet\":[{\"aaxis\":{\"endlinecolor\":\"#2a3f5f\",\"gridcolor\":\"white\",\"linecolor\":\"white\",\"minorgridcolor\":\"white\",\"startlinecolor\":\"#2a3f5f\"},\"baxis\":{\"endlinecolor\":\"#2a3f5f\",\"gridcolor\":\"white\",\"linecolor\":\"white\",\"minorgridcolor\":\"white\",\"startlinecolor\":\"#2a3f5f\"},\"type\":\"carpet\"}],\"choropleth\":[{\"colorbar\":{\"outlinewidth\":0,\"ticks\":\"\"},\"type\":\"choropleth\"}],\"contour\":[{\"colorbar\":{\"outlinewidth\":0,\"ticks\":\"\"},\"colorscale\":[[0.0,\"#0d0887\"],[0.1111111111111111,\"#46039f\"],[0.2222222222222222,\"#7201a8\"],[0.3333333333333333,\"#9c179e\"],[0.4444444444444444,\"#bd3786\"],[0.5555555555555556,\"#d8576b\"],[0.6666666666666666,\"#ed7953\"],[0.7777777777777778,\"#fb9f3a\"],[0.8888888888888888,\"#fdca26\"],[1.0,\"#f0f921\"]],\"type\":\"contour\"}],\"contourcarpet\":[{\"colorbar\":{\"outlinewidth\":0,\"ticks\":\"\"},\"type\":\"contourcarpet\"}],\"heatmap\":[{\"colorbar\":{\"outlinewidth\":0,\"ticks\":\"\"},\"colorscale\":[[0.0,\"#0d0887\"],[0.1111111111111111,\"#46039f\"],[0.2222222222222222,\"#7201a8\"],[0.3333333333333333,\"#9c179e\"],[0.4444444444444444,\"#bd3786\"],[0.5555555555555556,\"#d8576b\"],[0.6666666666666666,\"#ed7953\"],[0.7777777777777778,\"#fb9f3a\"],[0.8888888888888888,\"#fdca26\"],[1.0,\"#f0f921\"]],\"type\":\"heatmap\"}],\"heatmapgl\":[{\"colorbar\":{\"outlinewidth\":0,\"ticks\":\"\"},\"colorscale\":[[0.0,\"#0d0887\"],[0.1111111111111111,\"#46039f\"],[0.2222222222222222,\"#7201a8\"],[0.3333333333333333,\"#9c179e\"],[0.4444444444444444,\"#bd3786\"],[0.5555555555555556,\"#d8576b\"],[0.6666666666666666,\"#ed7953\"],[0.7777777777777778,\"#fb9f3a\"],[0.8888888888888888,\"#fdca26\"],[1.0,\"#f0f921\"]],\"type\":\"heatmapgl\"}],\"histogram\":[{\"marker\":{\"pattern\":{\"fillmode\":\"overlay\",\"size\":10,\"solidity\":0.2}},\"type\":\"histogram\"}],\"histogram2d\":[{\"colorbar\":{\"outlinewidth\":0,\"ticks\":\"\"},\"colorscale\":[[0.0,\"#0d0887\"],[0.1111111111111111,\"#46039f\"],[0.2222222222222222,\"#7201a8\"],[0.3333333333333333,\"#9c179e\"],[0.4444444444444444,\"#bd3786\"],[0.5555555555555556,\"#d8576b\"],[0.6666666666666666,\"#ed7953\"],[0.7777777777777778,\"#fb9f3a\"],[0.8888888888888888,\"#fdca26\"],[1.0,\"#f0f921\"]],\"type\":\"histogram2d\"}],\"histogram2dcontour\":[{\"colorbar\":{\"outlinewidth\":0,\"ticks\":\"\"},\"colorscale\":[[0.0,\"#0d0887\"],[0.1111111111111111,\"#46039f\"],[0.2222222222222222,\"#7201a8\"],[0.3333333333333333,\"#9c179e\"],[0.4444444444444444,\"#bd3786\"],[0.5555555555555556,\"#d8576b\"],[0.6666666666666666,\"#ed7953\"],[0.7777777777777778,\"#fb9f3a\"],[0.8888888888888888,\"#fdca26\"],[1.0,\"#f0f921\"]],\"type\":\"histogram2dcontour\"}],\"mesh3d\":[{\"colorbar\":{\"outlinewidth\":0,\"ticks\":\"\"},\"type\":\"mesh3d\"}],\"parcoords\":[{\"line\":{\"colorbar\":{\"outlinewidth\":0,\"ticks\":\"\"}},\"type\":\"parcoords\"}],\"pie\":[{\"automargin\":true,\"type\":\"pie\"}],\"scatter\":[{\"marker\":{\"colorbar\":{\"outlinewidth\":0,\"ticks\":\"\"}},\"type\":\"scatter\"}],\"scatter3d\":[{\"line\":{\"colorbar\":{\"outlinewidth\":0,\"ticks\":\"\"}},\"marker\":{\"colorbar\":{\"outlinewidth\":0,\"ticks\":\"\"}},\"type\":\"scatter3d\"}],\"scattercarpet\":[{\"marker\":{\"colorbar\":{\"outlinewidth\":0,\"ticks\":\"\"}},\"type\":\"scattercarpet\"}],\"scattergeo\":[{\"marker\":{\"colorbar\":{\"outlinewidth\":0,\"ticks\":\"\"}},\"type\":\"scattergeo\"}],\"scattergl\":[{\"marker\":{\"colorbar\":{\"outlinewidth\":0,\"ticks\":\"\"}},\"type\":\"scattergl\"}],\"scattermapbox\":[{\"marker\":{\"colorbar\":{\"outlinewidth\":0,\"ticks\":\"\"}},\"type\":\"scattermapbox\"}],\"scatterpolar\":[{\"marker\":{\"colorbar\":{\"outlinewidth\":0,\"ticks\":\"\"}},\"type\":\"scatterpolar\"}],\"scatterpolargl\":[{\"marker\":{\"colorbar\":{\"outlinewidth\":0,\"ticks\":\"\"}},\"type\":\"scatterpolargl\"}],\"scatterternary\":[{\"marker\":{\"colorbar\":{\"outlinewidth\":0,\"ticks\":\"\"}},\"type\":\"scatterternary\"}],\"surface\":[{\"colorbar\":{\"outlinewidth\":0,\"ticks\":\"\"},\"colorscale\":[[0.0,\"#0d0887\"],[0.1111111111111111,\"#46039f\"],[0.2222222222222222,\"#7201a8\"],[0.3333333333333333,\"#9c179e\"],[0.4444444444444444,\"#bd3786\"],[0.5555555555555556,\"#d8576b\"],[0.6666666666666666,\"#ed7953\"],[0.7777777777777778,\"#fb9f3a\"],[0.8888888888888888,\"#fdca26\"],[1.0,\"#f0f921\"]],\"type\":\"surface\"}],\"table\":[{\"cells\":{\"fill\":{\"color\":\"#EBF0F8\"},\"line\":{\"color\":\"white\"}},\"header\":{\"fill\":{\"color\":\"#C8D4E3\"},\"line\":{\"color\":\"white\"}},\"type\":\"table\"}]},\"layout\":{\"annotationdefaults\":{\"arrowcolor\":\"#2a3f5f\",\"arrowhead\":0,\"arrowwidth\":1},\"autotypenumbers\":\"strict\",\"coloraxis\":{\"colorbar\":{\"outlinewidth\":0,\"ticks\":\"\"}},\"colorscale\":{\"diverging\":[[0,\"#8e0152\"],[0.1,\"#c51b7d\"],[0.2,\"#de77ae\"],[0.3,\"#f1b6da\"],[0.4,\"#fde0ef\"],[0.5,\"#f7f7f7\"],[0.6,\"#e6f5d0\"],[0.7,\"#b8e186\"],[0.8,\"#7fbc41\"],[0.9,\"#4d9221\"],[1,\"#276419\"]],\"sequential\":[[0.0,\"#0d0887\"],[0.1111111111111111,\"#46039f\"],[0.2222222222222222,\"#7201a8\"],[0.3333333333333333,\"#9c179e\"],[0.4444444444444444,\"#bd3786\"],[0.5555555555555556,\"#d8576b\"],[0.6666666666666666,\"#ed7953\"],[0.7777777777777778,\"#fb9f3a\"],[0.8888888888888888,\"#fdca26\"],[1.0,\"#f0f921\"]],\"sequentialminus\":[[0.0,\"#0d0887\"],[0.1111111111111111,\"#46039f\"],[0.2222222222222222,\"#7201a8\"],[0.3333333333333333,\"#9c179e\"],[0.4444444444444444,\"#bd3786\"],[0.5555555555555556,\"#d8576b\"],[0.6666666666666666,\"#ed7953\"],[0.7777777777777778,\"#fb9f3a\"],[0.8888888888888888,\"#fdca26\"],[1.0,\"#f0f921\"]]},\"colorway\":[\"#636efa\",\"#EF553B\",\"#00cc96\",\"#ab63fa\",\"#FFA15A\",\"#19d3f3\",\"#FF6692\",\"#B6E880\",\"#FF97FF\",\"#FECB52\"],\"font\":{\"color\":\"#2a3f5f\"},\"geo\":{\"bgcolor\":\"white\",\"lakecolor\":\"white\",\"landcolor\":\"#E5ECF6\",\"showlakes\":true,\"showland\":true,\"subunitcolor\":\"white\"},\"hoverlabel\":{\"align\":\"left\"},\"hovermode\":\"closest\",\"mapbox\":{\"style\":\"light\"},\"paper_bgcolor\":\"white\",\"plot_bgcolor\":\"#E5ECF6\",\"polar\":{\"angularaxis\":{\"gridcolor\":\"white\",\"linecolor\":\"white\",\"ticks\":\"\"},\"bgcolor\":\"#E5ECF6\",\"radialaxis\":{\"gridcolor\":\"white\",\"linecolor\":\"white\",\"ticks\":\"\"}},\"scene\":{\"xaxis\":{\"backgroundcolor\":\"#E5ECF6\",\"gridcolor\":\"white\",\"gridwidth\":2,\"linecolor\":\"white\",\"showbackground\":true,\"ticks\":\"\",\"zerolinecolor\":\"white\"},\"yaxis\":{\"backgroundcolor\":\"#E5ECF6\",\"gridcolor\":\"white\",\"gridwidth\":2,\"linecolor\":\"white\",\"showbackground\":true,\"ticks\":\"\",\"zerolinecolor\":\"white\"},\"zaxis\":{\"backgroundcolor\":\"#E5ECF6\",\"gridcolor\":\"white\",\"gridwidth\":2,\"linecolor\":\"white\",\"showbackground\":true,\"ticks\":\"\",\"zerolinecolor\":\"white\"}},\"shapedefaults\":{\"line\":{\"color\":\"#2a3f5f\"}},\"ternary\":{\"aaxis\":{\"gridcolor\":\"white\",\"linecolor\":\"white\",\"ticks\":\"\"},\"baxis\":{\"gridcolor\":\"white\",\"linecolor\":\"white\",\"ticks\":\"\"},\"bgcolor\":\"#E5ECF6\",\"caxis\":{\"gridcolor\":\"white\",\"linecolor\":\"white\",\"ticks\":\"\"}},\"title\":{\"x\":0.05},\"xaxis\":{\"automargin\":true,\"gridcolor\":\"white\",\"linecolor\":\"white\",\"ticks\":\"\",\"title\":{\"standoff\":15},\"zerolinecolor\":\"white\",\"zerolinewidth\":2},\"yaxis\":{\"automargin\":true,\"gridcolor\":\"white\",\"linecolor\":\"white\",\"ticks\":\"\",\"title\":{\"standoff\":15},\"zerolinecolor\":\"white\",\"zerolinewidth\":2}}},\"xaxis\":{\"anchor\":\"y\",\"domain\":[0.0,1.0],\"title\":{\"text\":\"Nome do Aluno\"}},\"yaxis\":{\"anchor\":\"x\",\"domain\":[0.0,1.0],\"title\":{\"text\":\"M\\u00e9dia Total\"}},\"legend\":{\"title\":{\"text\":\"Parceiros\"},\"tracegroupgap\":0},\"margin\":{\"t\":60},\"shapes\":[{\"type\":\"line\",\"x0\":0,\"x1\":1,\"xref\":\"x domain\",\"y0\":50.36127450980392,\"y1\":50.36127450980392,\"yref\":\"y\"}]},                        {\"responsive\": true}                    ).then(function(){\n",
       "                            \n",
       "var gd = document.getElementById('5634189b-bd91-4ac0-a804-facf80d592bd');\n",
       "var x = new MutationObserver(function (mutations, observer) {{\n",
       "        var display = window.getComputedStyle(gd).display;\n",
       "        if (!display || display === 'none') {{\n",
       "            console.log([gd, 'removed!']);\n",
       "            Plotly.purge(gd);\n",
       "            observer.disconnect();\n",
       "        }}\n",
       "}});\n",
       "\n",
       "// Listen for the removal of the full notebook cells\n",
       "var notebookContainer = gd.closest('#notebook-container');\n",
       "if (notebookContainer) {{\n",
       "    x.observe(notebookContainer, {childList: true});\n",
       "}}\n",
       "\n",
       "// Listen for the clearing of the current output cell\n",
       "var outputEl = gd.closest('.output');\n",
       "if (outputEl) {{\n",
       "    x.observe(outputEl, {childList: true});\n",
       "}}\n",
       "\n",
       "                        })                };                });            </script>        </div>"
      ]
     },
     "metadata": {},
     "output_type": "display_data"
    }
   ],
   "source": [
    "grafico_1 = px.scatter(\n",
    "            data_frame=df,\n",
    "            x = 'Nome do Aluno', \n",
    "            y = 'Média Total',\n",
    "            color='Parceiros')\n",
    "grafico_1.add_hline(y=df['Média Total'].mean())\n",
    "\n",
    "grafico_1.show()"
   ]
  },
  {
   "cell_type": "code",
   "execution_count": 117,
   "id": "d32cad9d",
   "metadata": {},
   "outputs": [
    {
     "data": {
      "application/vnd.plotly.v1+json": {
       "config": {
        "plotlyServerURL": "https://plot.ly"
       },
       "data": [
        {
         "hovertemplate": "Tipo de Relacionamento=Bolsista<br>Nome do Aluno=%{x}<br>Média Total=%{y}<extra></extra>",
         "legendgroup": "Bolsista",
         "marker": {
          "color": "#636efa",
          "symbol": "circle"
         },
         "mode": "markers",
         "name": "Bolsista",
         "orientation": "v",
         "showlegend": true,
         "type": "scatter",
         "x": [
          "aluno 239",
          "aluno 296",
          "aluno 156",
          "aluno 322",
          "aluno 187",
          "aluno 210",
          "aluno 12",
          "aluno 228",
          "aluno 35",
          "aluno 192",
          "aluno 272",
          "aluno 19",
          "aluno 188",
          "aluno 167",
          "aluno 108",
          "aluno 334",
          "aluno 171",
          "aluno 302",
          "aluno 425",
          "aluno 182",
          "aluno 344",
          "aluno 288",
          "aluno 120",
          "aluno 381",
          "aluno 356",
          "aluno 487",
          "aluno 437",
          "aluno 141",
          "aluno 439",
          "aluno 223",
          "aluno 37",
          "aluno 130",
          "aluno 93",
          "aluno 254",
          "aluno 168",
          "aluno 402",
          "aluno 426",
          "aluno 500"
         ],
         "xaxis": "x",
         "y": [
          57.166666666666664,
          51.166666666666664,
          49.5,
          49,
          36.333333333333336,
          57.166666666666664,
          46.833333333333336,
          45.666666666666664,
          44.666666666666664,
          40.333333333333336,
          33.666666666666664,
          57,
          32,
          48.666666666666664,
          39.5,
          44.666666666666664,
          63,
          54.833333333333336,
          53,
          50.666666666666664,
          50.666666666666664,
          51.666666666666664,
          41.833333333333336,
          57.5,
          52.833333333333336,
          48.166666666666664,
          54.5,
          41,
          49.666666666666664,
          55.666666666666664,
          53.166666666666664,
          67.5,
          52.5,
          61,
          51.166666666666664,
          47.666666666666664,
          47.333333333333336,
          45.333333333333336
         ],
         "yaxis": "y"
        },
        {
         "hovertemplate": "Tipo de Relacionamento=B2B<br>Nome do Aluno=%{x}<br>Média Total=%{y}<extra></extra>",
         "legendgroup": "B2B",
         "marker": {
          "color": "#EF553B",
          "symbol": "circle"
         },
         "mode": "markers",
         "name": "B2B",
         "orientation": "v",
         "showlegend": true,
         "type": "scatter",
         "x": [
          "aluno 255",
          "aluno 111",
          "aluno 38",
          "aluno 27",
          "aluno 420",
          "aluno 14",
          "aluno 453",
          "aluno 285",
          "aluno 292",
          "aluno 15",
          "aluno 309",
          "aluno 265",
          "aluno 68",
          "aluno 360",
          "aluno 474",
          "aluno 376",
          "aluno 213",
          "aluno 118",
          "aluno 335",
          "aluno 51",
          "aluno 131",
          "aluno 484",
          "aluno 246",
          "aluno 101",
          "aluno 419",
          "aluno 25",
          "aluno 202",
          "aluno 230",
          "aluno 386",
          "aluno 229",
          "aluno 469",
          "aluno 140",
          "aluno 123",
          "aluno 238",
          "aluno 86",
          "aluno 459",
          "aluno 174",
          "aluno 110",
          "aluno 9",
          "aluno 22",
          "aluno 270",
          "aluno 423",
          "aluno 241",
          "aluno 286",
          "aluno 261",
          "aluno 26",
          "aluno 388",
          "aluno 485",
          "aluno 50",
          "aluno 373",
          "aluno 236",
          "aluno 468",
          "aluno 162",
          "aluno 16",
          "aluno 298",
          "aluno 44",
          "aluno 78",
          "aluno 209",
          "aluno 493",
          "aluno 363",
          "aluno 397",
          "aluno 54",
          "aluno 21",
          "aluno 480",
          "aluno 165",
          "aluno 143",
          "aluno 97",
          "aluno 8",
          "aluno 395",
          "aluno 411",
          "aluno 105",
          "aluno 448",
          "aluno 377",
          "aluno 173",
          "aluno 206",
          "aluno 119",
          "aluno 359",
          "aluno 264",
          "aluno 486",
          "aluno 392",
          "aluno 13",
          "aluno 148",
          "aluno 378",
          "aluno 161",
          "aluno 94",
          "aluno 253",
          "aluno 56",
          "aluno 116",
          "aluno 55",
          "aluno 220",
          "aluno 479",
          "aluno 104",
          "aluno 149",
          "aluno 45",
          "aluno 64",
          "aluno 466",
          "aluno 24",
          "aluno 154",
          "aluno 127",
          "aluno 135",
          "aluno 125",
          "aluno 481",
          "aluno 447",
          "aluno 367",
          "aluno 32",
          "aluno 5",
          "aluno 498",
          "aluno 393",
          "aluno 59",
          "aluno 427",
          "aluno 416",
          "aluno 126",
          "aluno 429",
          "aluno 36",
          "aluno 489",
          "aluno 155",
          "aluno 438",
          "aluno 271",
          "aluno 95",
          "aluno 33",
          "aluno 200",
          "aluno 404",
          "aluno 262",
          "aluno 11",
          "aluno 345",
          "aluno 464",
          "aluno 69",
          "aluno 53",
          "aluno 455",
          "aluno 3",
          "aluno 1",
          "aluno 258",
          "aluno 217",
          "aluno 449",
          "aluno 107",
          "aluno 269",
          "aluno 452",
          "aluno 183",
          "aluno 103",
          "aluno 408",
          "aluno 434",
          "aluno 234",
          "aluno 268",
          "aluno 47",
          "aluno 260",
          "aluno 157",
          "aluno 470",
          "aluno 129",
          "aluno 67",
          "aluno 310",
          "aluno 346",
          "aluno 235",
          "aluno 318",
          "aluno 10",
          "aluno 113",
          "aluno 151",
          "aluno 195",
          "aluno 242",
          "aluno 20",
          "aluno 159",
          "aluno 6",
          "aluno 158",
          "aluno 99",
          "aluno 304",
          "aluno 175",
          "aluno 396",
          "aluno 219",
          "aluno 306",
          "aluno 122",
          "aluno 176",
          "aluno 342",
          "aluno 191",
          "aluno 221",
          "aluno 473",
          "aluno 440",
          "aluno 436",
          "aluno 40",
          "aluno 244",
          "aluno 65",
          "aluno 467",
          "aluno 85",
          "aluno 492",
          "aluno 385",
          "aluno 293",
          "aluno 263",
          "aluno 197",
          "aluno 441",
          "aluno 106",
          "aluno 7",
          "aluno 252",
          "aluno 256",
          "aluno 471",
          "aluno 4",
          "aluno 100",
          "aluno 337",
          "aluno 476",
          "aluno 275",
          "aluno 401",
          "aluno 117",
          "aluno 307",
          "aluno 139",
          "aluno 320",
          "aluno 226",
          "aluno 303",
          "aluno 494",
          "aluno 463",
          "aluno 379",
          "aluno 348",
          "aluno 371",
          "aluno 290",
          "aluno 284",
          "aluno 352",
          "aluno 361",
          "aluno 391",
          "aluno 193",
          "aluno 177",
          "aluno 245",
          "aluno 163",
          "aluno 313",
          "aluno 208",
          "aluno 400",
          "aluno 499",
          "aluno 172",
          "aluno 52",
          "aluno 315",
          "aluno 102",
          "aluno 372",
          "aluno 428",
          "aluno 281",
          "aluno 124",
          "aluno 144",
          "aluno 41",
          "aluno 384",
          "aluno 483",
          "aluno 406",
          "aluno 60",
          "aluno 478",
          "aluno 274",
          "aluno 283",
          "aluno 136",
          "aluno 336",
          "aluno 350",
          "aluno 112",
          "aluno 323",
          "aluno 312",
          "aluno 495",
          "aluno 142",
          "aluno 48",
          "aluno 456",
          "aluno 454",
          "aluno 57",
          "aluno 166",
          "aluno 46",
          "aluno 257",
          "aluno 29",
          "aluno 153",
          "aluno 92",
          "aluno 324",
          "aluno 152",
          "aluno 77",
          "aluno 170",
          "aluno 17",
          "aluno 39",
          "aluno 418",
          "aluno 496",
          "aluno 49",
          "aluno 198",
          "aluno 488",
          "aluno 231",
          "aluno 147",
          "aluno 465",
          "aluno 160",
          "aluno 462",
          "aluno 289",
          "aluno 424",
          "aluno 190",
          "aluno 30",
          "aluno 399",
          "aluno 432",
          "aluno 276",
          "aluno 477",
          "aluno 196",
          "aluno 247",
          "aluno 28",
          "aluno 314",
          "aluno 237",
          "aluno 248",
          "aluno 132",
          "aluno 278",
          "aluno 98",
          "aluno 184"
         ],
         "xaxis": "x",
         "y": [
          39.666666666666664,
          54.666666666666664,
          52.333333333333336,
          48.666666666666664,
          46.333333333333336,
          43.333333333333336,
          54.666666666666664,
          70.16666666666667,
          44.5,
          58.5,
          37,
          51.5,
          53.666666666666664,
          42,
          45.5,
          46.333333333333336,
          43.166666666666664,
          50.666666666666664,
          49.833333333333336,
          54,
          49.5,
          53,
          59,
          39.833333333333336,
          57.333333333333336,
          46.833333333333336,
          29.333333333333332,
          54,
          63.5,
          58.5,
          51.333333333333336,
          52.5,
          62.166666666666664,
          48.833333333333336,
          40.166666666666664,
          46.333333333333336,
          41.166666666666664,
          58.666666666666664,
          46.833333333333336,
          47.166666666666664,
          37.5,
          47.666666666666664,
          56.333333333333336,
          47.166666666666664,
          62,
          56.666666666666664,
          58.833333333333336,
          47.333333333333336,
          67.83333333333333,
          43.833333333333336,
          37.833333333333336,
          49.666666666666664,
          32.833333333333336,
          46.5,
          47.333333333333336,
          37.166666666666664,
          49.833333333333336,
          42.5,
          58.333333333333336,
          39.833333333333336,
          51.5,
          52.333333333333336,
          55.5,
          43.833333333333336,
          57.5,
          69.66666666666667,
          50.5,
          32.833333333333336,
          43.666666666666664,
          53.166666666666664,
          50.166666666666664,
          48.666666666666664,
          60.166666666666664,
          45.666666666666664,
          51.833333333333336,
          43.666666666666664,
          36.833333333333336,
          64.83333333333333,
          48.166666666666664,
          56.333333333333336,
          52,
          56,
          46.666666666666664,
          55,
          42.333333333333336,
          54.5,
          46.333333333333336,
          54.333333333333336,
          53.333333333333336,
          60,
          48.833333333333336,
          60.666666666666664,
          48.333333333333336,
          55.833333333333336,
          58.5,
          45,
          60.166666666666664,
          65.66666666666667,
          39.5,
          40.166666666666664,
          53.166666666666664,
          39.666666666666664,
          47.5,
          64.83333333333333,
          50.833333333333336,
          69.83333333333333,
          48.166666666666664,
          62.833333333333336,
          48.5,
          47.5,
          35.5,
          37.166666666666664,
          45.5,
          55.5,
          43.666666666666664,
          57.166666666666664,
          56.5,
          51.5,
          51.333333333333336,
          60.666666666666664,
          50.333333333333336,
          58.166666666666664,
          56.166666666666664,
          56.5,
          53.166666666666664,
          57,
          30.333333333333332,
          55.5,
          33.666666666666664,
          58.666666666666664,
          57.333333333333336,
          45.333333333333336,
          46.333333333333336,
          45.166666666666664,
          45.666666666666664,
          49.333333333333336,
          59.333333333333336,
          49,
          56.5,
          37.833333333333336,
          49.166666666666664,
          75.16666666666667,
          52.833333333333336,
          59.333333333333336,
          41.166666666666664,
          39.333333333333336,
          55.166666666666664,
          42.833333333333336,
          52.166666666666664,
          51.666666666666664,
          42.666666666666664,
          57,
          58.666666666666664,
          56.166666666666664,
          48.333333333333336,
          35.333333333333336,
          63,
          67,
          51.5,
          69.66666666666667,
          46.666666666666664,
          46.166666666666664,
          38.5,
          43.333333333333336,
          48.833333333333336,
          46.166666666666664,
          42.5,
          40.333333333333336,
          52.333333333333336,
          59,
          47,
          55.833333333333336,
          57.333333333333336,
          49.666666666666664,
          43.5,
          54.166666666666664,
          39.833333333333336,
          47.333333333333336,
          57.833333333333336,
          62.666666666666664,
          42.166666666666664,
          41.5,
          51.333333333333336,
          47.666666666666664,
          54.833333333333336,
          52.5,
          50.333333333333336,
          45.333333333333336,
          49.166666666666664,
          60.166666666666664,
          47.666666666666664,
          56,
          62.166666666666664,
          59.5,
          65,
          56,
          48.333333333333336,
          51.5,
          55.5,
          49.5,
          39.833333333333336,
          51.666666666666664,
          47.833333333333336,
          43.166666666666664,
          42,
          38.333333333333336,
          38.333333333333336,
          46.666666666666664,
          61,
          59.5,
          34.5,
          45.333333333333336,
          41.666666666666664,
          46.833333333333336,
          62.5,
          47.5,
          52,
          43.333333333333336,
          63,
          58.333333333333336,
          50,
          48.833333333333336,
          48.666666666666664,
          72.16666666666667,
          49.5,
          52,
          55.333333333333336,
          52.166666666666664,
          59.333333333333336,
          54.333333333333336,
          52.666666666666664,
          45.166666666666664,
          46.666666666666664,
          40.666666666666664,
          50.666666666666664,
          50.5,
          49.166666666666664,
          58.166666666666664,
          41,
          48.333333333333336,
          64.33333333333333,
          46.5,
          60.833333333333336,
          48.5,
          61.666666666666664,
          48,
          51.166666666666664,
          51.833333333333336,
          44,
          49.833333333333336,
          45.833333333333336,
          62.333333333333336,
          51.333333333333336,
          60,
          42.666666666666664,
          54,
          41.666666666666664,
          47.666666666666664,
          45.666666666666664,
          47.5,
          67.66666666666667,
          47.833333333333336,
          38.5,
          29,
          46.833333333333336,
          68.33333333333333,
          59.5,
          38.166666666666664,
          44.333333333333336,
          51.666666666666664,
          38.333333333333336,
          34.166666666666664,
          50.666666666666664,
          58.333333333333336,
          63.833333333333336,
          45.5,
          63.5,
          48.166666666666664,
          52.166666666666664,
          45,
          55.5,
          53.833333333333336,
          54.5,
          45,
          58.5,
          54.666666666666664,
          51.166666666666664,
          51.166666666666664,
          39,
          40.333333333333336,
          49.166666666666664
         ],
         "yaxis": "y"
        },
        {
         "hovertemplate": "Tipo de Relacionamento=Alipass<br>Nome do Aluno=%{x}<br>Média Total=%{y}<extra></extra>",
         "legendgroup": "Alipass",
         "marker": {
          "color": "#00cc96",
          "symbol": "circle"
         },
         "mode": "markers",
         "name": "Alipass",
         "orientation": "v",
         "showlegend": true,
         "type": "scatter",
         "x": [
          "aluno 232",
          "aluno 394",
          "aluno 181",
          "aluno 491",
          "aluno 413"
         ],
         "xaxis": "x",
         "y": [
          40.166666666666664,
          49.333333333333336,
          42.666666666666664,
          51.666666666666664,
          57.166666666666664
         ],
         "yaxis": "y"
        },
        {
         "hovertemplate": "Tipo de Relacionamento=Gratuidade<br>Nome do Aluno=%{x}<br>Média Total=%{y}<extra></extra>",
         "legendgroup": "Gratuidade",
         "marker": {
          "color": "#ab63fa",
          "symbol": "circle"
         },
         "mode": "markers",
         "name": "Gratuidade",
         "orientation": "v",
         "showlegend": true,
         "type": "scatter",
         "x": [
          "aluno 62"
         ],
         "xaxis": "x",
         "y": [
          37.166666666666664
         ],
         "yaxis": "y"
        },
        {
         "hovertemplate": "Tipo de Relacionamento=B2C<br>Nome do Aluno=%{x}<br>Média Total=%{y}<extra></extra>",
         "legendgroup": "B2C",
         "marker": {
          "color": "#FFA15A",
          "symbol": "circle"
         },
         "mode": "markers",
         "name": "B2C",
         "orientation": "v",
         "showlegend": true,
         "type": "scatter",
         "x": [
          "aluno 133",
          "aluno 328",
          "aluno 150",
          "aluno 317",
          "aluno 70"
         ],
         "xaxis": "x",
         "y": [
          57,
          58,
          49.833333333333336,
          50.166666666666664,
          45.833333333333336
         ],
         "yaxis": "y"
        }
       ],
       "layout": {
        "legend": {
         "title": {
          "text": "Tipo de Relacionamento"
         },
         "tracegroupgap": 0
        },
        "margin": {
         "t": 60
        },
        "shapes": [
         {
          "type": "line",
          "x0": 0,
          "x1": 1,
          "xref": "x domain",
          "y0": 50.36127450980392,
          "y1": 50.36127450980392,
          "yref": "y"
         }
        ],
        "template": {
         "data": {
          "bar": [
           {
            "error_x": {
             "color": "#2a3f5f"
            },
            "error_y": {
             "color": "#2a3f5f"
            },
            "marker": {
             "line": {
              "color": "#E5ECF6",
              "width": 0.5
             },
             "pattern": {
              "fillmode": "overlay",
              "size": 10,
              "solidity": 0.2
             }
            },
            "type": "bar"
           }
          ],
          "barpolar": [
           {
            "marker": {
             "line": {
              "color": "#E5ECF6",
              "width": 0.5
             },
             "pattern": {
              "fillmode": "overlay",
              "size": 10,
              "solidity": 0.2
             }
            },
            "type": "barpolar"
           }
          ],
          "carpet": [
           {
            "aaxis": {
             "endlinecolor": "#2a3f5f",
             "gridcolor": "white",
             "linecolor": "white",
             "minorgridcolor": "white",
             "startlinecolor": "#2a3f5f"
            },
            "baxis": {
             "endlinecolor": "#2a3f5f",
             "gridcolor": "white",
             "linecolor": "white",
             "minorgridcolor": "white",
             "startlinecolor": "#2a3f5f"
            },
            "type": "carpet"
           }
          ],
          "choropleth": [
           {
            "colorbar": {
             "outlinewidth": 0,
             "ticks": ""
            },
            "type": "choropleth"
           }
          ],
          "contour": [
           {
            "colorbar": {
             "outlinewidth": 0,
             "ticks": ""
            },
            "colorscale": [
             [
              0,
              "#0d0887"
             ],
             [
              0.1111111111111111,
              "#46039f"
             ],
             [
              0.2222222222222222,
              "#7201a8"
             ],
             [
              0.3333333333333333,
              "#9c179e"
             ],
             [
              0.4444444444444444,
              "#bd3786"
             ],
             [
              0.5555555555555556,
              "#d8576b"
             ],
             [
              0.6666666666666666,
              "#ed7953"
             ],
             [
              0.7777777777777778,
              "#fb9f3a"
             ],
             [
              0.8888888888888888,
              "#fdca26"
             ],
             [
              1,
              "#f0f921"
             ]
            ],
            "type": "contour"
           }
          ],
          "contourcarpet": [
           {
            "colorbar": {
             "outlinewidth": 0,
             "ticks": ""
            },
            "type": "contourcarpet"
           }
          ],
          "heatmap": [
           {
            "colorbar": {
             "outlinewidth": 0,
             "ticks": ""
            },
            "colorscale": [
             [
              0,
              "#0d0887"
             ],
             [
              0.1111111111111111,
              "#46039f"
             ],
             [
              0.2222222222222222,
              "#7201a8"
             ],
             [
              0.3333333333333333,
              "#9c179e"
             ],
             [
              0.4444444444444444,
              "#bd3786"
             ],
             [
              0.5555555555555556,
              "#d8576b"
             ],
             [
              0.6666666666666666,
              "#ed7953"
             ],
             [
              0.7777777777777778,
              "#fb9f3a"
             ],
             [
              0.8888888888888888,
              "#fdca26"
             ],
             [
              1,
              "#f0f921"
             ]
            ],
            "type": "heatmap"
           }
          ],
          "heatmapgl": [
           {
            "colorbar": {
             "outlinewidth": 0,
             "ticks": ""
            },
            "colorscale": [
             [
              0,
              "#0d0887"
             ],
             [
              0.1111111111111111,
              "#46039f"
             ],
             [
              0.2222222222222222,
              "#7201a8"
             ],
             [
              0.3333333333333333,
              "#9c179e"
             ],
             [
              0.4444444444444444,
              "#bd3786"
             ],
             [
              0.5555555555555556,
              "#d8576b"
             ],
             [
              0.6666666666666666,
              "#ed7953"
             ],
             [
              0.7777777777777778,
              "#fb9f3a"
             ],
             [
              0.8888888888888888,
              "#fdca26"
             ],
             [
              1,
              "#f0f921"
             ]
            ],
            "type": "heatmapgl"
           }
          ],
          "histogram": [
           {
            "marker": {
             "pattern": {
              "fillmode": "overlay",
              "size": 10,
              "solidity": 0.2
             }
            },
            "type": "histogram"
           }
          ],
          "histogram2d": [
           {
            "colorbar": {
             "outlinewidth": 0,
             "ticks": ""
            },
            "colorscale": [
             [
              0,
              "#0d0887"
             ],
             [
              0.1111111111111111,
              "#46039f"
             ],
             [
              0.2222222222222222,
              "#7201a8"
             ],
             [
              0.3333333333333333,
              "#9c179e"
             ],
             [
              0.4444444444444444,
              "#bd3786"
             ],
             [
              0.5555555555555556,
              "#d8576b"
             ],
             [
              0.6666666666666666,
              "#ed7953"
             ],
             [
              0.7777777777777778,
              "#fb9f3a"
             ],
             [
              0.8888888888888888,
              "#fdca26"
             ],
             [
              1,
              "#f0f921"
             ]
            ],
            "type": "histogram2d"
           }
          ],
          "histogram2dcontour": [
           {
            "colorbar": {
             "outlinewidth": 0,
             "ticks": ""
            },
            "colorscale": [
             [
              0,
              "#0d0887"
             ],
             [
              0.1111111111111111,
              "#46039f"
             ],
             [
              0.2222222222222222,
              "#7201a8"
             ],
             [
              0.3333333333333333,
              "#9c179e"
             ],
             [
              0.4444444444444444,
              "#bd3786"
             ],
             [
              0.5555555555555556,
              "#d8576b"
             ],
             [
              0.6666666666666666,
              "#ed7953"
             ],
             [
              0.7777777777777778,
              "#fb9f3a"
             ],
             [
              0.8888888888888888,
              "#fdca26"
             ],
             [
              1,
              "#f0f921"
             ]
            ],
            "type": "histogram2dcontour"
           }
          ],
          "mesh3d": [
           {
            "colorbar": {
             "outlinewidth": 0,
             "ticks": ""
            },
            "type": "mesh3d"
           }
          ],
          "parcoords": [
           {
            "line": {
             "colorbar": {
              "outlinewidth": 0,
              "ticks": ""
             }
            },
            "type": "parcoords"
           }
          ],
          "pie": [
           {
            "automargin": true,
            "type": "pie"
           }
          ],
          "scatter": [
           {
            "marker": {
             "colorbar": {
              "outlinewidth": 0,
              "ticks": ""
             }
            },
            "type": "scatter"
           }
          ],
          "scatter3d": [
           {
            "line": {
             "colorbar": {
              "outlinewidth": 0,
              "ticks": ""
             }
            },
            "marker": {
             "colorbar": {
              "outlinewidth": 0,
              "ticks": ""
             }
            },
            "type": "scatter3d"
           }
          ],
          "scattercarpet": [
           {
            "marker": {
             "colorbar": {
              "outlinewidth": 0,
              "ticks": ""
             }
            },
            "type": "scattercarpet"
           }
          ],
          "scattergeo": [
           {
            "marker": {
             "colorbar": {
              "outlinewidth": 0,
              "ticks": ""
             }
            },
            "type": "scattergeo"
           }
          ],
          "scattergl": [
           {
            "marker": {
             "colorbar": {
              "outlinewidth": 0,
              "ticks": ""
             }
            },
            "type": "scattergl"
           }
          ],
          "scattermapbox": [
           {
            "marker": {
             "colorbar": {
              "outlinewidth": 0,
              "ticks": ""
             }
            },
            "type": "scattermapbox"
           }
          ],
          "scatterpolar": [
           {
            "marker": {
             "colorbar": {
              "outlinewidth": 0,
              "ticks": ""
             }
            },
            "type": "scatterpolar"
           }
          ],
          "scatterpolargl": [
           {
            "marker": {
             "colorbar": {
              "outlinewidth": 0,
              "ticks": ""
             }
            },
            "type": "scatterpolargl"
           }
          ],
          "scatterternary": [
           {
            "marker": {
             "colorbar": {
              "outlinewidth": 0,
              "ticks": ""
             }
            },
            "type": "scatterternary"
           }
          ],
          "surface": [
           {
            "colorbar": {
             "outlinewidth": 0,
             "ticks": ""
            },
            "colorscale": [
             [
              0,
              "#0d0887"
             ],
             [
              0.1111111111111111,
              "#46039f"
             ],
             [
              0.2222222222222222,
              "#7201a8"
             ],
             [
              0.3333333333333333,
              "#9c179e"
             ],
             [
              0.4444444444444444,
              "#bd3786"
             ],
             [
              0.5555555555555556,
              "#d8576b"
             ],
             [
              0.6666666666666666,
              "#ed7953"
             ],
             [
              0.7777777777777778,
              "#fb9f3a"
             ],
             [
              0.8888888888888888,
              "#fdca26"
             ],
             [
              1,
              "#f0f921"
             ]
            ],
            "type": "surface"
           }
          ],
          "table": [
           {
            "cells": {
             "fill": {
              "color": "#EBF0F8"
             },
             "line": {
              "color": "white"
             }
            },
            "header": {
             "fill": {
              "color": "#C8D4E3"
             },
             "line": {
              "color": "white"
             }
            },
            "type": "table"
           }
          ]
         },
         "layout": {
          "annotationdefaults": {
           "arrowcolor": "#2a3f5f",
           "arrowhead": 0,
           "arrowwidth": 1
          },
          "autotypenumbers": "strict",
          "coloraxis": {
           "colorbar": {
            "outlinewidth": 0,
            "ticks": ""
           }
          },
          "colorscale": {
           "diverging": [
            [
             0,
             "#8e0152"
            ],
            [
             0.1,
             "#c51b7d"
            ],
            [
             0.2,
             "#de77ae"
            ],
            [
             0.3,
             "#f1b6da"
            ],
            [
             0.4,
             "#fde0ef"
            ],
            [
             0.5,
             "#f7f7f7"
            ],
            [
             0.6,
             "#e6f5d0"
            ],
            [
             0.7,
             "#b8e186"
            ],
            [
             0.8,
             "#7fbc41"
            ],
            [
             0.9,
             "#4d9221"
            ],
            [
             1,
             "#276419"
            ]
           ],
           "sequential": [
            [
             0,
             "#0d0887"
            ],
            [
             0.1111111111111111,
             "#46039f"
            ],
            [
             0.2222222222222222,
             "#7201a8"
            ],
            [
             0.3333333333333333,
             "#9c179e"
            ],
            [
             0.4444444444444444,
             "#bd3786"
            ],
            [
             0.5555555555555556,
             "#d8576b"
            ],
            [
             0.6666666666666666,
             "#ed7953"
            ],
            [
             0.7777777777777778,
             "#fb9f3a"
            ],
            [
             0.8888888888888888,
             "#fdca26"
            ],
            [
             1,
             "#f0f921"
            ]
           ],
           "sequentialminus": [
            [
             0,
             "#0d0887"
            ],
            [
             0.1111111111111111,
             "#46039f"
            ],
            [
             0.2222222222222222,
             "#7201a8"
            ],
            [
             0.3333333333333333,
             "#9c179e"
            ],
            [
             0.4444444444444444,
             "#bd3786"
            ],
            [
             0.5555555555555556,
             "#d8576b"
            ],
            [
             0.6666666666666666,
             "#ed7953"
            ],
            [
             0.7777777777777778,
             "#fb9f3a"
            ],
            [
             0.8888888888888888,
             "#fdca26"
            ],
            [
             1,
             "#f0f921"
            ]
           ]
          },
          "colorway": [
           "#636efa",
           "#EF553B",
           "#00cc96",
           "#ab63fa",
           "#FFA15A",
           "#19d3f3",
           "#FF6692",
           "#B6E880",
           "#FF97FF",
           "#FECB52"
          ],
          "font": {
           "color": "#2a3f5f"
          },
          "geo": {
           "bgcolor": "white",
           "lakecolor": "white",
           "landcolor": "#E5ECF6",
           "showlakes": true,
           "showland": true,
           "subunitcolor": "white"
          },
          "hoverlabel": {
           "align": "left"
          },
          "hovermode": "closest",
          "mapbox": {
           "style": "light"
          },
          "paper_bgcolor": "white",
          "plot_bgcolor": "#E5ECF6",
          "polar": {
           "angularaxis": {
            "gridcolor": "white",
            "linecolor": "white",
            "ticks": ""
           },
           "bgcolor": "#E5ECF6",
           "radialaxis": {
            "gridcolor": "white",
            "linecolor": "white",
            "ticks": ""
           }
          },
          "scene": {
           "xaxis": {
            "backgroundcolor": "#E5ECF6",
            "gridcolor": "white",
            "gridwidth": 2,
            "linecolor": "white",
            "showbackground": true,
            "ticks": "",
            "zerolinecolor": "white"
           },
           "yaxis": {
            "backgroundcolor": "#E5ECF6",
            "gridcolor": "white",
            "gridwidth": 2,
            "linecolor": "white",
            "showbackground": true,
            "ticks": "",
            "zerolinecolor": "white"
           },
           "zaxis": {
            "backgroundcolor": "#E5ECF6",
            "gridcolor": "white",
            "gridwidth": 2,
            "linecolor": "white",
            "showbackground": true,
            "ticks": "",
            "zerolinecolor": "white"
           }
          },
          "shapedefaults": {
           "line": {
            "color": "#2a3f5f"
           }
          },
          "ternary": {
           "aaxis": {
            "gridcolor": "white",
            "linecolor": "white",
            "ticks": ""
           },
           "baxis": {
            "gridcolor": "white",
            "linecolor": "white",
            "ticks": ""
           },
           "bgcolor": "#E5ECF6",
           "caxis": {
            "gridcolor": "white",
            "linecolor": "white",
            "ticks": ""
           }
          },
          "title": {
           "x": 0.05
          },
          "xaxis": {
           "automargin": true,
           "gridcolor": "white",
           "linecolor": "white",
           "ticks": "",
           "title": {
            "standoff": 15
           },
           "zerolinecolor": "white",
           "zerolinewidth": 2
          },
          "yaxis": {
           "automargin": true,
           "gridcolor": "white",
           "linecolor": "white",
           "ticks": "",
           "title": {
            "standoff": 15
           },
           "zerolinecolor": "white",
           "zerolinewidth": 2
          }
         }
        },
        "xaxis": {
         "anchor": "y",
         "domain": [
          0,
          1
         ],
         "title": {
          "text": "Nome do Aluno"
         }
        },
        "yaxis": {
         "anchor": "x",
         "domain": [
          0,
          1
         ],
         "title": {
          "text": "Média Total"
         }
        }
       }
      },
      "text/html": [
       "<div>                            <div id=\"a06592cf-c91f-40dd-82fa-9237e0bee556\" class=\"plotly-graph-div\" style=\"height:525px; width:100%;\"></div>            <script type=\"text/javascript\">                require([\"plotly\"], function(Plotly) {                    window.PLOTLYENV=window.PLOTLYENV || {};                                    if (document.getElementById(\"a06592cf-c91f-40dd-82fa-9237e0bee556\")) {                    Plotly.newPlot(                        \"a06592cf-c91f-40dd-82fa-9237e0bee556\",                        [{\"hovertemplate\":\"Tipo de Relacionamento=Bolsista<br>Nome do Aluno=%{x}<br>M\\u00e9dia Total=%{y}<extra></extra>\",\"legendgroup\":\"Bolsista\",\"marker\":{\"color\":\"#636efa\",\"symbol\":\"circle\"},\"mode\":\"markers\",\"name\":\"Bolsista\",\"orientation\":\"v\",\"showlegend\":true,\"x\":[\"aluno 239\",\"aluno 296\",\"aluno 156\",\"aluno 322\",\"aluno 187\",\"aluno 210\",\"aluno 12\",\"aluno 228\",\"aluno 35\",\"aluno 192\",\"aluno 272\",\"aluno 19\",\"aluno 188\",\"aluno 167\",\"aluno 108\",\"aluno 334\",\"aluno 171\",\"aluno 302\",\"aluno 425\",\"aluno 182\",\"aluno 344\",\"aluno 288\",\"aluno 120\",\"aluno 381\",\"aluno 356\",\"aluno 487\",\"aluno 437\",\"aluno 141\",\"aluno 439\",\"aluno 223\",\"aluno 37\",\"aluno 130\",\"aluno 93\",\"aluno 254\",\"aluno 168\",\"aluno 402\",\"aluno 426\",\"aluno 500\"],\"xaxis\":\"x\",\"y\":[57.166666666666664,51.166666666666664,49.5,49.0,36.333333333333336,57.166666666666664,46.833333333333336,45.666666666666664,44.666666666666664,40.333333333333336,33.666666666666664,57.0,32.0,48.666666666666664,39.5,44.666666666666664,63.0,54.833333333333336,53.0,50.666666666666664,50.666666666666664,51.666666666666664,41.833333333333336,57.5,52.833333333333336,48.166666666666664,54.5,41.0,49.666666666666664,55.666666666666664,53.166666666666664,67.5,52.5,61.0,51.166666666666664,47.666666666666664,47.333333333333336,45.333333333333336],\"yaxis\":\"y\",\"type\":\"scatter\"},{\"hovertemplate\":\"Tipo de Relacionamento=B2B<br>Nome do Aluno=%{x}<br>M\\u00e9dia Total=%{y}<extra></extra>\",\"legendgroup\":\"B2B\",\"marker\":{\"color\":\"#EF553B\",\"symbol\":\"circle\"},\"mode\":\"markers\",\"name\":\"B2B\",\"orientation\":\"v\",\"showlegend\":true,\"x\":[\"aluno 255\",\"aluno 111\",\"aluno 38\",\"aluno 27\",\"aluno 420\",\"aluno 14\",\"aluno 453\",\"aluno 285\",\"aluno 292\",\"aluno 15\",\"aluno 309\",\"aluno 265\",\"aluno 68\",\"aluno 360\",\"aluno 474\",\"aluno 376\",\"aluno 213\",\"aluno 118\",\"aluno 335\",\"aluno 51\",\"aluno 131\",\"aluno 484\",\"aluno 246\",\"aluno 101\",\"aluno 419\",\"aluno 25\",\"aluno 202\",\"aluno 230\",\"aluno 386\",\"aluno 229\",\"aluno 469\",\"aluno 140\",\"aluno 123\",\"aluno 238\",\"aluno 86\",\"aluno 459\",\"aluno 174\",\"aluno 110\",\"aluno 9\",\"aluno 22\",\"aluno 270\",\"aluno 423\",\"aluno 241\",\"aluno 286\",\"aluno 261\",\"aluno 26\",\"aluno 388\",\"aluno 485\",\"aluno 50\",\"aluno 373\",\"aluno 236\",\"aluno 468\",\"aluno 162\",\"aluno 16\",\"aluno 298\",\"aluno 44\",\"aluno 78\",\"aluno 209\",\"aluno 493\",\"aluno 363\",\"aluno 397\",\"aluno 54\",\"aluno 21\",\"aluno 480\",\"aluno 165\",\"aluno 143\",\"aluno 97\",\"aluno 8\",\"aluno 395\",\"aluno 411\",\"aluno 105\",\"aluno 448\",\"aluno 377\",\"aluno 173\",\"aluno 206\",\"aluno 119\",\"aluno 359\",\"aluno 264\",\"aluno 486\",\"aluno 392\",\"aluno 13\",\"aluno 148\",\"aluno 378\",\"aluno 161\",\"aluno 94\",\"aluno 253\",\"aluno 56\",\"aluno 116\",\"aluno 55\",\"aluno 220\",\"aluno 479\",\"aluno 104\",\"aluno 149\",\"aluno 45\",\"aluno 64\",\"aluno 466\",\"aluno 24\",\"aluno 154\",\"aluno 127\",\"aluno 135\",\"aluno 125\",\"aluno 481\",\"aluno 447\",\"aluno 367\",\"aluno 32\",\"aluno 5\",\"aluno 498\",\"aluno 393\",\"aluno 59\",\"aluno 427\",\"aluno 416\",\"aluno 126\",\"aluno 429\",\"aluno 36\",\"aluno 489\",\"aluno 155\",\"aluno 438\",\"aluno 271\",\"aluno 95\",\"aluno 33\",\"aluno 200\",\"aluno 404\",\"aluno 262\",\"aluno 11\",\"aluno 345\",\"aluno 464\",\"aluno 69\",\"aluno 53\",\"aluno 455\",\"aluno 3\",\"aluno 1\",\"aluno 258\",\"aluno 217\",\"aluno 449\",\"aluno 107\",\"aluno 269\",\"aluno 452\",\"aluno 183\",\"aluno 103\",\"aluno 408\",\"aluno 434\",\"aluno 234\",\"aluno 268\",\"aluno 47\",\"aluno 260\",\"aluno 157\",\"aluno 470\",\"aluno 129\",\"aluno 67\",\"aluno 310\",\"aluno 346\",\"aluno 235\",\"aluno 318\",\"aluno 10\",\"aluno 113\",\"aluno 151\",\"aluno 195\",\"aluno 242\",\"aluno 20\",\"aluno 159\",\"aluno 6\",\"aluno 158\",\"aluno 99\",\"aluno 304\",\"aluno 175\",\"aluno 396\",\"aluno 219\",\"aluno 306\",\"aluno 122\",\"aluno 176\",\"aluno 342\",\"aluno 191\",\"aluno 221\",\"aluno 473\",\"aluno 440\",\"aluno 436\",\"aluno 40\",\"aluno 244\",\"aluno 65\",\"aluno 467\",\"aluno 85\",\"aluno 492\",\"aluno 385\",\"aluno 293\",\"aluno 263\",\"aluno 197\",\"aluno 441\",\"aluno 106\",\"aluno 7\",\"aluno 252\",\"aluno 256\",\"aluno 471\",\"aluno 4\",\"aluno 100\",\"aluno 337\",\"aluno 476\",\"aluno 275\",\"aluno 401\",\"aluno 117\",\"aluno 307\",\"aluno 139\",\"aluno 320\",\"aluno 226\",\"aluno 303\",\"aluno 494\",\"aluno 463\",\"aluno 379\",\"aluno 348\",\"aluno 371\",\"aluno 290\",\"aluno 284\",\"aluno 352\",\"aluno 361\",\"aluno 391\",\"aluno 193\",\"aluno 177\",\"aluno 245\",\"aluno 163\",\"aluno 313\",\"aluno 208\",\"aluno 400\",\"aluno 499\",\"aluno 172\",\"aluno 52\",\"aluno 315\",\"aluno 102\",\"aluno 372\",\"aluno 428\",\"aluno 281\",\"aluno 124\",\"aluno 144\",\"aluno 41\",\"aluno 384\",\"aluno 483\",\"aluno 406\",\"aluno 60\",\"aluno 478\",\"aluno 274\",\"aluno 283\",\"aluno 136\",\"aluno 336\",\"aluno 350\",\"aluno 112\",\"aluno 323\",\"aluno 312\",\"aluno 495\",\"aluno 142\",\"aluno 48\",\"aluno 456\",\"aluno 454\",\"aluno 57\",\"aluno 166\",\"aluno 46\",\"aluno 257\",\"aluno 29\",\"aluno 153\",\"aluno 92\",\"aluno 324\",\"aluno 152\",\"aluno 77\",\"aluno 170\",\"aluno 17\",\"aluno 39\",\"aluno 418\",\"aluno 496\",\"aluno 49\",\"aluno 198\",\"aluno 488\",\"aluno 231\",\"aluno 147\",\"aluno 465\",\"aluno 160\",\"aluno 462\",\"aluno 289\",\"aluno 424\",\"aluno 190\",\"aluno 30\",\"aluno 399\",\"aluno 432\",\"aluno 276\",\"aluno 477\",\"aluno 196\",\"aluno 247\",\"aluno 28\",\"aluno 314\",\"aluno 237\",\"aluno 248\",\"aluno 132\",\"aluno 278\",\"aluno 98\",\"aluno 184\"],\"xaxis\":\"x\",\"y\":[39.666666666666664,54.666666666666664,52.333333333333336,48.666666666666664,46.333333333333336,43.333333333333336,54.666666666666664,70.16666666666667,44.5,58.5,37.0,51.5,53.666666666666664,42.0,45.5,46.333333333333336,43.166666666666664,50.666666666666664,49.833333333333336,54.0,49.5,53.0,59.0,39.833333333333336,57.333333333333336,46.833333333333336,29.333333333333332,54.0,63.5,58.5,51.333333333333336,52.5,62.166666666666664,48.833333333333336,40.166666666666664,46.333333333333336,41.166666666666664,58.666666666666664,46.833333333333336,47.166666666666664,37.5,47.666666666666664,56.333333333333336,47.166666666666664,62.0,56.666666666666664,58.833333333333336,47.333333333333336,67.83333333333333,43.833333333333336,37.833333333333336,49.666666666666664,32.833333333333336,46.5,47.333333333333336,37.166666666666664,49.833333333333336,42.5,58.333333333333336,39.833333333333336,51.5,52.333333333333336,55.5,43.833333333333336,57.5,69.66666666666667,50.5,32.833333333333336,43.666666666666664,53.166666666666664,50.166666666666664,48.666666666666664,60.166666666666664,45.666666666666664,51.833333333333336,43.666666666666664,36.833333333333336,64.83333333333333,48.166666666666664,56.333333333333336,52.0,56.0,46.666666666666664,55.0,42.333333333333336,54.5,46.333333333333336,54.333333333333336,53.333333333333336,60.0,48.833333333333336,60.666666666666664,48.333333333333336,55.833333333333336,58.5,45.0,60.166666666666664,65.66666666666667,39.5,40.166666666666664,53.166666666666664,39.666666666666664,47.5,64.83333333333333,50.833333333333336,69.83333333333333,48.166666666666664,62.833333333333336,48.5,47.5,35.5,37.166666666666664,45.5,55.5,43.666666666666664,57.166666666666664,56.5,51.5,51.333333333333336,60.666666666666664,50.333333333333336,58.166666666666664,56.166666666666664,56.5,53.166666666666664,57.0,30.333333333333332,55.5,33.666666666666664,58.666666666666664,57.333333333333336,45.333333333333336,46.333333333333336,45.166666666666664,45.666666666666664,49.333333333333336,59.333333333333336,49.0,56.5,37.833333333333336,49.166666666666664,75.16666666666667,52.833333333333336,59.333333333333336,41.166666666666664,39.333333333333336,55.166666666666664,42.833333333333336,52.166666666666664,51.666666666666664,42.666666666666664,57.0,58.666666666666664,56.166666666666664,48.333333333333336,35.333333333333336,63.0,67.0,51.5,69.66666666666667,46.666666666666664,46.166666666666664,38.5,43.333333333333336,48.833333333333336,46.166666666666664,42.5,40.333333333333336,52.333333333333336,59.0,47.0,55.833333333333336,57.333333333333336,49.666666666666664,43.5,54.166666666666664,39.833333333333336,47.333333333333336,57.833333333333336,62.666666666666664,42.166666666666664,41.5,51.333333333333336,47.666666666666664,54.833333333333336,52.5,50.333333333333336,45.333333333333336,49.166666666666664,60.166666666666664,47.666666666666664,56.0,62.166666666666664,59.5,65.0,56.0,48.333333333333336,51.5,55.5,49.5,39.833333333333336,51.666666666666664,47.833333333333336,43.166666666666664,42.0,38.333333333333336,38.333333333333336,46.666666666666664,61.0,59.5,34.5,45.333333333333336,41.666666666666664,46.833333333333336,62.5,47.5,52.0,43.333333333333336,63.0,58.333333333333336,50.0,48.833333333333336,48.666666666666664,72.16666666666667,49.5,52.0,55.333333333333336,52.166666666666664,59.333333333333336,54.333333333333336,52.666666666666664,45.166666666666664,46.666666666666664,40.666666666666664,50.666666666666664,50.5,49.166666666666664,58.166666666666664,41.0,48.333333333333336,64.33333333333333,46.5,60.833333333333336,48.5,61.666666666666664,48.0,51.166666666666664,51.833333333333336,44.0,49.833333333333336,45.833333333333336,62.333333333333336,51.333333333333336,60.0,42.666666666666664,54.0,41.666666666666664,47.666666666666664,45.666666666666664,47.5,67.66666666666667,47.833333333333336,38.5,29.0,46.833333333333336,68.33333333333333,59.5,38.166666666666664,44.333333333333336,51.666666666666664,38.333333333333336,34.166666666666664,50.666666666666664,58.333333333333336,63.833333333333336,45.5,63.5,48.166666666666664,52.166666666666664,45.0,55.5,53.833333333333336,54.5,45.0,58.5,54.666666666666664,51.166666666666664,51.166666666666664,39.0,40.333333333333336,49.166666666666664],\"yaxis\":\"y\",\"type\":\"scatter\"},{\"hovertemplate\":\"Tipo de Relacionamento=Alipass<br>Nome do Aluno=%{x}<br>M\\u00e9dia Total=%{y}<extra></extra>\",\"legendgroup\":\"Alipass\",\"marker\":{\"color\":\"#00cc96\",\"symbol\":\"circle\"},\"mode\":\"markers\",\"name\":\"Alipass\",\"orientation\":\"v\",\"showlegend\":true,\"x\":[\"aluno 232\",\"aluno 394\",\"aluno 181\",\"aluno 491\",\"aluno 413\"],\"xaxis\":\"x\",\"y\":[40.166666666666664,49.333333333333336,42.666666666666664,51.666666666666664,57.166666666666664],\"yaxis\":\"y\",\"type\":\"scatter\"},{\"hovertemplate\":\"Tipo de Relacionamento=Gratuidade<br>Nome do Aluno=%{x}<br>M\\u00e9dia Total=%{y}<extra></extra>\",\"legendgroup\":\"Gratuidade\",\"marker\":{\"color\":\"#ab63fa\",\"symbol\":\"circle\"},\"mode\":\"markers\",\"name\":\"Gratuidade\",\"orientation\":\"v\",\"showlegend\":true,\"x\":[\"aluno 62\"],\"xaxis\":\"x\",\"y\":[37.166666666666664],\"yaxis\":\"y\",\"type\":\"scatter\"},{\"hovertemplate\":\"Tipo de Relacionamento=B2C<br>Nome do Aluno=%{x}<br>M\\u00e9dia Total=%{y}<extra></extra>\",\"legendgroup\":\"B2C\",\"marker\":{\"color\":\"#FFA15A\",\"symbol\":\"circle\"},\"mode\":\"markers\",\"name\":\"B2C\",\"orientation\":\"v\",\"showlegend\":true,\"x\":[\"aluno 133\",\"aluno 328\",\"aluno 150\",\"aluno 317\",\"aluno 70\"],\"xaxis\":\"x\",\"y\":[57.0,58.0,49.833333333333336,50.166666666666664,45.833333333333336],\"yaxis\":\"y\",\"type\":\"scatter\"}],                        {\"template\":{\"data\":{\"bar\":[{\"error_x\":{\"color\":\"#2a3f5f\"},\"error_y\":{\"color\":\"#2a3f5f\"},\"marker\":{\"line\":{\"color\":\"#E5ECF6\",\"width\":0.5},\"pattern\":{\"fillmode\":\"overlay\",\"size\":10,\"solidity\":0.2}},\"type\":\"bar\"}],\"barpolar\":[{\"marker\":{\"line\":{\"color\":\"#E5ECF6\",\"width\":0.5},\"pattern\":{\"fillmode\":\"overlay\",\"size\":10,\"solidity\":0.2}},\"type\":\"barpolar\"}],\"carpet\":[{\"aaxis\":{\"endlinecolor\":\"#2a3f5f\",\"gridcolor\":\"white\",\"linecolor\":\"white\",\"minorgridcolor\":\"white\",\"startlinecolor\":\"#2a3f5f\"},\"baxis\":{\"endlinecolor\":\"#2a3f5f\",\"gridcolor\":\"white\",\"linecolor\":\"white\",\"minorgridcolor\":\"white\",\"startlinecolor\":\"#2a3f5f\"},\"type\":\"carpet\"}],\"choropleth\":[{\"colorbar\":{\"outlinewidth\":0,\"ticks\":\"\"},\"type\":\"choropleth\"}],\"contour\":[{\"colorbar\":{\"outlinewidth\":0,\"ticks\":\"\"},\"colorscale\":[[0.0,\"#0d0887\"],[0.1111111111111111,\"#46039f\"],[0.2222222222222222,\"#7201a8\"],[0.3333333333333333,\"#9c179e\"],[0.4444444444444444,\"#bd3786\"],[0.5555555555555556,\"#d8576b\"],[0.6666666666666666,\"#ed7953\"],[0.7777777777777778,\"#fb9f3a\"],[0.8888888888888888,\"#fdca26\"],[1.0,\"#f0f921\"]],\"type\":\"contour\"}],\"contourcarpet\":[{\"colorbar\":{\"outlinewidth\":0,\"ticks\":\"\"},\"type\":\"contourcarpet\"}],\"heatmap\":[{\"colorbar\":{\"outlinewidth\":0,\"ticks\":\"\"},\"colorscale\":[[0.0,\"#0d0887\"],[0.1111111111111111,\"#46039f\"],[0.2222222222222222,\"#7201a8\"],[0.3333333333333333,\"#9c179e\"],[0.4444444444444444,\"#bd3786\"],[0.5555555555555556,\"#d8576b\"],[0.6666666666666666,\"#ed7953\"],[0.7777777777777778,\"#fb9f3a\"],[0.8888888888888888,\"#fdca26\"],[1.0,\"#f0f921\"]],\"type\":\"heatmap\"}],\"heatmapgl\":[{\"colorbar\":{\"outlinewidth\":0,\"ticks\":\"\"},\"colorscale\":[[0.0,\"#0d0887\"],[0.1111111111111111,\"#46039f\"],[0.2222222222222222,\"#7201a8\"],[0.3333333333333333,\"#9c179e\"],[0.4444444444444444,\"#bd3786\"],[0.5555555555555556,\"#d8576b\"],[0.6666666666666666,\"#ed7953\"],[0.7777777777777778,\"#fb9f3a\"],[0.8888888888888888,\"#fdca26\"],[1.0,\"#f0f921\"]],\"type\":\"heatmapgl\"}],\"histogram\":[{\"marker\":{\"pattern\":{\"fillmode\":\"overlay\",\"size\":10,\"solidity\":0.2}},\"type\":\"histogram\"}],\"histogram2d\":[{\"colorbar\":{\"outlinewidth\":0,\"ticks\":\"\"},\"colorscale\":[[0.0,\"#0d0887\"],[0.1111111111111111,\"#46039f\"],[0.2222222222222222,\"#7201a8\"],[0.3333333333333333,\"#9c179e\"],[0.4444444444444444,\"#bd3786\"],[0.5555555555555556,\"#d8576b\"],[0.6666666666666666,\"#ed7953\"],[0.7777777777777778,\"#fb9f3a\"],[0.8888888888888888,\"#fdca26\"],[1.0,\"#f0f921\"]],\"type\":\"histogram2d\"}],\"histogram2dcontour\":[{\"colorbar\":{\"outlinewidth\":0,\"ticks\":\"\"},\"colorscale\":[[0.0,\"#0d0887\"],[0.1111111111111111,\"#46039f\"],[0.2222222222222222,\"#7201a8\"],[0.3333333333333333,\"#9c179e\"],[0.4444444444444444,\"#bd3786\"],[0.5555555555555556,\"#d8576b\"],[0.6666666666666666,\"#ed7953\"],[0.7777777777777778,\"#fb9f3a\"],[0.8888888888888888,\"#fdca26\"],[1.0,\"#f0f921\"]],\"type\":\"histogram2dcontour\"}],\"mesh3d\":[{\"colorbar\":{\"outlinewidth\":0,\"ticks\":\"\"},\"type\":\"mesh3d\"}],\"parcoords\":[{\"line\":{\"colorbar\":{\"outlinewidth\":0,\"ticks\":\"\"}},\"type\":\"parcoords\"}],\"pie\":[{\"automargin\":true,\"type\":\"pie\"}],\"scatter\":[{\"marker\":{\"colorbar\":{\"outlinewidth\":0,\"ticks\":\"\"}},\"type\":\"scatter\"}],\"scatter3d\":[{\"line\":{\"colorbar\":{\"outlinewidth\":0,\"ticks\":\"\"}},\"marker\":{\"colorbar\":{\"outlinewidth\":0,\"ticks\":\"\"}},\"type\":\"scatter3d\"}],\"scattercarpet\":[{\"marker\":{\"colorbar\":{\"outlinewidth\":0,\"ticks\":\"\"}},\"type\":\"scattercarpet\"}],\"scattergeo\":[{\"marker\":{\"colorbar\":{\"outlinewidth\":0,\"ticks\":\"\"}},\"type\":\"scattergeo\"}],\"scattergl\":[{\"marker\":{\"colorbar\":{\"outlinewidth\":0,\"ticks\":\"\"}},\"type\":\"scattergl\"}],\"scattermapbox\":[{\"marker\":{\"colorbar\":{\"outlinewidth\":0,\"ticks\":\"\"}},\"type\":\"scattermapbox\"}],\"scatterpolar\":[{\"marker\":{\"colorbar\":{\"outlinewidth\":0,\"ticks\":\"\"}},\"type\":\"scatterpolar\"}],\"scatterpolargl\":[{\"marker\":{\"colorbar\":{\"outlinewidth\":0,\"ticks\":\"\"}},\"type\":\"scatterpolargl\"}],\"scatterternary\":[{\"marker\":{\"colorbar\":{\"outlinewidth\":0,\"ticks\":\"\"}},\"type\":\"scatterternary\"}],\"surface\":[{\"colorbar\":{\"outlinewidth\":0,\"ticks\":\"\"},\"colorscale\":[[0.0,\"#0d0887\"],[0.1111111111111111,\"#46039f\"],[0.2222222222222222,\"#7201a8\"],[0.3333333333333333,\"#9c179e\"],[0.4444444444444444,\"#bd3786\"],[0.5555555555555556,\"#d8576b\"],[0.6666666666666666,\"#ed7953\"],[0.7777777777777778,\"#fb9f3a\"],[0.8888888888888888,\"#fdca26\"],[1.0,\"#f0f921\"]],\"type\":\"surface\"}],\"table\":[{\"cells\":{\"fill\":{\"color\":\"#EBF0F8\"},\"line\":{\"color\":\"white\"}},\"header\":{\"fill\":{\"color\":\"#C8D4E3\"},\"line\":{\"color\":\"white\"}},\"type\":\"table\"}]},\"layout\":{\"annotationdefaults\":{\"arrowcolor\":\"#2a3f5f\",\"arrowhead\":0,\"arrowwidth\":1},\"autotypenumbers\":\"strict\",\"coloraxis\":{\"colorbar\":{\"outlinewidth\":0,\"ticks\":\"\"}},\"colorscale\":{\"diverging\":[[0,\"#8e0152\"],[0.1,\"#c51b7d\"],[0.2,\"#de77ae\"],[0.3,\"#f1b6da\"],[0.4,\"#fde0ef\"],[0.5,\"#f7f7f7\"],[0.6,\"#e6f5d0\"],[0.7,\"#b8e186\"],[0.8,\"#7fbc41\"],[0.9,\"#4d9221\"],[1,\"#276419\"]],\"sequential\":[[0.0,\"#0d0887\"],[0.1111111111111111,\"#46039f\"],[0.2222222222222222,\"#7201a8\"],[0.3333333333333333,\"#9c179e\"],[0.4444444444444444,\"#bd3786\"],[0.5555555555555556,\"#d8576b\"],[0.6666666666666666,\"#ed7953\"],[0.7777777777777778,\"#fb9f3a\"],[0.8888888888888888,\"#fdca26\"],[1.0,\"#f0f921\"]],\"sequentialminus\":[[0.0,\"#0d0887\"],[0.1111111111111111,\"#46039f\"],[0.2222222222222222,\"#7201a8\"],[0.3333333333333333,\"#9c179e\"],[0.4444444444444444,\"#bd3786\"],[0.5555555555555556,\"#d8576b\"],[0.6666666666666666,\"#ed7953\"],[0.7777777777777778,\"#fb9f3a\"],[0.8888888888888888,\"#fdca26\"],[1.0,\"#f0f921\"]]},\"colorway\":[\"#636efa\",\"#EF553B\",\"#00cc96\",\"#ab63fa\",\"#FFA15A\",\"#19d3f3\",\"#FF6692\",\"#B6E880\",\"#FF97FF\",\"#FECB52\"],\"font\":{\"color\":\"#2a3f5f\"},\"geo\":{\"bgcolor\":\"white\",\"lakecolor\":\"white\",\"landcolor\":\"#E5ECF6\",\"showlakes\":true,\"showland\":true,\"subunitcolor\":\"white\"},\"hoverlabel\":{\"align\":\"left\"},\"hovermode\":\"closest\",\"mapbox\":{\"style\":\"light\"},\"paper_bgcolor\":\"white\",\"plot_bgcolor\":\"#E5ECF6\",\"polar\":{\"angularaxis\":{\"gridcolor\":\"white\",\"linecolor\":\"white\",\"ticks\":\"\"},\"bgcolor\":\"#E5ECF6\",\"radialaxis\":{\"gridcolor\":\"white\",\"linecolor\":\"white\",\"ticks\":\"\"}},\"scene\":{\"xaxis\":{\"backgroundcolor\":\"#E5ECF6\",\"gridcolor\":\"white\",\"gridwidth\":2,\"linecolor\":\"white\",\"showbackground\":true,\"ticks\":\"\",\"zerolinecolor\":\"white\"},\"yaxis\":{\"backgroundcolor\":\"#E5ECF6\",\"gridcolor\":\"white\",\"gridwidth\":2,\"linecolor\":\"white\",\"showbackground\":true,\"ticks\":\"\",\"zerolinecolor\":\"white\"},\"zaxis\":{\"backgroundcolor\":\"#E5ECF6\",\"gridcolor\":\"white\",\"gridwidth\":2,\"linecolor\":\"white\",\"showbackground\":true,\"ticks\":\"\",\"zerolinecolor\":\"white\"}},\"shapedefaults\":{\"line\":{\"color\":\"#2a3f5f\"}},\"ternary\":{\"aaxis\":{\"gridcolor\":\"white\",\"linecolor\":\"white\",\"ticks\":\"\"},\"baxis\":{\"gridcolor\":\"white\",\"linecolor\":\"white\",\"ticks\":\"\"},\"bgcolor\":\"#E5ECF6\",\"caxis\":{\"gridcolor\":\"white\",\"linecolor\":\"white\",\"ticks\":\"\"}},\"title\":{\"x\":0.05},\"xaxis\":{\"automargin\":true,\"gridcolor\":\"white\",\"linecolor\":\"white\",\"ticks\":\"\",\"title\":{\"standoff\":15},\"zerolinecolor\":\"white\",\"zerolinewidth\":2},\"yaxis\":{\"automargin\":true,\"gridcolor\":\"white\",\"linecolor\":\"white\",\"ticks\":\"\",\"title\":{\"standoff\":15},\"zerolinecolor\":\"white\",\"zerolinewidth\":2}}},\"xaxis\":{\"anchor\":\"y\",\"domain\":[0.0,1.0],\"title\":{\"text\":\"Nome do Aluno\"}},\"yaxis\":{\"anchor\":\"x\",\"domain\":[0.0,1.0],\"title\":{\"text\":\"M\\u00e9dia Total\"}},\"legend\":{\"title\":{\"text\":\"Tipo de Relacionamento\"},\"tracegroupgap\":0},\"margin\":{\"t\":60},\"shapes\":[{\"type\":\"line\",\"x0\":0,\"x1\":1,\"xref\":\"x domain\",\"y0\":50.36127450980392,\"y1\":50.36127450980392,\"yref\":\"y\"}]},                        {\"responsive\": true}                    ).then(function(){\n",
       "                            \n",
       "var gd = document.getElementById('a06592cf-c91f-40dd-82fa-9237e0bee556');\n",
       "var x = new MutationObserver(function (mutations, observer) {{\n",
       "        var display = window.getComputedStyle(gd).display;\n",
       "        if (!display || display === 'none') {{\n",
       "            console.log([gd, 'removed!']);\n",
       "            Plotly.purge(gd);\n",
       "            observer.disconnect();\n",
       "        }}\n",
       "}});\n",
       "\n",
       "// Listen for the removal of the full notebook cells\n",
       "var notebookContainer = gd.closest('#notebook-container');\n",
       "if (notebookContainer) {{\n",
       "    x.observe(notebookContainer, {childList: true});\n",
       "}}\n",
       "\n",
       "// Listen for the clearing of the current output cell\n",
       "var outputEl = gd.closest('.output');\n",
       "if (outputEl) {{\n",
       "    x.observe(outputEl, {childList: true});\n",
       "}}\n",
       "\n",
       "                        })                };                });            </script>        </div>"
      ]
     },
     "metadata": {},
     "output_type": "display_data"
    }
   ],
   "source": [
    "grafico_2 = px.scatter(\n",
    "            data_frame=df,\n",
    "            x = 'Nome do Aluno', \n",
    "            y = 'Média Total',\n",
    "            color='Tipo de Relacionamento')\n",
    "grafico_2.add_hline(y=df['Média Total'].mean())\n",
    "\n",
    "grafico_2.show()"
   ]
  },
  {
   "cell_type": "markdown",
   "id": "e9ae030a",
   "metadata": {},
   "source": [
    "## App"
   ]
  },
  {
   "cell_type": "code",
   "execution_count": 101,
   "id": "54cc807d",
   "metadata": {},
   "outputs": [],
   "source": [
    "external_stylesheets = [\"https://codepen.io/somewhat-random-code/pen/QWdrZGQ.css\"]\n",
    "\n",
    "app = JupyterDash(__name__,external_stylesheets=external_stylesheets) "
   ]
  },
  {
   "cell_type": "code",
   "execution_count": 108,
   "id": "da7ea288",
   "metadata": {},
   "outputs": [],
   "source": [
    "app.layout = html.Div([\n",
    "    html.H4('Filtro de nação:'),\n",
    "    dcc.Dropdown(\n",
    "        id=\"dropdown\",\n",
    "        options=['Sem filtro','NA-CJ', 'NA-Adulto'],\n",
    "        value='Sem filtro',\n",
    "        clearable=False\n",
    "    ),\n",
    "    dcc.Graph(id=\"graph\"),\n",
    "    \n",
    "    html.Br(),\n",
    "    \n",
    "    html.H4('Filtro de tribo:'),\n",
    "    dcc.Dropdown(\n",
    "        id=\"dropdown_tribo\",\n",
    "        options=['Sem filtro','TRI-B', 'TRI-F', 'TRI-A', 'TRI-H', 'TRI-C', 'TRI-MA', 'TRI-D'],\n",
    "        value='Sem filtro',\n",
    "        clearable=False\n",
    "    ),\n",
    "    dcc.Graph(id=\"graph_tribo\"),\n",
    "    \n",
    "    html.Br(),\n",
    "    \n",
    "    html.H4('Filtro de coletivo:'),\n",
    "    dcc.Dropdown(\n",
    "        id=\"dropdown_coletivo\",\n",
    "        options=['Sem filtro','COL-B01', 'COL-F01', 'COL-F02', 'COL-A03', 'COL-B02', 'COL-H01','COL-A02',\n",
    "                 'COL-C04', 'COL-EM-01', 'COL-C02', 'COL-B03', 'COL-D02','COL-F03', 'COL-A01', 'COL-C01', \n",
    "                 'COL-D01', 'COL-MA-01', 'COL-D03','COL-MA-02', 'COL-C05', 'COL-C03', 'COL-MA-03', 'COL-MA-04'],\n",
    "        value='Sem filtro',\n",
    "        clearable=False\n",
    "    ),\n",
    "    dcc.Graph(id=\"graph_coletivo\"),\n",
    "    \n",
    "    html.Br(),\n",
    "    \n",
    "    html.H4('Filtro de Turma:'),\n",
    "    dcc.Dropdown(\n",
    "        id=\"dropdown_turma\",\n",
    "        options=['Sem filtro','CO-1867', 'CO-1903', 'CO-1912', 'CO-2337', 'CO-1886', 'CO-1887',\n",
    "                   'CO-2338', 'CO-1904', 'CO-1910', 'CO-1882', 'CO-1909', 'CO-1900',\n",
    "                   'CO-1800', 'CO-1673', 'CO-1835', 'CO-1775', 'CO-1768', 'CO-1755',\n",
    "                   'CO-1778', 'CO-1753', 'CO-1873', 'CO-1730', 'CO-1735', 'CO-2284',\n",
    "                   'CO-1791', 'CO-1788', 'CO-1777', 'CO-1764', 'CO-1856', 'CO-1918',\n",
    "                   'CO-1676', 'CO-1762', 'CO-1741', 'CO-1760', 'CO-1906', 'CO-1776',\n",
    "                   'CO-1888', 'CO-2131', 'CO-1897', 'CO-1761', 'CO-1899', 'CO-1902',\n",
    "                   'CO-1724', 'CO-1834', 'CO-1797', 'CO-1794', 'CO-1795', 'CO-1796',\n",
    "                   'CO-1715', 'CO-1830', 'CO-1924', 'CO-1703', 'CO-1866', 'CO-1720',\n",
    "                   'CO-1926', 'CO-1901', 'CO-1729', 'CO-1731', 'CO-2099', 'CO-1681',\n",
    "                   'CO-1739', 'CO-1770', 'CO-1874', 'CO-1875', 'CO-1684', 'CO-1742',\n",
    "                   'CO-2103', 'CO-1876', 'CO-1917', 'CO-1815', 'CO-1697', 'CO-2104',\n",
    "                   'CO-1787', 'CO-2294', 'CO-2298', 'CO-1757', 'CO-1751', 'CO-2128',\n",
    "                   'CO-1858', 'CO-1786', 'CO-2290', 'CO-2289', 'CO-2276', 'CO-2296',\n",
    "                   'CO-2308', 'CO-2301', 'CO-2300', 'CO-2313', 'CO-2314', 'CO-2303',\n",
    "                   'CO-1822', 'CO-1713', 'CO-2309', 'CO-2312', 'CO-2285', 'CO-2286',\n",
    "                   'CO-1922', 'CO-1707', 'CO-2299', 'CO-1701', 'CO-1721', 'CO-2339',\n",
    "                   'CO-1727', 'CO-1709', 'CO-2336', 'CO-1814', 'CO-1921', 'CO-2335',\n",
    "                   'CO-2329', 'CO-2330', 'CO-2331', 'CO-2332', 'CO-2324', 'CO-1891',\n",
    "                   'CO-2348', 'CO-2353', 'CO-2352', 'CO-2319', 'CO-2354', 'CO-2307',\n",
    "                   'CO-2321', 'CO-2323', 'CO-1692', 'CO-1693', 'CO-1841', 'CO-1837',\n",
    "                   'CO-1844', 'CO-1831', 'CO-1690', 'CO-1839', 'CO-1928', 'CO-1898',\n",
    "                   'CO-1725', 'CO-1929', 'CO-1919', 'CO-1810', 'CO-1672', 'CO-1722',\n",
    "                   'CO-1914', 'CO-1674', 'CO-1911', 'CO-1893', 'CO-1889', 'CO-1846',\n",
    "                   'CO-2291', 'CO-1908', 'CO-1711', 'CO-1801', 'CO-1719', 'CO-1805'],\n",
    "        value='Sem filtro',\n",
    "        clearable=False\n",
    "    ),\n",
    "    dcc.Graph(id=\"graph_turma\")\n",
    "])"
   ]
  },
  {
   "cell_type": "code",
   "execution_count": 103,
   "id": "71228541",
   "metadata": {},
   "outputs": [],
   "source": [
    "@app.callback(\n",
    "    Output(\"graph\", \"figure\"), \n",
    "    Input(\"dropdown\", \"value\"))\n",
    "\n",
    "def update_bar_chart(filtro):\n",
    "    if filtro == 'Sem filtro':\n",
    "        df_up = df.copy()\n",
    "    else:\n",
    "        mask = df[\"Nação\"] == filtro\n",
    "        df_up = df[mask]\n",
    "\n",
    "    fig = go.Figure(data=[\n",
    "        go.Bar(name='Leitura', x=df_up['Nome do Aluno'], y=df_up['Média Leitura']),\n",
    "        go.Bar(name='Matemática', x=df_up['Nome do Aluno'], y=df_up['Média Matemática']),\n",
    "        go.Bar(name='Redação', x=df_up['Nome do Aluno'], y=df_up['Média Redação'])\n",
    "    ])\n",
    "    fig.update_layout(barmode='stack')\n",
    "    return fig"
   ]
  },
  {
   "cell_type": "code",
   "execution_count": 104,
   "id": "762e3e20",
   "metadata": {},
   "outputs": [],
   "source": [
    "@app.callback(\n",
    "    Output(\"graph_tribo\", \"figure\"), \n",
    "    Input(\"dropdown_tribo\", \"value\"))\n",
    "\n",
    "def update_bar_chart_tribo(filtro):\n",
    "    if filtro == 'Sem filtro':\n",
    "        df_up = df.copy()\n",
    "    else:\n",
    "        mask = df[\"Tribo\"] == filtro\n",
    "        df_up = df[mask]\n",
    "\n",
    "    fig_tribo = go.Figure(data=[\n",
    "        go.Bar(name='Leitura', x=df_up['Nome do Aluno'], y=df_up['Média Leitura']),\n",
    "        go.Bar(name='Matemática', x=df_up['Nome do Aluno'], y=df_up['Média Matemática']),\n",
    "        go.Bar(name='Redação', x=df_up['Nome do Aluno'], y=df_up['Média Redação'])\n",
    "    ])\n",
    "    fig_tribo.update_layout(barmode='stack')\n",
    "    return fig_tribo"
   ]
  },
  {
   "cell_type": "code",
   "execution_count": 109,
   "id": "8a49f7d3",
   "metadata": {},
   "outputs": [],
   "source": [
    "@app.callback(\n",
    "    Output(\"graph_coletivo\", \"figure\"), \n",
    "    Input(\"dropdown_coletivo\", \"value\"))\n",
    "\n",
    "def update_bar_chart_coletivo(filtro):\n",
    "    if filtro == 'Sem filtro':\n",
    "        df_up = df.copy()\n",
    "    else:\n",
    "        mask = df[\"Coletivo\"] == filtro\n",
    "        df_up = df[mask]\n",
    "\n",
    "    fig_coletivo = go.Figure(data=[\n",
    "        go.Bar(name='Leitura', x=df_up['Nome do Aluno'], y=df_up['Média Leitura']),\n",
    "        go.Bar(name='Matemática', x=df_up['Nome do Aluno'], y=df_up['Média Matemática']),\n",
    "        go.Bar(name='Redação', x=df_up['Nome do Aluno'], y=df_up['Média Redação'])\n",
    "    ])\n",
    "    fig_coletivo.update_layout(barmode='stack')\n",
    "    return fig_coletivo"
   ]
  },
  {
   "cell_type": "code",
   "execution_count": 110,
   "id": "97f9a6be",
   "metadata": {},
   "outputs": [],
   "source": [
    "@app.callback(\n",
    "    Output(\"graph_turma\", \"figure\"), \n",
    "    Input(\"dropdown_turma\", \"value\"))\n",
    "\n",
    "def update_bar_chart_tribo(filtro):\n",
    "    if filtro == 'Sem filtro':\n",
    "        df_up = df.copy()\n",
    "    else:\n",
    "        mask = df[\"Turma\"] == filtro\n",
    "        df_up = df[mask]\n",
    "\n",
    "    fig_turma = go.Figure(data=[\n",
    "        go.Bar(name='Leitura', x=df_up['Nome do Aluno'], y=df_up['Média Leitura']),\n",
    "        go.Bar(name='Matemática', x=df_up['Nome do Aluno'], y=df_up['Média Matemática']),\n",
    "        go.Bar(name='Redação', x=df_up['Nome do Aluno'], y=df_up['Média Redação'])\n",
    "    ])\n",
    "    fig_turma.update_layout(barmode='stack')\n",
    "    return fig_turma"
   ]
  },
  {
   "cell_type": "code",
   "execution_count": 111,
   "id": "739f3625",
   "metadata": {},
   "outputs": [
    {
     "data": {
      "text/html": [
       "\n",
       "        <iframe\n",
       "            width=\"100%\"\n",
       "            height=\"650\"\n",
       "            src=\"http://127.0.0.1:8050/\"\n",
       "            frameborder=\"0\"\n",
       "            allowfullscreen\n",
       "            \n",
       "        ></iframe>\n",
       "        "
      ],
      "text/plain": [
       "<IPython.lib.display.IFrame at 0x7fd9c10bc880>"
      ]
     },
     "metadata": {},
     "output_type": "display_data"
    }
   ],
   "source": [
    "app.run_server(mode='inline')"
   ]
  }
 ],
 "metadata": {
  "kernelspec": {
   "display_name": "Python 3 (ipykernel)",
   "language": "python",
   "name": "python3"
  },
  "language_info": {
   "codemirror_mode": {
    "name": "ipython",
    "version": 3
   },
   "file_extension": ".py",
   "mimetype": "text/x-python",
   "name": "python",
   "nbconvert_exporter": "python",
   "pygments_lexer": "ipython3",
   "version": "3.9.7"
  }
 },
 "nbformat": 4,
 "nbformat_minor": 5
}
